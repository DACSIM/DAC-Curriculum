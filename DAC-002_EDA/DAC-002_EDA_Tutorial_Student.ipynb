{
 "cells": [
  {
   "cell_type": "markdown",
   "metadata": {},
   "source": [
    "# EDA TUTORIAL STUDENT COPY"
   ]
  },
  {
   "cell_type": "markdown",
   "metadata": {},
   "source": [
    "## 1. Read CSV"
   ]
  },
  {
   "cell_type": "markdown",
   "metadata": {},
   "source": [
    "### Import libraries and .CSV file"
   ]
  },
  {
   "cell_type": "code",
   "execution_count": null,
   "metadata": {},
   "outputs": [],
   "source": [
    "# ONLY if your Python Kernal does not have the relevant libraries installed\n",
    "# For MacOS, use !pip3\n",
    "# For Windows, use !pip or %pip\n",
    "\n",
    "# !pip3 install pandas\n",
    "# !pip3 install numpy\n",
    "# !pip3 install matplotlib.pyplot\n",
    "# !pip3 install seaborn"
   ]
  },
  {
   "cell_type": "code",
   "execution_count": 1,
   "metadata": {},
   "outputs": [],
   "source": [
    "# Import libraries\n",
    "import pandas as pd\n",
    "import numpy as np\n",
    "import matplotlib.pyplot as plt\n",
    "import seaborn as sns"
   ]
  },
  {
   "cell_type": "code",
   "execution_count": 2,
   "metadata": {},
   "outputs": [],
   "source": [
    "## Connect to your Netflix_Userbase.csv file on your Desktop / location you have saved the file at\n",
    "df = pd.read_csv('')"
   ]
  },
  {
   "cell_type": "markdown",
   "metadata": {},
   "source": [
    "### Preliminary checks on Dataframe"
   ]
  },
  {
   "cell_type": "code",
   "execution_count": null,
   "metadata": {},
   "outputs": [],
   "source": [
    "## Check the first 5 rows\n"
   ]
  },
  {
   "cell_type": "code",
   "execution_count": null,
   "metadata": {},
   "outputs": [],
   "source": [
    "## Check the last 10 rows (default .tail() without value inside will return last 5 rows)\n"
   ]
  },
  {
   "cell_type": "code",
   "execution_count": null,
   "metadata": {},
   "outputs": [],
   "source": [
    "## Check what columns are in DataFrame (useful for large datasets with too many columns)\n",
    "print()"
   ]
  },
  {
   "cell_type": "markdown",
   "metadata": {},
   "source": [
    "## 2. Read Data"
   ]
  },
  {
   "cell_type": "code",
   "execution_count": null,
   "metadata": {},
   "outputs": [],
   "source": [
    "## To see what types of subscriptions are available\n",
    "print()"
   ]
  },
  {
   "cell_type": "code",
   "execution_count": null,
   "metadata": {},
   "outputs": [],
   "source": [
    "## Monthly subscription? Yearly? \n",
    "print(df[''].unique())"
   ]
  },
  {
   "cell_type": "code",
   "execution_count": null,
   "metadata": {},
   "outputs": [],
   "source": [
    "## To see different subscription prices\n",
    "print(df[''].unique())"
   ]
  },
  {
   "cell_type": "code",
   "execution_count": null,
   "metadata": {},
   "outputs": [],
   "source": [
    "## Which countries are we looking at?\n",
    "print(df[''].unique())"
   ]
  },
  {
   "cell_type": "code",
   "execution_count": null,
   "metadata": {},
   "outputs": [],
   "source": [
    "# Check what type of values are stored in the Dataframe columns\n",
    "df.dtypes"
   ]
  },
  {
   "cell_type": "code",
   "execution_count": null,
   "metadata": {},
   "outputs": [],
   "source": [
    "# Number of rows VS columns\n",
    "df.shape"
   ]
  },
  {
   "cell_type": "code",
   "execution_count": null,
   "metadata": {},
   "outputs": [],
   "source": [
    "# Set the display options\n",
    "pd.options.display.float_format = '{:.3f}'.format # 3dp only\n",
    "\n",
    "## Utilise the built-in statistics tool .describe()\n"
   ]
  },
  {
   "cell_type": "markdown",
   "metadata": {},
   "source": [
    "## 3. Clean Data"
   ]
  },
  {
   "cell_type": "code",
   "execution_count": null,
   "metadata": {},
   "outputs": [],
   "source": [
    "## Check for null values i.e. empty cells in each column\n"
   ]
  },
  {
   "cell_type": "code",
   "execution_count": null,
   "metadata": {},
   "outputs": [],
   "source": [
    "# Check the number of duplicate rows\n",
    "duplicate_rows_df = df[df.duplicated()]\n",
    "print(\"Number of duplicate rows: \", duplicate_rows_df.shape)"
   ]
  },
  {
   "cell_type": "markdown",
   "metadata": {},
   "source": [
    "So we have no null or duplicated data!"
   ]
  },
  {
   "cell_type": "markdown",
   "metadata": {},
   "source": [
    "### Reformatting the columns in our DataFrame"
   ]
  },
  {
   "cell_type": "code",
   "execution_count": null,
   "metadata": {},
   "outputs": [],
   "source": [
    "# Check first 5 rows (for before/after comparison)\n",
    "df.head()"
   ]
  },
  {
   "cell_type": "code",
   "execution_count": null,
   "metadata": {},
   "outputs": [],
   "source": [
    "# Convert ['... Date'] into YYYY-MM-DD format -> More uniform data -> Easier plotting -> Better analysis\n",
    "## Utilise the .to_datetime() function to format 'Join Date' & 'Last Payment Date' into YYYY-MM-DD datetime value\n",
    "df[''] = pd.to_datetime(df[''], format = '%d-%m-%y')\n",
    "df[''] = pd.to_datetime(df[''], format = '%d-%m-%y')\n",
    "\n",
    "# The 'format' argument shows how to intepret the date strings we provided\n",
    "# Pandas always stores the date internally as YYYY-MM-DD once date is stored as datetimelike value"
   ]
  },
  {
   "cell_type": "code",
   "execution_count": null,
   "metadata": {},
   "outputs": [],
   "source": [
    "# Check Dataframe if 'Join Date' and 'Last Payment Date' columns were reformatted\n",
    "df.head()"
   ]
  },
  {
   "cell_type": "markdown",
   "metadata": {},
   "source": [
    "## 4. Visualise Data"
   ]
  },
  {
   "cell_type": "markdown",
   "metadata": {},
   "source": [
    "### 4a. Sales per Month"
   ]
  },
  {
   "cell_type": "code",
   "execution_count": null,
   "metadata": {},
   "outputs": [],
   "source": [
    "## Create a 'Payment Year-Month' column from 'Last Payment Date' column\n",
    "df[''] = df[''].dt.to_period('M').astype(str)    # .dt.to_period('M') : show format until month\n",
    "df.head()"
   ]
  },
  {
   "cell_type": "code",
   "execution_count": null,
   "metadata": {},
   "outputs": [],
   "source": [
    "## Group by 'Payment Year-Month' and sum the revenue\n",
    "monthly_revenue = df.groupby('')['Monthly Revenue'].sum().reset_index()\n",
    "\n",
    "## Convert 'Payment Year-Month' back to string for plotting purposes\n",
    "monthly_revenue[''] = monthly_revenue[''].astype(str)\n",
    "\n",
    "# Plotting the line chart for revenue over time\n",
    "plt.figure(figsize = (12, 6))\n",
    "sns.lineplot(x = 'Payment Year-Month', y = 'Monthly Revenue', data = monthly_revenue, marker = 'o', color = 'b')\n",
    "plt.title('Monthly Revenue Over Time', fontsize = 16)\n",
    "plt.xlabel('Year-Month of Payment', fontsize = 12)\n",
    "plt.ylabel('Total Monthly Revenue', fontsize = 12)\n",
    "plt.xticks(rotation = 90)  # Rotate x-axis labels for better readability\n",
    "plt.grid(True)\n",
    "plt.show()\n"
   ]
  },
  {
   "cell_type": "code",
   "execution_count": null,
   "metadata": {},
   "outputs": [],
   "source": [
    "## Create a 'Join Year-Month' column from 'Join Date' column\n",
    "df[''] = df[''].dt.to_period('M').astype(str)\n",
    "df.head()"
   ]
  },
  {
   "cell_type": "code",
   "execution_count": null,
   "metadata": {},
   "outputs": [],
   "source": [
    "## Group by 'Join Year-Month' and count the number of joins\n",
    "monthly_joins = df.groupby('').size().reset_index(name = 'Number of Joins')\n",
    "\n",
    "# Convert 'Join Year-Month' back to string for plotting purposes\n",
    "monthly_joins['Join Year-Month'] = monthly_joins['Join Year-Month'].astype(str)\n",
    "\n",
    "# Plotting the Line Chart for User Joins over time\n",
    "plt.figure(figsize = (12, 6))\n",
    "sns.lineplot(x = 'Join Year-Month', y = 'Number of Joins', data = monthly_joins, marker = 'o', color = 'g')\n",
    "\n",
    "# Set the labels\n",
    "plt.title('User Joining Trend Over Time', fontsize = 16)\n",
    "plt.xlabel('Year-Month', fontsize = 12)\n",
    "plt.ylabel('Number of Joins', fontsize = 12)\n",
    "plt.xticks(rotation = 90)  # Rotate x-axis labels for better readability\n",
    "plt.grid(True)\n",
    "plt.show()\n"
   ]
  },
  {
   "cell_type": "markdown",
   "metadata": {},
   "source": [
    "### 4b. Most Popular Subscription Type"
   ]
  },
  {
   "cell_type": "code",
   "execution_count": null,
   "metadata": {},
   "outputs": [],
   "source": [
    "## Count of each Subscription Type\n",
    "subscription_counts = df[''].value_counts()\n",
    "\n",
    "# Bar Plot of the distribution\n",
    "plt.figure(figsize = (8,5))\n",
    "sns.barplot(x = subscription_counts.index, y = subscription_counts.values, hue = subscription_counts.values, palette = \"viridis\")\n",
    "# You may exclude the hue field, seaborn will auto assign your x variable to be your hue\n",
    "\n",
    "# Set the labels\n",
    "plt.title('Distribution of Subscription Types')\n",
    "plt.xlabel('Subscription Type')\n",
    "plt.ylabel('Count')\n",
    "plt.show()"
   ]
  },
  {
   "cell_type": "markdown",
   "metadata": {},
   "source": [
    "### 4c. Gender vs Subscription Type\n",
    "Which Gender prefers which Subscription -> How can we market our product towards the specific Gender?"
   ]
  },
  {
   "cell_type": "code",
   "execution_count": null,
   "metadata": {},
   "outputs": [],
   "source": [
    "## Count Plot of Subscription Type by Gender\n",
    "plt.figure(figsize = (8,5))\n",
    "sns.countplot(x = '', hue = '', data = df, palette = 'Set3')\n",
    "\n",
    "# Set the labels\n",
    "plt.title('Subscription Type Distribution by Gender')\n",
    "plt.xlabel('Subscription Type')\n",
    "plt.ylabel('Count of Gender')\n",
    "plt.show()\n"
   ]
  },
  {
   "cell_type": "markdown",
   "metadata": {},
   "source": [
    "### 4d. Which Country uses Netflix more?"
   ]
  },
  {
   "cell_type": "code",
   "execution_count": null,
   "metadata": {},
   "outputs": [],
   "source": [
    "## Count the number of users per Country\n",
    "country_counts = df[''].value_counts()\n",
    "\n",
    "# Plot the Pie chart\n",
    "plt.figure(figsize = (8,8))\n",
    "plt.pie(country_counts, labels = country_counts.index, autopct = '%1.1f%%', startangle = 90, colors = sns.color_palette(\"Set3\", len(country_counts)))\n",
    "\n",
    "# Equal aspect ratio ensures that pie is drawn as a circle.\n",
    "plt.title('Proportion of Users by Country')\n",
    "plt.axis('equal')  \n",
    "plt.show()\n"
   ]
  },
  {
   "cell_type": "markdown",
   "metadata": {},
   "source": [
    "### 4d. Alternative Visualisation"
   ]
  },
  {
   "cell_type": "code",
   "execution_count": null,
   "metadata": {},
   "outputs": [],
   "source": [
    "# Create a variable 'sum_users_by_country', grouping them by their 'Country' label, and counting the no. of User IDs\n",
    "sum_users_by_country = df.groupby('Country')['User ID'].count().reset_index()\n",
    "sum_users_by_country.rename(columns = {'User ID': 'User Count'}, inplace = True)\n",
    "\n",
    "# Plot the bar graph\n",
    "plt.figure(figsize = (12,6))\n",
    "sns.barplot(x = 'Country', y = 'User Count', data = sum_users_by_country, hue = 'Country', palette = 'Blues_d')\n",
    "\n",
    "# Set the labels\n",
    "plt.title('Sum of Users by Country')\n",
    "plt.xlabel('Country')\n",
    "plt.ylabel('Number of Users')\n",
    "plt.xticks(rotation=30) # Rotate the labels by 30 degrees\n",
    "plt.show()"
   ]
  },
  {
   "cell_type": "markdown",
   "metadata": {},
   "source": [
    "## 5. Additional Analysis: How much did we earn in Revenue?"
   ]
  },
  {
   "cell_type": "markdown",
   "metadata": {},
   "source": [
    "### Recall: What does our df DataFrame look like?"
   ]
  },
  {
   "cell_type": "code",
   "execution_count": null,
   "metadata": {},
   "outputs": [],
   "source": [
    "## Show first 5 rows of DataFrame\n",
    "\n"
   ]
  },
  {
   "cell_type": "markdown",
   "metadata": {},
   "source": [
    "### 5a. How much is our Total Revenue?"
   ]
  },
  {
   "cell_type": "code",
   "execution_count": null,
   "metadata": {},
   "outputs": [],
   "source": [
    "# Assuming df is your DataFrame containing the relevant data\n",
    "total_revenue = df['Monthly Revenue'].sum()\n",
    "\n",
    "# Print Total Revenue to 2 decimal places\n",
    "print(f'Total Revenue: ${total_revenue:.2f}')"
   ]
  },
  {
   "cell_type": "markdown",
   "metadata": {},
   "source": [
    "### 5b. How much is our Monthly Revenue?"
   ]
  },
  {
   "cell_type": "code",
   "execution_count": null,
   "metadata": {},
   "outputs": [],
   "source": [
    "# Group by 'Payment Year-Month' and sum the Revenue\n",
    "monthly_revenue = df.groupby('Payment Year-Month')['Monthly Revenue'].sum().reset_index()\n",
    "\n",
    "# Display the Monthly Revenue\n",
    "print(monthly_revenue)"
   ]
  },
  {
   "cell_type": "markdown",
   "metadata": {},
   "source": [
    "### 5c. Revenue per Subscription Pricing Tier\n",
    "Display in (1) a Text Table, or (2) a Bar Plot"
   ]
  },
  {
   "cell_type": "markdown",
   "metadata": {},
   "source": [
    "#### Method 1: Text Table"
   ]
  },
  {
   "cell_type": "code",
   "execution_count": null,
   "metadata": {},
   "outputs": [],
   "source": [
    "# Create a variable called 'revenues', and utilise the functions .value_counts()\n",
    "revenues = df['Monthly Revenue'].value_counts().reset_index()\n",
    "\n",
    "# Call the function directly\n",
    "revenues"
   ]
  },
  {
   "cell_type": "markdown",
   "metadata": {},
   "source": [
    "#### Method 2: Bar Plot"
   ]
  },
  {
   "cell_type": "code",
   "execution_count": null,
   "metadata": {},
   "outputs": [],
   "source": [
    "# Set up a Bar Plot using Seaborn\n",
    "sns.barplot(\n",
    "    x = 'Monthly Revenue',  # Utilising the Column 'Monthly Revenue'\n",
    "    y = 'count',    # Kernals running Python 3.11 might throw an error here; switch to Python 3.9.6 or Python 3.12\n",
    "    data = revenues\n",
    ")\n",
    "\n",
    "barplot = sns.barplot()\n",
    "\n",
    "# Set the labels\n",
    "plt.xlabel('Revenue Pricing Tier')\n",
    "plt.ylabel('Number of Subcriptions')\n",
    "plt.title('Number of Subscriptons / Pricing Tier')\n",
    "\n",
    "# Add the exact total count above each bar\n",
    "for p in barplot.patches:\n",
    "    barplot.annotate(f'{int(p.get_height())}',  # Annotate with the height value\n",
    "                     (p.get_x() + p.get_width()/2., p.get_height()),  # Position on top of the bar\n",
    "                     ha = 'center', va = 'bottom',  # Center the text horizontally and place it just above the bar\n",
    "                     fontsize = 7, color = 'black',  # Set font size and color\n",
    "                     xytext = (0, 2),  # Offset the text slightly above the bar\n",
    "                     textcoords = 'offset points')\n",
    "\n",
    "plt.show()"
   ]
  },
  {
   "cell_type": "markdown",
   "metadata": {},
   "source": [
    "### Alternative to 5b. Monthly Revenue (Comment In/Out)"
   ]
  },
  {
   "cell_type": "code",
   "execution_count": 31,
   "metadata": {},
   "outputs": [],
   "source": [
    "# # Ensure 'Last Payment Date' is in datetime format\n",
    "# df['Last Payment Date'] = pd.to_datetime(df['Last Payment Date'])\n",
    "\n",
    "# # Create a new column for Year-Month (YYYY-MM)\n",
    "# df['Year-Month'] = df['Last Payment Date'].dt.to_period('M')\n",
    "\n",
    "# # Group by 'Year-Month' and sum the revenue\n",
    "# monthly_revenue = df.groupby('Year-Month')['Monthly Revenue'].sum().reset_index()\n",
    "\n",
    "# # Display the monthly revenue\n",
    "# print(monthly_revenue)"
   ]
  }
 ],
 "metadata": {
  "kernelspec": {
   "display_name": "Python 3",
   "language": "python",
   "name": "python3"
  },
  "language_info": {
   "codemirror_mode": {
    "name": "ipython",
    "version": 3
   },
   "file_extension": ".py",
   "mimetype": "text/x-python",
   "name": "python",
   "nbconvert_exporter": "python",
   "pygments_lexer": "ipython3",
   "version": "3.9.6"
  }
 },
 "nbformat": 4,
 "nbformat_minor": 2
}
