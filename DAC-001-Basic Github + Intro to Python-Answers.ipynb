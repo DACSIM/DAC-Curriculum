{
  "cells": [
    {
      "cell_type": "markdown",
      "metadata": {
        "id": "JEp3S_Tt0YPr"
      },
      "source": [
        "Introduction"
      ]
    },
    {
      "cell_type": "markdown",
      "metadata": {
        "id": "kdzTsQtK0YPu"
      },
      "source": [
        "##1. Basic Syntax and Data Types\n",
        "Comments and Print Statements"
      ]
    },
    {
      "cell_type": "code",
      "execution_count": 1,
      "metadata": {
        "id": "v-2yQ1QS0YPu",
        "colab": {
          "base_uri": "https://localhost:8080/"
        },
        "outputId": "3e2f6734-7f3c-4887-bf22-5ee4bc8c4c68"
      },
      "outputs": [
        {
          "output_type": "stream",
          "name": "stdout",
          "text": [
            "Hello World\n"
          ]
        }
      ],
      "source": [
        "# Single-line comments use the hash symbol (#).\n",
        "# Comments are useful for explaining code or for temporary debugging.\n",
        "\n",
        "# The print() function is used to display output.\n",
        "print(\"Hello World\")"
      ]
    },
    {
      "cell_type": "markdown",
      "metadata": {
        "id": "xyKWUB-Q0YPv"
      },
      "source": [
        "Numerical Data Types"
      ]
    },
    {
      "cell_type": "code",
      "execution_count": 2,
      "metadata": {
        "id": "8dNEkPQ30YPw",
        "colab": {
          "base_uri": "https://localhost:8080/"
        },
        "outputId": "b53464a0-1b2b-462e-9a02-00dfc64b3a78"
      },
      "outputs": [
        {
          "output_type": "stream",
          "name": "stdout",
          "text": [
            "SIM\n",
            "10\n",
            "4294967296\n",
            "3.14\n",
            "(2+3j)\n"
          ]
        }
      ],
      "source": [
        "# Strings represent text\n",
        "print(\"SIM\")\n",
        "\n",
        "# Integers are whole numbers\n",
        "print(10)\n",
        "\n",
        "# Long Integers (Python automatically handles big integers)\n",
        "print(2**32)\n",
        "\n",
        "# Floats represent decimal numbers\n",
        "print(3.14)\n",
        "\n",
        "# Complex Numbers use 'j' to represent the imaginary part\n",
        "print(2+3j)"
      ]
    },
    {
      "cell_type": "markdown",
      "metadata": {
        "id": "DmJBgrZy0YPw"
      },
      "source": [
        "Boolean Values"
      ]
    },
    {
      "cell_type": "code",
      "execution_count": 3,
      "metadata": {
        "id": "tUXDV62x0YPw",
        "colab": {
          "base_uri": "https://localhost:8080/"
        },
        "outputId": "ad809274-f56e-418a-f44f-dbeb7c846c80"
      },
      "outputs": [
        {
          "output_type": "stream",
          "name": "stdout",
          "text": [
            "False\n"
          ]
        }
      ],
      "source": [
        "# Boolean values represent True or False conditions\n",
        "a = 5\n",
        "b = 10 % 3  # Modulus operation gives the remainder\n",
        "c = bool(a == b)  # bool() converts the result to True or False\n",
        "print(c)"
      ]
    },
    {
      "cell_type": "markdown",
      "metadata": {
        "id": "cD2vLapu0YPw"
      },
      "source": [
        "Finding the Data Type of a Variable"
      ]
    },
    {
      "cell_type": "code",
      "execution_count": 4,
      "metadata": {
        "id": "hpGh67Wu0YPx",
        "colab": {
          "base_uri": "https://localhost:8080/"
        },
        "outputId": "2d8d001a-577c-4d66-9558-8175addc4da5"
      },
      "outputs": [
        {
          "output_type": "stream",
          "name": "stdout",
          "text": [
            "<class 'int'>\n",
            "<class 'str'>\n",
            "<class 'int'>\n"
          ]
        }
      ],
      "source": [
        "# Use type() to find the data type of a value or variable\n",
        "print(type(a))\n",
        "print(type(\"microsoft\"))\n",
        "print(type(4))"
      ]
    },
    {
      "cell_type": "markdown",
      "metadata": {
        "id": "ixpdw3X90YPx"
      },
      "source": [
        "2. Sequence Types: Strings, Lists, and Tuples"
      ]
    },
    {
      "cell_type": "markdown",
      "metadata": {
        "id": "FS4VoI660YPx"
      },
      "source": [
        "Working with Strings"
      ]
    },
    {
      "cell_type": "code",
      "execution_count": 5,
      "metadata": {
        "id": "cVENYK1E0YPx",
        "colab": {
          "base_uri": "https://localhost:8080/"
        },
        "outputId": "a3ac0007-c116-4957-96af-48605704ee6b"
      },
      "outputs": [
        {
          "output_type": "stream",
          "name": "stdout",
          "text": [
            "Full Name: Jane Doe\n",
            "Full Name: Jane Doe\n"
          ]
        }
      ],
      "source": [
        "# Creating strings\n",
        "name = \"Jane\"\n",
        "last_name = \"Doe\"\n",
        "\n",
        "# String concatenation\n",
        "print(\"Full Name: \" + name + \" \" + last_name)\n",
        "\n",
        "# String formatting using .format()\n",
        "print(\"Full Name: {0} {1}\".format(name, last_name))"
      ]
    },
    {
      "cell_type": "markdown",
      "metadata": {
        "id": "Do3QkLBS0YPy"
      },
      "source": [
        "Working with Lists"
      ]
    },
    {
      "cell_type": "code",
      "execution_count": 6,
      "metadata": {
        "id": "EhMqwM-w0YPy",
        "colab": {
          "base_uri": "https://localhost:8080/"
        },
        "outputId": "d808bd8d-9981-44e6-b817-d9ed55d0f487"
      },
      "outputs": [
        {
          "output_type": "stream",
          "name": "stdout",
          "text": [
            "[1, 'Hi']\n",
            "[50, 1, 'Hi']\n",
            "[1, 'Hi']\n"
          ]
        }
      ],
      "source": [
        "# Lists can store multiple items in a single variable\n",
        "list1 = []  # Empty list\n",
        "list2 = [\"J\", \"A\", \"N\", \"E\"]\n",
        "mixedlist = [True, \"Jane\", 173, 3.14]  # List with different data types\n",
        "\n",
        "# Adding elements to a list\n",
        "list1.append(1)\n",
        "list1.append(\"Hi\")\n",
        "print(list1)\n",
        "\n",
        "# Inserting elements at a specific position\n",
        "list1.insert(0, 50)  # Insert 50 at index 0\n",
        "print(list1)\n",
        "\n",
        "# Removing elements by value\n",
        "list1.remove(50)  # Only removes the first occurrence\n",
        "print(list1)"
      ]
    },
    {
      "cell_type": "markdown",
      "metadata": {
        "id": "UXfikxJb0YPy"
      },
      "source": [
        "Working with Tuples"
      ]
    },
    {
      "cell_type": "code",
      "execution_count": 7,
      "metadata": {
        "id": "kwrmo-XJ0YPy",
        "colab": {
          "base_uri": "https://localhost:8080/"
        },
        "outputId": "ab0df6f8-be9c-417a-e38e-af3a4d0b55fd"
      },
      "outputs": [
        {
          "output_type": "stream",
          "name": "stdout",
          "text": [
            "<class 'tuple'>\n",
            "['mother', 'father', 'sister']\n",
            "('mother', 'father', 'sister')\n"
          ]
        }
      ],
      "source": [
        "# Tuples are immutable sequences\n",
        "parents = (\"mother\", \"father\")\n",
        "print(type(parents))\n",
        "\n",
        "# Converting a tuple to a list to add elements\n",
        "tuplelist = list(parents)\n",
        "tuplelist.append(\"sister\")\n",
        "print(tuplelist)\n",
        "\n",
        "# Converting back to a tuple\n",
        "new_tuple = tuple(tuplelist)\n",
        "print(new_tuple)"
      ]
    },
    {
      "cell_type": "markdown",
      "metadata": {
        "id": "ZCXp6Jhg0YPy"
      },
      "source": [
        "3. Working with Sets"
      ]
    },
    {
      "cell_type": "code",
      "execution_count": 8,
      "metadata": {
        "id": "B5vdCq3P0YPy",
        "colab": {
          "base_uri": "https://localhost:8080/"
        },
        "outputId": "cded3d6d-130c-4745-ef98-f81952477262"
      },
      "outputs": [
        {
          "output_type": "stream",
          "name": "stdout",
          "text": [
            "{'penguins', 'lions', 'flamingos', 'pandas'}\n",
            "{'penguins', 'lions', 'rhinos', 'flamingos', 'pandas'}\n",
            "{'lions', 'rhinos', 'flamingos', 'pandas'}\n"
          ]
        }
      ],
      "source": [
        "# Sets store unique elements and are unordered\n",
        "x = {\"pandas\", \"lions\", \"penguins\", \"flamingos\", \"pandas\"}\n",
        "print(x)\n",
        "\n",
        "# Adding elements to a set\n",
        "x.add(\"rhinos\")\n",
        "print(x)\n",
        "\n",
        "# Removing elements from a set\n",
        "x.remove(\"penguins\")\n",
        "print(x)"
      ]
    },
    {
      "cell_type": "markdown",
      "metadata": {
        "id": "fEkjRhbC0YPy"
      },
      "source": [
        "4. Working with Dictionaries"
      ]
    },
    {
      "cell_type": "code",
      "execution_count": 9,
      "metadata": {
        "id": "YJCVMWae0YPy",
        "colab": {
          "base_uri": "https://localhost:8080/"
        },
        "outputId": "d76e6bbc-a562-4533-91f8-ccdc860802f5"
      },
      "outputs": [
        {
          "output_type": "stream",
          "name": "stdout",
          "text": [
            "{'first_name': 'Richard', 'last_name': 'Anderson', 'age': 45, 'tattoos': True}\n",
            "Anderson\n",
            "First Name:  Richard\n"
          ]
        }
      ],
      "source": [
        "# Creating a dictionary\n",
        "Richard = {\n",
        "    \"first_name\": \"Richard\",\n",
        "    \"last_name\": \"Anderson\",\n",
        "    \"age\": 45,\n",
        "    \"tattoos\": True\n",
        "}\n",
        "print(Richard)\n",
        "\n",
        "# Accessing dictionary values\n",
        "print(Richard['last_name'])\n",
        "\n",
        "# Using the get method\n",
        "first_name = Richard.get(\"first_name\")\n",
        "print(\"First Name: \", first_name)"
      ]
    },
    {
      "cell_type": "markdown",
      "metadata": {
        "id": "v3J7hgZY0YPy"
      },
      "source": [
        "1. Conditional Statements"
      ]
    },
    {
      "cell_type": "markdown",
      "metadata": {
        "id": "w0bTPKnF0YPy"
      },
      "source": [
        "If Statement with String Formatting"
      ]
    },
    {
      "cell_type": "code",
      "execution_count": 10,
      "metadata": {
        "id": "YOytItTP0YPy",
        "colab": {
          "base_uri": "https://localhost:8080/"
        },
        "outputId": "5f3d113c-cf0f-4e54-a22e-22cc61674bb8"
      },
      "outputs": [
        {
          "output_type": "stream",
          "name": "stdout",
          "text": [
            "3 is lesser than 5\n"
          ]
        }
      ],
      "source": [
        "a = 5\n",
        "b = 3\n",
        "\n",
        "# If b is less than a, print the formatted string\n",
        "if b < a:\n",
        "    print(\"{1} is lesser than {0}\".format(a, b))\n"
      ]
    },
    {
      "cell_type": "markdown",
      "metadata": {
        "id": "aZtCeATJ0YPz"
      },
      "source": [
        "Else Statement"
      ]
    },
    {
      "cell_type": "code",
      "execution_count": 11,
      "metadata": {
        "id": "Gnsnpkpo0YPz",
        "colab": {
          "base_uri": "https://localhost:8080/"
        },
        "outputId": "5dbf1c2d-e21a-44a5-daac-eed95cb2780b"
      },
      "outputs": [
        {
          "output_type": "stream",
          "name": "stdout",
          "text": [
            "3 is lesser than 5\n"
          ]
        }
      ],
      "source": [
        "a = 5\n",
        "b = 3\n",
        "\n",
        "# If a is less than b, execute the first print statement, otherwise execute the else block\n",
        "if a < b:\n",
        "    print(\"{1} is not lesser than {0}\".format(a, b))\n",
        "else:\n",
        "    print(\"{1} is lesser than {0}\".format(a, b))\n"
      ]
    },
    {
      "cell_type": "markdown",
      "metadata": {
        "id": "7gGzsQcx0YPz"
      },
      "source": [
        "Elif Statement"
      ]
    },
    {
      "cell_type": "code",
      "execution_count": 12,
      "metadata": {
        "id": "V2zzPm2V0YPz",
        "colab": {
          "base_uri": "https://localhost:8080/"
        },
        "outputId": "8cd6493e-4f01-4000-aaab-980dffcb8ed1"
      },
      "outputs": [
        {
          "output_type": "stream",
          "name": "stdout",
          "text": [
            "a and c are equal\n"
          ]
        }
      ],
      "source": [
        "a = 5\n",
        "b = 3\n",
        "c = 5\n",
        "\n",
        "# Check multiple conditions using elif (else-if)\n",
        "if a < c:\n",
        "    print(\"{1} is lesser than {0}\".format(a, c))\n",
        "elif a > c:\n",
        "    print(\"{1} is not lesser than {0}\".format(a, c))\n",
        "else:\n",
        "    print(\"a and c are equal\")\n"
      ]
    },
    {
      "cell_type": "markdown",
      "metadata": {
        "id": "yOXyVdxh0YPz"
      },
      "source": [
        "2. The range() Function\n",
        "Using range() in a Loop"
      ]
    },
    {
      "cell_type": "code",
      "execution_count": 13,
      "metadata": {
        "id": "oUhGT5-u0YPz",
        "colab": {
          "base_uri": "https://localhost:8080/"
        },
        "outputId": "549b23e8-fd02-40d7-bbe3-85bce921a511"
      },
      "outputs": [
        {
          "output_type": "stream",
          "name": "stdout",
          "text": [
            "0\n",
            "1\n",
            "2\n",
            "3\n",
            "4\n"
          ]
        }
      ],
      "source": [
        "# A simple for loop that iterates over a range of numbers from 0 to 4\n",
        "for i in range(5):\n",
        "    print(i)\n"
      ]
    },
    {
      "cell_type": "markdown",
      "metadata": {
        "id": "CufYhBfR0YPz"
      },
      "source": [
        "Creating a List Using range()"
      ]
    },
    {
      "cell_type": "code",
      "execution_count": 14,
      "metadata": {
        "id": "1cUShSBH0YPz",
        "colab": {
          "base_uri": "https://localhost:8080/"
        },
        "outputId": "1bfd56a0-b40e-4123-af82-e87a7e27c919"
      },
      "outputs": [
        {
          "output_type": "stream",
          "name": "stdout",
          "text": [
            "[0, 1, 2, 3, 4, 5, 6, 7, 8, 9]\n"
          ]
        }
      ],
      "source": [
        "# Creating a list of numbers from 0 to 9\n",
        "listr = list(range(10))\n",
        "print(listr)\n"
      ]
    },
    {
      "cell_type": "markdown",
      "metadata": {
        "id": "3XMFOpZK0YPz"
      },
      "source": [
        "List with Step Argument\n",
        "\n"
      ]
    },
    {
      "cell_type": "code",
      "execution_count": 15,
      "metadata": {
        "id": "WA1a-VVe0YPz",
        "colab": {
          "base_uri": "https://localhost:8080/"
        },
        "outputId": "e2dc5db1-2d74-4d6b-a019-3ffd8afcff05"
      },
      "outputs": [
        {
          "output_type": "stream",
          "name": "stdout",
          "text": [
            "[5, 4, 3, 2, 1, 0, -1, -2, -3, -4]\n"
          ]
        }
      ],
      "source": [
        "# Creating a list starting from 5, ending at -5, with a step of -1\n",
        "list_s = list(range(5, -5, -1))\n",
        "print(list_s)\n"
      ]
    },
    {
      "cell_type": "markdown",
      "metadata": {
        "id": "FGXwBeXB0YPz"
      },
      "source": [
        "3. Loop Control Statements"
      ]
    },
    {
      "cell_type": "code",
      "execution_count": 16,
      "metadata": {
        "id": "nS2GB7vh0YPz",
        "colab": {
          "base_uri": "https://localhost:8080/"
        },
        "outputId": "adb254bc-bf7e-4b63-8028-9e8a45c42c0d"
      },
      "outputs": [
        {
          "output_type": "stream",
          "name": "stdout",
          "text": [
            "1\n",
            "2\n",
            "3\n",
            "4\n",
            "5\n",
            "6\n",
            "7\n",
            "8\n",
            "9\n",
            "10\n",
            "The while loop ends here\n"
          ]
        }
      ],
      "source": [
        "# Breaks the loop when n becomes greater than 10\n",
        "n = 1\n",
        "while n <= 100:\n",
        "    print(n)\n",
        "    n += 1\n",
        "    if n > 10:\n",
        "        break\n",
        "print(\"The while loop ends here\")\n"
      ]
    },
    {
      "cell_type": "markdown",
      "metadata": {
        "id": "zwNaJQTz0YPz"
      },
      "source": [
        "continue Statement"
      ]
    },
    {
      "cell_type": "code",
      "execution_count": 17,
      "metadata": {
        "id": "ZIJIIRSS0YPz",
        "colab": {
          "base_uri": "https://localhost:8080/"
        },
        "outputId": "6b8d47f2-aaf4-40d9-a751-08a1bb97d435"
      },
      "outputs": [
        {
          "output_type": "stream",
          "name": "stdout",
          "text": [
            "Printed number: 0\n",
            "Printed number: 1\n",
            "Printed number: 2\n",
            "Printed number: 3\n",
            "Printed number: 5\n",
            "Loop ends here\n"
          ]
        }
      ],
      "source": [
        "# Skips the iteration when num equals 4\n",
        "for num in range(6):\n",
        "    if num == 4:\n",
        "        continue\n",
        "    print(\"Printed number: {0}\".format(num))\n",
        "print(\"Loop ends here\")"
      ]
    },
    {
      "cell_type": "markdown",
      "metadata": {
        "id": "LJ4kduRV0YPz"
      },
      "source": [
        "pass Statement"
      ]
    },
    {
      "cell_type": "code",
      "execution_count": 18,
      "metadata": {
        "id": "QXb_9S0V0YP0",
        "colab": {
          "base_uri": "https://localhost:8080/"
        },
        "outputId": "005475c1-6de7-49b7-8c5a-87ea8b70876a"
      },
      "outputs": [
        {
          "output_type": "stream",
          "name": "stdout",
          "text": [
            "Printed number is: 0\n",
            "Printed number is: 1\n",
            "Printed number is: 2\n",
            "Printed number is: 3\n",
            "Printed number is: 4\n",
            "Printed number is: 5\n",
            "Out of loop\n"
          ]
        }
      ],
      "source": [
        "# `pass` does nothing, but it allows the loop to continue normally\n",
        "for num in range(6):\n",
        "    if num == 4:\n",
        "        pass\n",
        "    print(\"Printed number is: {0}\".format(num))\n",
        "print(\"Out of loop\")\n"
      ]
    },
    {
      "cell_type": "markdown",
      "metadata": {
        "id": "T6-IOUm20YP4"
      },
      "source": [
        "4. Working with Dictionaries\n",
        "Creating a Dictionary"
      ]
    },
    {
      "cell_type": "code",
      "execution_count": 19,
      "metadata": {
        "id": "VqoCdg0z0YP4",
        "colab": {
          "base_uri": "https://localhost:8080/"
        },
        "outputId": "4f26e5c4-f73a-4e3d-aaca-3f650fe2fb72"
      },
      "outputs": [
        {
          "output_type": "stream",
          "name": "stdout",
          "text": [
            "{'first_name': 'Richard', 'last_name': 'Anderson', 'age': 45, 'tattoos': True}\n"
          ]
        }
      ],
      "source": [
        "Richard = {\n",
        "    \"first_name\": \"Richard\",\n",
        "    \"last_name\": \"Anderson\",\n",
        "    \"age\": 45,\n",
        "    \"tattoos\": True\n",
        "}\n",
        "print(Richard)\n"
      ]
    },
    {
      "cell_type": "markdown",
      "metadata": {
        "id": "AC6ybA0w0YP4"
      },
      "source": [
        "Getting All Keys and Values"
      ]
    },
    {
      "cell_type": "code",
      "execution_count": 20,
      "metadata": {
        "id": "__4K12mg0YP4",
        "colab": {
          "base_uri": "https://localhost:8080/"
        },
        "outputId": "a92ccabc-5816-406e-a7cf-21cc807be6f8"
      },
      "outputs": [
        {
          "output_type": "stream",
          "name": "stdout",
          "text": [
            "dict_keys(['first_name', 'last_name', 'age', 'tattoos'])\n",
            "dict_values(['Richard', 'Anderson', 45, True])\n"
          ]
        }
      ],
      "source": [
        "# Retrieving all keys\n",
        "keys = Richard.keys()\n",
        "print(keys)  # Output: dict_keys(['first_name', 'last_name', 'age', 'tattoos'])\n",
        "\n",
        "# Retrieving all values\n",
        "values = Richard.values()\n",
        "print(values)\n"
      ]
    },
    {
      "cell_type": "markdown",
      "metadata": {
        "id": "zbSZHV1c0YP5"
      },
      "source": [
        "Iterating Through Dictionary Items"
      ]
    },
    {
      "cell_type": "code",
      "execution_count": 21,
      "metadata": {
        "id": "P-I18FlJ0YP5",
        "colab": {
          "base_uri": "https://localhost:8080/"
        },
        "outputId": "7b30e16f-887b-4217-b293-58eb8bc5e312"
      },
      "outputs": [
        {
          "output_type": "stream",
          "name": "stdout",
          "text": [
            "key = first_name, value = Richard\n",
            "key = last_name, value = Anderson\n",
            "key = age, value = 45\n",
            "key = tattoos, value = True\n"
          ]
        }
      ],
      "source": [
        "# Iterating through keys and values\n",
        "for key, value in Richard.items():\n",
        "    print(f\"key = {key}, value = {value}\")\n"
      ]
    },
    {
      "cell_type": "markdown",
      "metadata": {
        "id": "nDZjj7dQ0YP5"
      },
      "source": [
        "Nested Dictionary Example"
      ]
    },
    {
      "cell_type": "code",
      "execution_count": 22,
      "metadata": {
        "id": "myq6oC8H0YP5",
        "colab": {
          "base_uri": "https://localhost:8080/"
        },
        "outputId": "605fe891-e4b8-443f-ad85-885d13709119"
      },
      "outputs": [
        {
          "output_type": "stream",
          "name": "stdout",
          "text": [
            "{'name': 'Ryan', 'grade': 12, 'score': {'english': 87, 'math': 90, 'science': 95, 'mother tongue': 55}}\n",
            "dict_keys(['english', 'math', 'science', 'mother tongue'])\n"
          ]
        }
      ],
      "source": [
        "sch_rec = {\n",
        "    \"name\": \"Ryan\",\n",
        "    \"grade\": 12,\n",
        "    \"score\": {\n",
        "        \"english\": 87,\n",
        "        \"math\": 90,\n",
        "        \"science\": 95,\n",
        "        \"mother tongue\": 55\n",
        "    }\n",
        "}\n",
        "print(sch_rec)\n",
        "\n",
        "# Accessing nested keys\n",
        "keys_nested = sch_rec['score'].keys()\n",
        "print(keys_nested)\n"
      ]
    },
    {
      "cell_type": "markdown",
      "metadata": {
        "id": "qFwEZhNb0YP5"
      },
      "source": [
        "5. Functions\n",
        "Defining and Calling a Function"
      ]
    },
    {
      "cell_type": "code",
      "execution_count": 23,
      "metadata": {
        "id": "SVRYJkNQ0YP5",
        "colab": {
          "base_uri": "https://localhost:8080/"
        },
        "outputId": "9a7cf2cc-422d-4a33-e19e-3cf511d74fe4"
      },
      "outputs": [
        {
          "output_type": "stream",
          "name": "stdout",
          "text": [
            "12\n"
          ]
        }
      ],
      "source": [
        "# Define a simple addition function\n",
        "def addition(num1, num2):\n",
        "    total = num1 + num2\n",
        "    return total\n",
        "\n",
        "# Call the function\n",
        "result = addition(5, 7)\n",
        "print(result)\n"
      ]
    },
    {
      "cell_type": "markdown",
      "metadata": {
        "id": "KIdydWG_0YP5"
      },
      "source": [
        "Defining a Palindrome Function\n"
      ]
    },
    {
      "cell_type": "code",
      "execution_count": 24,
      "metadata": {
        "id": "VI0RbtUi0YP5",
        "colab": {
          "base_uri": "https://localhost:8080/"
        },
        "outputId": "6f9cc421-58cc-4374-a692-5aaf7e6bc7e0"
      },
      "outputs": [
        {
          "output_type": "stream",
          "name": "stdout",
          "text": [
            "True\n"
          ]
        }
      ],
      "source": [
        "# Function to check if a word is a palindrome\n",
        "def is_palindrome(word):\n",
        "    word = word.lower().replace(\" \", \"\")  # Convert to lowercase and remove spaces\n",
        "    return word == word[::-1]  # Check if the word is the same when reversed\n",
        "\n",
        "# Check if \"taco cat\" is a palindrome\n",
        "print(is_palindrome(\"taco cat\"))\n"
      ]
    },
    {
      "cell_type": "markdown",
      "metadata": {
        "id": "FH0YSenB0YP5"
      },
      "source": [
        "Magic 8-Ball Function\n",
        "\n"
      ]
    },
    {
      "cell_type": "code",
      "execution_count": 25,
      "metadata": {
        "id": "m4y0jhF_0YP5",
        "colab": {
          "base_uri": "https://localhost:8080/"
        },
        "outputId": "c30d8e9a-0ddb-409c-8be6-04bac47b06a5"
      },
      "outputs": [
        {
          "output_type": "stream",
          "name": "stdout",
          "text": [
            "Question: Is it worthwhile to join DAC?\n",
            "Magic 8-Ball says: Yes\n"
          ]
        }
      ],
      "source": [
        "import random\n",
        "\n",
        "# Function to simulate a magic 8-ball response\n",
        "def magic_8_ball():\n",
        "    responses = [\n",
        "        \"Yes\", \"No\", \"It is certain\", \"Without a doubt\",\n",
        "        \"Reply hazy, try again\", \"Don't count on it\",\n",
        "        \"My sources say no\", \"Outlook not so good\", \"Very doubtful\",\n",
        "        \"You may rely on it\"\n",
        "    ]\n",
        "    return random.choice(responses)\n",
        "\n",
        "# Example usage\n",
        "question = \"Is it worthwhile to join DAC?\"\n",
        "answer = magic_8_ball()\n",
        "print(f\"Question: {question}\")\n",
        "print(f\"Magic 8-Ball says: {answer}\")\n"
      ]
    }
  ],
  "metadata": {
    "kernelspec": {
      "display_name": "Python 3",
      "language": "python",
      "name": "python3"
    },
    "language_info": {
      "codemirror_mode": {
        "name": "ipython",
        "version": 3
      },
      "file_extension": ".py",
      "mimetype": "text/x-python",
      "name": "python",
      "nbconvert_exporter": "python",
      "pygments_lexer": "ipython3",
      "version": "3.11.5"
    },
    "colab": {
      "provenance": []
    }
  },
  "nbformat": 4,
  "nbformat_minor": 0
}