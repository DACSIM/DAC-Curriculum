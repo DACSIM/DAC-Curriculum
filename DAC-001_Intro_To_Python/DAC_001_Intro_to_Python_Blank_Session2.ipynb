{
  "cells": [
    {
      "cell_type": "markdown",
      "source": [
        "# DACademy Session 2: Continuation of Intro to Python\n"
      ],
      "metadata": {
        "id": "XB1Co0jipXyX"
      }
    },
    {
      "cell_type": "markdown",
      "source": [
        "### Working with Dictionaries\n",
        "* used to store data values in key : value pairs\n",
        "* collection which is ordered, changeable, does not allow duplicates\n",
        "* Real - Life Examples: storing submitted personal data (name, age, date of birth etc.)\n",
        "\n"
      ],
      "metadata": {
        "id": "9CjKnsi6a4bx"
      }
    },
    {
      "cell_type": "code",
      "source": [
        "# Empty Dictionary\n",
        "\n"
      ],
      "metadata": {
        "id": "CQYQ_s9EfPce"
      },
      "execution_count": null,
      "outputs": []
    },
    {
      "cell_type": "markdown",
      "metadata": {
        "id": "T6-IOUm20YP4"
      },
      "source": [
        "Creating a Dictionary"
      ]
    },
    {
      "cell_type": "code",
      "execution_count": null,
      "metadata": {
        "id": "VqoCdg0z0YP4",
        "colab": {
          "base_uri": "https://localhost:8080/"
        },
        "outputId": "4dd4c318-91d5-4b0c-eff5-d146ad475caa"
      },
      "outputs": [
        {
          "output_type": "stream",
          "name": "stdout",
          "text": [
            "{'first_name': 'Kaavya', 'last_name': 'M', 'age': 22, 'tattoos': False}\n"
          ]
        }
      ],
      "source": [
        "# Let's create a dictionary for your information\n",
        "\n",
        " = {\n",
        "    \"first_name\": \"\",\n",
        "    \"last_name\": \"\",\n",
        "    \"age\": ,\n",
        "    \"tattoos\":\n",
        "}\n",
        "\n",
        "# Print your information\n",
        "\n"
      ]
    },
    {
      "cell_type": "code",
      "source": [
        "#Let's print your last name\n"
      ],
      "metadata": {
        "colab": {
          "base_uri": "https://localhost:8080/",
          "height": 35
        },
        "id": "hcMqbuRyflGf",
        "outputId": "8db5c897-2d72-417f-a45d-0ee7dbf9601c"
      },
      "execution_count": null,
      "outputs": [
        {
          "output_type": "execute_result",
          "data": {
            "text/plain": [
              "'M'"
            ],
            "application/vnd.google.colaboratory.intrinsic+json": {
              "type": "string"
            }
          },
          "metadata": {},
          "execution_count": 4
        }
      ]
    },
    {
      "cell_type": "code",
      "source": [
        "#Len Function for your name\n"
      ],
      "metadata": {
        "colab": {
          "base_uri": "https://localhost:8080/"
        },
        "id": "Q2tMLWrmfw6g",
        "outputId": "ebce5490-1dee-4a53-ca08-e12b59d2be0b"
      },
      "execution_count": null,
      "outputs": [
        {
          "output_type": "stream",
          "name": "stdout",
          "text": [
            "4\n"
          ]
        }
      ]
    },
    {
      "cell_type": "code",
      "source": [
        "#Let's find out what happens when a value not found in dictionary\n",
        "\n",
        "\n",
        "\n",
        "\n",
        ""
      ],
      "metadata": {
        "colab": {
          "base_uri": "https://localhost:8080/"
        },
        "id": "8OKp7y9rgzFP",
        "outputId": "d0c27452-ab8f-4a97-aa5f-5e42dbfc1c19"
      },
      "execution_count": null,
      "outputs": [
        {
          "output_type": "stream",
          "name": "stdout",
          "text": [
            "User has no email\n"
          ]
        }
      ]
    },
    {
      "cell_type": "markdown",
      "metadata": {
        "id": "v3J7hgZY0YPy"
      },
      "source": [
        "## Python Syntax"
      ]
    },
    {
      "cell_type": "markdown",
      "source": [
        "###Introduction"
      ],
      "metadata": {
        "id": "Zg9fo_epqrZG"
      }
    },
    {
      "cell_type": "markdown",
      "metadata": {
        "id": "w0bTPKnF0YPy"
      },
      "source": [
        "If Statement with String Formatting"
      ]
    },
    {
      "cell_type": "code",
      "execution_count": null,
      "metadata": {
        "id": "YOytItTP0YPy",
        "colab": {
          "base_uri": "https://localhost:8080/"
        },
        "outputId": "f42ba258-6738-4001-cfd9-965e6321a7a6"
      },
      "outputs": [
        {
          "output_type": "stream",
          "name": "stdout",
          "text": [
            "3 is less than 5\n"
          ]
        }
      ],
      "source": [
        "# Let's start by defining a & b, and assigning them values\n",
        "a =\n",
        "b =\n",
        "\n",
        "# Next let's check if b is less than a\n",
        " # It is important to include the indentation, this code will only run when b < a"
      ]
    },
    {
      "cell_type": "markdown",
      "metadata": {
        "id": "aZtCeATJ0YPz"
      },
      "source": [
        "Else Statement"
      ]
    },
    {
      "cell_type": "code",
      "execution_count": null,
      "metadata": {
        "id": "Gnsnpkpo0YPz",
        "colab": {
          "base_uri": "https://localhost:8080/"
        },
        "outputId": "6051de59-08ec-484b-a584-ca186c19b9fd"
      },
      "outputs": [
        {
          "output_type": "stream",
          "name": "stdout",
          "text": [
            "5 is greater than or equal to 3\n"
          ]
        }
      ],
      "source": [
        "# define a & b, and assign them values\n",
        "a =\n",
        "b =\n",
        "\n",
        "# Check if a is less than b\n",
        "\n",
        "  # If a is less than b, print this message\n",
        "\n",
        "else:\n",
        "  # Otherwise, print this message\n",
        ""
      ]
    },
    {
      "cell_type": "markdown",
      "metadata": {
        "id": "7gGzsQcx0YPz"
      },
      "source": [
        "Elif Statement"
      ]
    },
    {
      "cell_type": "code",
      "execution_count": null,
      "metadata": {
        "id": "V2zzPm2V0YPz",
        "colab": {
          "base_uri": "https://localhost:8080/"
        },
        "outputId": "03536b11-374f-4791-9846-22e1f9496b00"
      },
      "outputs": [
        {
          "output_type": "stream",
          "name": "stdout",
          "text": [
            "a and c are equal\n"
          ]
        }
      ],
      "source": [
        "# Define and assign values to three variables: a, b, and c\n",
        "a =\n",
        "b =\n",
        "c =\n",
        "\n",
        "# This code checks against three different conditions\n",
        "\n",
        "    # If a is less than c, print this message\n",
        "\n",
        "\n",
        "    # If a is greater than c, print this message\n",
        "\n",
        "\n",
        "    # If a and c are equal, print this message\n",
        ""
      ]
    },
    {
      "cell_type": "markdown",
      "source": [
        "###Range"
      ],
      "metadata": {
        "id": "9ztQ8lOSXRi4"
      }
    },
    {
      "cell_type": "markdown",
      "metadata": {
        "id": "CufYhBfR0YPz"
      },
      "source": [
        "Creating a List Using range()"
      ]
    },
    {
      "cell_type": "code",
      "execution_count": null,
      "metadata": {
        "id": "1cUShSBH0YPz",
        "colab": {
          "base_uri": "https://localhost:8080/"
        },
        "outputId": "7048e225-d47d-4695-8330-de136130e128"
      },
      "outputs": [
        {
          "output_type": "stream",
          "name": "stdout",
          "text": [
            "[0, 1, 2, 3, 4, 5, 6, 7, 8, 9]\n"
          ]
        }
      ],
      "source": [
        "# This function will create a list of numbers from 0 to 9\n",
        "\n",
        "\n"
      ]
    },
    {
      "cell_type": "markdown",
      "metadata": {
        "id": "3XMFOpZK0YPz"
      },
      "source": [
        "Creating Lists with a Step Argument\n"
      ]
    },
    {
      "cell_type": "code",
      "execution_count": null,
      "metadata": {
        "id": "WA1a-VVe0YPz",
        "colab": {
          "base_uri": "https://localhost:8080/"
        },
        "outputId": "c2f3d450-0bb7-4de8-bdfa-4a045b8fa7a2"
      },
      "outputs": [
        {
          "output_type": "stream",
          "name": "stdout",
          "text": [
            "[5, 4, 3, 2, 1, 0, -1, -2, -3, -4]\n"
          ]
        }
      ],
      "source": [
        "# Let's create a list starting from 5 and ending at -5, with a step of -1\n",
        "\n",
        "\n"
      ]
    },
    {
      "cell_type": "markdown",
      "source": [
        "### Loops\n",
        "\n",
        "\n"
      ],
      "metadata": {
        "id": "f4lquamxW_Xs"
      }
    },
    {
      "cell_type": "markdown",
      "metadata": {
        "id": "yOXyVdxh0YPz"
      },
      "source": [
        "The range() Function: Understanding Its Role in Loop Iteration"
      ]
    },
    {
      "cell_type": "code",
      "execution_count": null,
      "metadata": {
        "id": "oUhGT5-u0YPz",
        "colab": {
          "base_uri": "https://localhost:8080/"
        },
        "outputId": "d4d856ea-86ff-4d80-ff47-94f17a7b3c13"
      },
      "outputs": [
        {
          "output_type": "stream",
          "name": "stdout",
          "text": [
            "0\n",
            "1\n",
            "2\n",
            "3\n",
            "4\n"
          ]
        }
      ],
      "source": [
        "# Now let's do a simple for loop that iterates over a range of numbers from 0 to 4\n",
        "\n",
        "    # Print the current value of i\n",
        "\n",
        "\n",
        "# Loop functions are usually used to make things more efficient:\n",
        "# They allow you to perform actions on multiple items without writing repetitive code."
      ]
    },
    {
      "cell_type": "markdown",
      "source": [
        "-"
      ],
      "metadata": {
        "id": "D0lCNWxaALyt"
      }
    },
    {
      "cell_type": "markdown",
      "source": [
        "**While Loop vs. For Loop**\n",
        "\n",
        "**While Loop:** Used when the number of iterations is not known in advance. It continues to execute as long as a specified condition is True.\n",
        "\n",
        "  *   Useful for situations where you don’t know how many times you need to iterate (e.g., reading user input until a certain command is given).\n",
        "\n",
        "\n",
        "\n",
        "\n",
        "**For Loop:** Used to iterate over a sequence (like a list, tuple, string, or range). It executes a fixed number of iterations, determined by the sequence length.\n",
        " *   Ideal for going through a known set of items (e.g., processing each item in a list)\n",
        "\n",
        "\n"
      ],
      "metadata": {
        "id": "ce1PB-8b9VqB"
      }
    },
    {
      "cell_type": "markdown",
      "source": [
        "-"
      ],
      "metadata": {
        "id": "XZvKtrxrAJVM"
      }
    },
    {
      "cell_type": "markdown",
      "metadata": {
        "id": "FGXwBeXB0YPz"
      },
      "source": [
        "**Loop Control Statements**"
      ]
    },
    {
      "cell_type": "markdown",
      "source": [
        "The following commands help you manage **loops**, which are **like instructions that repeat until you tell them to stop.**\n",
        "\n",
        "\n",
        "1. Break statement\n",
        "2. Continue statement\n",
        "3. Pass statement\n",
        "\n",
        "\n",
        "*   **Break**: This command stops the loop completely. You use it when you want to exit the loop early, like if you found what you were looking for or if something isn’t right.\n",
        "\n",
        "*   **Continue**: This command tells the loop to skip the rest of the current step and jump straight to the next round of instructions. You use it when you want to move on without finishing what was just started.\n",
        "\n",
        "*   **Pass**: This command tells the loop to skip the current step without doing anything and move on to the next one. You might use it when you want to ignore a certain part of the loop but still keep the loop going.\n",
        "\n",
        "\n",
        "\n",
        "\n",
        "\n",
        "\n",
        "\n",
        "\n",
        "\n",
        "\n",
        "They are mostly used to improve efficiency of the loop."
      ],
      "metadata": {
        "id": "sCpsVsMz9OJj"
      }
    },
    {
      "cell_type": "markdown",
      "source": [
        "Break statement: When external condition is triggered, you can exit the loop"
      ],
      "metadata": {
        "id": "3jwkcz2s5Cur"
      }
    },
    {
      "cell_type": "code",
      "execution_count": null,
      "metadata": {
        "id": "nS2GB7vh0YPz",
        "colab": {
          "base_uri": "https://localhost:8080/"
        },
        "outputId": "bdcac53b-c405-4882-c40c-0dbf10a10adb"
      },
      "outputs": [
        {
          "output_type": "stream",
          "name": "stdout",
          "text": [
            "1\n",
            "2\n",
            "3\n",
            "4\n",
            "5\n",
            "6\n",
            "7\n",
            "8\n",
            "9\n",
            "10\n",
            "The while loop ends here\n"
          ]
        }
      ],
      "source": [
        "# This is a while loop that prints numbers from 1 to 100.\n",
        "# The loop continues as long as n is less than or equal to 100.\n",
        "\n",
        "  # Initialize n to 1\n",
        "  # The loop will continue while n is less than or equal to 100\n",
        "    # Print the current value of n\n",
        "      # Increment n by 1\n",
        "     # If n is greater than 10, exit the loop\n",
        "         # Exit the loop\n",
        "\n",
        "print(\"The while loop ends here\")  # Indicate that the loop has finished"
      ]
    },
    {
      "cell_type": "markdown",
      "metadata": {
        "id": "zwNaJQTz0YPz"
      },
      "source": [
        "Continue Statement: When the external condition is triggered, you can skip over that part of the loop to complete the loop"
      ]
    },
    {
      "cell_type": "code",
      "execution_count": null,
      "metadata": {
        "id": "ZIJIIRSS0YPz",
        "colab": {
          "base_uri": "https://localhost:8080/"
        },
        "outputId": "a37eaa09-60d1-444c-93a0-4302d4eef964"
      },
      "outputs": [
        {
          "output_type": "stream",
          "name": "stdout",
          "text": [
            "Printed number: 0\n",
            "Printed number: 1\n",
            "Printed number: 2\n",
            "Printed number: 3\n",
            "Printed number: 5\n",
            "Loop ends here\n"
          ]
        }
      ],
      "source": [
        "# This is a for loop that iterates through numbers from 0 to 5.\n",
        "\n",
        "  # Loop through numbers 0 to 5\n",
        "     # If the current number is 4, skip to the next iteration\n",
        "\n",
        "      # Print the current number\n",
        "\n",
        "print(\"Loop ends here\")  # Indicate that the loop has finished"
      ]
    },
    {
      "cell_type": "markdown",
      "metadata": {
        "id": "LJ4kduRV0YPz"
      },
      "source": [
        "Pass Statement"
      ]
    },
    {
      "cell_type": "code",
      "execution_count": null,
      "metadata": {
        "id": "QXb_9S0V0YP0",
        "colab": {
          "base_uri": "https://localhost:8080/"
        },
        "outputId": "67ee28e2-bd40-41d8-f89b-277a931060b1"
      },
      "outputs": [
        {
          "output_type": "stream",
          "name": "stdout",
          "text": [
            "Printed number is: 0\n",
            "Printed number is: 1\n",
            "Printed number is: 2\n",
            "Printed number is: 3\n",
            "Printed number is: 4\n",
            "Printed number is: 5\n",
            "Out of loop\n"
          ]
        }
      ],
      "source": [
        "# This is a for loop that iterates through numbers from 0 to 5.\n",
        "\n",
        "  # Loop through numbers 0 to 5\n",
        "      # If the current number is 4, do nothing\n",
        "          # This means to skip any action for this iteration\n",
        "      # Print the current number\n",
        "\n",
        "print(\"Out of loop\")  # Indicate that the loop has finished"
      ]
    },
    {
      "cell_type": "code",
      "source": [
        "#using len with index\n",
        "list_a = [\"hi\",\"my\",\"name\",\"is\",\"Jeff\",\"Phone no:\",12345678]\n",
        "\n",
        "  print(i)\n",
        "  print(list_a[i])"
      ],
      "metadata": {
        "colab": {
          "base_uri": "https://localhost:8080/"
        },
        "id": "DpCbYuSPecq3",
        "outputId": "f71039ed-6de9-4aff-eb70-fccf1188e389"
      },
      "execution_count": null,
      "outputs": [
        {
          "output_type": "stream",
          "name": "stdout",
          "text": [
            "0\n",
            "hi\n",
            "1\n",
            "my\n",
            "2\n",
            "name\n",
            "3\n",
            "is\n",
            "4\n",
            "Jeff\n",
            "5\n",
            "Phone no:\n",
            "6\n",
            "12345678\n"
          ]
        }
      ]
    },
    {
      "cell_type": "markdown",
      "source": [
        "## Exploring Dictionaries in Depth"
      ],
      "metadata": {
        "id": "2NQVOc-m7ylJ"
      }
    },
    {
      "cell_type": "markdown",
      "metadata": {
        "id": "AC6ybA0w0YP4"
      },
      "source": [
        "###Getting All Keys and Values"
      ]
    },
    {
      "cell_type": "code",
      "execution_count": null,
      "metadata": {
        "id": "__4K12mg0YP4",
        "colab": {
          "base_uri": "https://localhost:8080/"
        },
        "outputId": "d0dd64fc-d44d-4aff-b761-b7c9e80de886"
      },
      "outputs": [
        {
          "output_type": "stream",
          "name": "stdout",
          "text": [
            "dict_keys(['first_name', 'last_name', 'age', 'tattoos'])\n",
            "dict_values(['Kaavya', 'M', 22, False])\n"
          ]
        }
      ],
      "source": [
        "# Now let's retrieve all keys from the your dictionary you created in the beginning\n",
        "\n",
        "\n",
        "print(keys)\n",
        "\n",
        "# Retrieving all values from the Kaavya dictionary\n",
        "values\n",
        "\n",
        "print(values)"
      ]
    },
    {
      "cell_type": "code",
      "execution_count": null,
      "metadata": {
        "id": "P-I18FlJ0YP5",
        "colab": {
          "base_uri": "https://localhost:8080/"
        },
        "outputId": "f14e9891-dfc7-4a97-a0f0-8ae50ee10c9d"
      },
      "outputs": [
        {
          "output_type": "stream",
          "name": "stdout",
          "text": [
            "key = first_name, value = Kaavya\n",
            "key = last_name, value = M\n",
            "key = age, value = 22\n",
            "key = tattoos, value = False\n"
          ]
        }
      ],
      "source": [
        "# Iterating through keys and values in the Kaavya dictionary\n",
        "\n",
        "\n",
        "    # Print the current key and its corresponding value\n",
        "    print(\"key = {0}, value = {1}\".format(key, value))"
      ]
    },
    {
      "cell_type": "code",
      "execution_count": null,
      "metadata": {
        "id": "myq6oC8H0YP5",
        "colab": {
          "base_uri": "https://localhost:8080/"
        },
        "outputId": "9eb38aeb-8070-4028-f721-cbf820687adb"
      },
      "outputs": [
        {
          "output_type": "stream",
          "name": "stdout",
          "text": [
            "{'name': 'Ryan', 'grade': 12, 'score': {'english': 87, 'math': 90, 'science': 95, 'mother tongue': 55}}\n",
            "dict_keys(['english', 'math', 'science', 'mother tongue'])\n"
          ]
        }
      ],
      "source": [
        "# Let's create a dictionary to store student information with nested keys for scores\n",
        "\n",
        "sch_rec = {\n",
        "    \"name\": \"Ryan\",\n",
        "    \"grade\": 12,\n",
        "    \"score\": {\n",
        "        \"english\": 87,\n",
        "        \"math\": 90,\n",
        "        \"science\": 95,\n",
        "        \"mother tongue\": 55\n",
        "    }\n",
        "}\n",
        "\n",
        "print(sch_rec)\n",
        "\n",
        "# Accessing nested keys to retrieve the keys from the 'score' dictionary\n",
        "keys_nested =\n",
        "\n",
        "print(keys_nested)\n"
      ]
    },
    {
      "cell_type": "code",
      "source": [
        "#Using Items function to get an overview\n",
        "sch_rec2 = {\n",
        "    '001':{\"name\":\"Ryan\", \"grade\": 12, \"avg_score\": 95},\n",
        "    '002':{\"name\":\"Jaslyn\", \"grade\": 12, \"avg_score\": 90},\n",
        "    '003':{\"name\":\"Ronald\", \"grade\": 10, \"avg_score\": 55},\n",
        "    '004':{\"name\":\"Chad\", \"grade\": 9, \"avg_score\": 67},\n",
        "    '005':{\"name\":\"Joyce\", \"grade\": 8, \"avg_score\": 82.5},\n",
        "    '006':{\"name\":\"Amanda\", \"grade\": 11, \"avg_score\": 98}\n",
        "}\n",
        "\n",
        "#items function\n"
      ],
      "metadata": {
        "colab": {
          "base_uri": "https://localhost:8080/"
        },
        "id": "0r2n_xzbgoEm",
        "outputId": "2d6358aa-ba02-4ac1-976d-6c1a8394d39a"
      },
      "execution_count": null,
      "outputs": [
        {
          "output_type": "execute_result",
          "data": {
            "text/plain": [
              "dict_items([('001', {'name': 'Ryan', 'grade': 12, 'avg_score': 95}), ('002', {'name': 'Jaslyn', 'grade': 12, 'avg_score': 90}), ('003', {'name': 'Ronald', 'grade': 10, 'avg_score': 55}), ('004', {'name': 'Chad', 'grade': 9, 'avg_score': 67}), ('005', {'name': 'Joyce', 'grade': 8, 'avg_score': 82.5}), ('006', {'name': 'Amanda', 'grade': 11, 'avg_score': 98})])"
            ]
          },
          "metadata": {},
          "execution_count": 34
        }
      ]
    },
    {
      "cell_type": "markdown",
      "source": [
        "### Presentation of the Information in the Dictionary"
      ],
      "metadata": {
        "id": "6u4BwAFLiNa-"
      }
    },
    {
      "cell_type": "code",
      "source": [
        "#Let's present info in dict with double loops\n",
        "# e.g id = '001', and the corresponding info and so on. (Refer to the code on top to understand what sch_rec2.items() shows)\n",
        "\n",
        "\n",
        "\n",
        ""
      ],
      "metadata": {
        "colab": {
          "base_uri": "https://localhost:8080/"
        },
        "id": "iDZYG4W2hFIw",
        "outputId": "c984255d-0eed-418c-f9c3-813739d4d816"
      },
      "execution_count": null,
      "outputs": [
        {
          "output_type": "stream",
          "name": "stdout",
          "text": [
            "\n",
            "Student ID: 001\n",
            "name: Ryan\n",
            "grade: 12\n",
            "avg_score: 95\n",
            "\n",
            "Student ID: 002\n",
            "name: Jaslyn\n",
            "grade: 12\n",
            "avg_score: 90\n",
            "\n",
            "Student ID: 003\n",
            "name: Ronald\n",
            "grade: 10\n",
            "avg_score: 55\n",
            "\n",
            "Student ID: 004\n",
            "name: Chad\n",
            "grade: 9\n",
            "avg_score: 67\n",
            "\n",
            "Student ID: 005\n",
            "name: Joyce\n",
            "grade: 8\n",
            "avg_score: 82.5\n",
            "\n",
            "Student ID: 006\n",
            "name: Amanda\n",
            "grade: 11\n",
            "avg_score: 98\n"
          ]
        }
      ]
    },
    {
      "cell_type": "code",
      "source": [
        "# For QOL (Quality of Life) purposes, let's store Richard's details in a dictionary. In programming, it refers to small improvements that make code easier to read, use, or maintain, without changing its core function.\n",
        "Richard = {\n",
        "    \"first_name\": \"Richard\",  # First name of the individual\n",
        "    \"last_name\": \"Anderson\",  # Last name of the individual\n",
        "    \"age\": 45,                # Age of the individual\n",
        "    \"tattoos\": True           # Whether the individual has tattoos (boolean value)\n",
        "}\n"
      ],
      "metadata": {
        "id": "mOget1_biG5b"
      },
      "execution_count": null,
      "outputs": []
    },
    {
      "cell_type": "code",
      "source": [
        "# Retrieve and print the current value of \"last_name\"\n",
        "\n",
        "# Change the \"last_name\" key value to \"Todd\"\n",
        "\n",
        "\n",
        "# Retrieve and print the updated value of \"last_name\"\n"
      ],
      "metadata": {
        "colab": {
          "base_uri": "https://localhost:8080/"
        },
        "id": "WlbQh5IGibTU",
        "outputId": "4adbc244-dbc1-4db2-d841-620339252496"
      },
      "execution_count": null,
      "outputs": [
        {
          "output_type": "stream",
          "name": "stdout",
          "text": [
            "Anderson\n",
            "Todd\n"
          ]
        }
      ]
    },
    {
      "cell_type": "code",
      "source": [
        "# Access and print the current value of 'name' in the nested dictionary with key '001'\n",
        "\n",
        "\n",
        "# Change the 'name' value inside the nested dictionary\n",
        "\n",
        "\n",
        "print()"
      ],
      "metadata": {
        "colab": {
          "base_uri": "https://localhost:8080/"
        },
        "id": "qJSq8f4Xiecy",
        "outputId": "ec6aebbd-5217-4a06-ba70-29b22db44e7a"
      },
      "execution_count": null,
      "outputs": [
        {
          "output_type": "stream",
          "name": "stdout",
          "text": [
            "Ryan\n",
            "Ryan Tan\n"
          ]
        }
      ]
    },
    {
      "cell_type": "markdown",
      "source": [
        "###Adding a new key-value pair in a dictionary"
      ],
      "metadata": {
        "id": "o0Bi6lLBinLD"
      }
    },
    {
      "cell_type": "markdown",
      "source": [
        "#### For Regular Dictionary case"
      ],
      "metadata": {
        "id": "-mqx9Rbii5Ds"
      }
    },
    {
      "cell_type": "code",
      "source": [
        "#Before alteration\n"
      ],
      "metadata": {
        "colab": {
          "base_uri": "https://localhost:8080/"
        },
        "id": "Xi2h_K37iu2r",
        "outputId": "5757240b-4d03-4dcc-f893-9b2aa07c1450"
      },
      "execution_count": null,
      "outputs": [
        {
          "output_type": "stream",
          "name": "stdout",
          "text": [
            "Before Alteration:  {'first_name': 'Richard', 'last_name': 'Todd', 'age': 45, 'tattoos': True}\n"
          ]
        }
      ]
    },
    {
      "cell_type": "code",
      "source": [
        "#Alteration: Let's add his email\n"
      ],
      "metadata": {
        "id": "QzUgpFMUi9AS"
      },
      "execution_count": null,
      "outputs": []
    },
    {
      "cell_type": "code",
      "source": [
        "#After alteration\n"
      ],
      "metadata": {
        "colab": {
          "base_uri": "https://localhost:8080/"
        },
        "id": "wsaqtMTQjAUY",
        "outputId": "a5d2d7c1-e0ff-492b-d159-3470a7b3091c"
      },
      "execution_count": null,
      "outputs": [
        {
          "output_type": "stream",
          "name": "stdout",
          "text": [
            "After Alteration:  {'first_name': 'Richard', 'last_name': 'Todd', 'age': 45, 'tattoos': True, 'email': 'richard148@gmail.com'}\n"
          ]
        }
      ]
    },
    {
      "cell_type": "markdown",
      "source": [
        "#### For Regular Dictionary case"
      ],
      "metadata": {
        "id": "FCi2bN-ljEVg"
      }
    },
    {
      "cell_type": "code",
      "source": [
        "#Before alteration\n",
        "print(\"Before alteration: \",sch_rec2)"
      ],
      "metadata": {
        "colab": {
          "base_uri": "https://localhost:8080/"
        },
        "id": "j9tErtKUjH67",
        "outputId": "90cc7003-3a2f-42c0-b7db-f8c9e4618233"
      },
      "execution_count": null,
      "outputs": [
        {
          "output_type": "stream",
          "name": "stdout",
          "text": [
            "Before alteration:  {'001': {'name': 'Ryan Tan', 'grade': 12, 'avg_score': 95}, '002': {'name': 'Jaslyn', 'grade': 12, 'avg_score': 90}, '003': {'name': 'Ronald', 'grade': 10, 'avg_score': 55}, '004': {'name': 'Chad', 'grade': 9, 'avg_score': 67}, '005': {'name': 'Joyce', 'grade': 8, 'avg_score': 82.5}, '006': {'name': 'Amanda', 'grade': 11, 'avg_score': 98}}\n"
          ]
        }
      ]
    },
    {
      "cell_type": "code",
      "source": [
        "#Alteration\n",
        "sch_rec2['001']['email']='rand001@gmail.com'\n",
        "sch_rec2['002']['email']='rand002@gmail.com'\n",
        "sch_rec2['003']['email']='rand003@gmail.com'\n",
        "sch_rec2['004']['email']='rand004@gmail.com'\n",
        "sch_rec2['005']['email']='rand005@gmail.com'\n",
        "sch_rec2['006']['email']='rand006@gmail.com'\n",
        "\n",
        "print(\"After alteration: \",sch_rec2)"
      ],
      "metadata": {
        "colab": {
          "base_uri": "https://localhost:8080/"
        },
        "id": "xUolvyixjMhS",
        "outputId": "e9012761-8825-4c65-b2ba-0fe7a001cc5a"
      },
      "execution_count": null,
      "outputs": [
        {
          "output_type": "stream",
          "name": "stdout",
          "text": [
            "After alteration:  {'001': {'name': 'Ryan Tan', 'grade': 12, 'avg_score': 95, 'email': 'rand001@gmail.com'}, '002': {'name': 'Jaslyn', 'grade': 12, 'avg_score': 90, 'email': 'rand002@gmail.com'}, '003': {'name': 'Ronald', 'grade': 10, 'avg_score': 55, 'email': 'rand003@gmail.com'}, '004': {'name': 'Chad', 'grade': 9, 'avg_score': 67, 'email': 'rand004@gmail.com'}, '005': {'name': 'Joyce', 'grade': 8, 'avg_score': 82.5, 'email': 'rand005@gmail.com'}, '006': {'name': 'Amanda', 'grade': 11, 'avg_score': 98, 'email': 'rand006@gmail.com'}}\n"
          ]
        }
      ]
    },
    {
      "cell_type": "markdown",
      "source": [
        "### Deleting key-value pair in a dictionary"
      ],
      "metadata": {
        "id": "v-wel_xujS9C"
      }
    },
    {
      "cell_type": "markdown",
      "source": [
        "#### For Regular Dictionary case"
      ],
      "metadata": {
        "id": "2TMGCbNdjfVZ"
      }
    },
    {
      "cell_type": "code",
      "source": [
        "#Before alteration\n",
        "print(\"Before alteration: \",Richard)\n",
        "\n",
        "#Alteration: Let's delete his email\n",
        "\n",
        "\n",
        "#After alteration\n"
      ],
      "metadata": {
        "colab": {
          "base_uri": "https://localhost:8080/"
        },
        "id": "Eawy0hEnje8_",
        "outputId": "e0176c4b-50db-40d9-987d-93467b3a0e76"
      },
      "execution_count": null,
      "outputs": [
        {
          "output_type": "stream",
          "name": "stdout",
          "text": [
            "Before alteration:  {'first_name': 'Richard', 'last_name': 'Todd', 'age': 45, 'tattoos': True, 'email': 'richard148@gmail.com'}\n",
            "After alteration:  {'first_name': 'Richard', 'last_name': 'Todd', 'age': 45, 'tattoos': True}\n"
          ]
        }
      ]
    },
    {
      "cell_type": "markdown",
      "source": [
        "#### For Nested Dictionary case"
      ],
      "metadata": {
        "id": "7VxVtdJHjsRR"
      }
    },
    {
      "cell_type": "code",
      "source": [
        "#Before alteration\n",
        "print(\"Before alteration: \",sch_rec2)\n",
        "\n",
        "#Alteration\n",
        "del sch_rec2['001']['email']\n",
        "del sch_rec2['002']['email']\n",
        "del sch_rec2['003']['email']\n",
        "del sch_rec2['004']['email']\n",
        "del sch_rec2['005']['email']\n",
        "del sch_rec2['006']['email']\n",
        "\n",
        "#After alteration\n",
        "print(\"After alteration: \",sch_rec2)"
      ],
      "metadata": {
        "colab": {
          "base_uri": "https://localhost:8080/"
        },
        "id": "4JJMib4YjwPM",
        "outputId": "bdb80861-81dd-4149-a712-8a7ad3c1ab94"
      },
      "execution_count": null,
      "outputs": [
        {
          "output_type": "stream",
          "name": "stdout",
          "text": [
            "Before alteration:  {'001': {'name': 'Ryan Tan', 'grade': 12, 'avg_score': 95, 'email': 'rand001@gmail.com'}, '002': {'name': 'Jaslyn', 'grade': 12, 'avg_score': 90, 'email': 'rand002@gmail.com'}, '003': {'name': 'Ronald', 'grade': 10, 'avg_score': 55, 'email': 'rand003@gmail.com'}, '004': {'name': 'Chad', 'grade': 9, 'avg_score': 67, 'email': 'rand004@gmail.com'}, '005': {'name': 'Joyce', 'grade': 8, 'avg_score': 82.5, 'email': 'rand005@gmail.com'}, '006': {'name': 'Amanda', 'grade': 11, 'avg_score': 98, 'email': 'rand006@gmail.com'}}\n",
            "After alteration:  {'001': {'name': 'Ryan Tan', 'grade': 12, 'avg_score': 95}, '002': {'name': 'Jaslyn', 'grade': 12, 'avg_score': 90}, '003': {'name': 'Ronald', 'grade': 10, 'avg_score': 55}, '004': {'name': 'Chad', 'grade': 9, 'avg_score': 67}, '005': {'name': 'Joyce', 'grade': 8, 'avg_score': 82.5}, '006': {'name': 'Amanda', 'grade': 11, 'avg_score': 98}}\n"
          ]
        }
      ]
    },
    {
      "cell_type": "markdown",
      "metadata": {
        "id": "qFwEZhNb0YP5"
      },
      "source": [
        "## Functions: Defining and Calling a Function\n",
        "\n",
        "1. A group of related statements that perform a specific task\n",
        "2. Helps break down the program into smaller modules rather than a lengthy set of code, which can be disorganized"
      ]
    },
    {
      "cell_type": "code",
      "execution_count": null,
      "metadata": {
        "id": "SVRYJkNQ0YP5",
        "colab": {
          "base_uri": "https://localhost:8080/"
        },
        "outputId": "5bc84d8b-5bdc-4d74-c6d3-d09b55f21588"
      },
      "outputs": [
        {
          "output_type": "stream",
          "name": "stdout",
          "text": [
            "12\n"
          ]
        }
      ],
      "source": [
        "# Let's start by defining a simple addition function\n",
        "\n",
        "\n",
        "    # Calculate the total by adding num1 and num2\n",
        "\n",
        "    # Return the total\n",
        "\n",
        "\n",
        "# Call the function with arguments 5 and 7\n",
        "\n",
        "\n"
      ]
    },
    {
      "cell_type": "markdown",
      "metadata": {
        "id": "KIdydWG_0YP5"
      },
      "source": [
        "Defining a Palindrome Function\n"
      ]
    },
    {
      "cell_type": "code",
      "execution_count": null,
      "metadata": {
        "id": "VI0RbtUi0YP5",
        "colab": {
          "base_uri": "https://localhost:8080/"
        },
        "outputId": "868f6975-723c-4d92-d964-0174e67e9580"
      },
      "outputs": [
        {
          "output_type": "stream",
          "name": "stdout",
          "text": [
            "True\n"
          ]
        }
      ],
      "source": [
        "# Let's come up with a function to check if a word or phrase is a palindrome\n",
        "\n",
        "def is_palindrome(word):\n",
        "    # Convert the word to lowercase and remove spaces\n",
        "    word = word.lower().replace(\" \", \"\")\n",
        "    # Check if the word is the same when reversed\n",
        "    return word == word[::-1]\n",
        "\n",
        "# Check if \"taco cat\" is a palindrome\n",
        "print(is_palindrome(\"taco cat\"))\n",
        "\n",
        "# Your turn! Put in a word and check if it is a palindrome"
      ]
    },
    {
      "cell_type": "markdown",
      "metadata": {
        "id": "FH0YSenB0YP5"
      },
      "source": [
        "Magic 8-Ball Function\n",
        "\n"
      ]
    },
    {
      "cell_type": "code",
      "execution_count": null,
      "metadata": {
        "id": "m4y0jhF_0YP5",
        "colab": {
          "base_uri": "https://localhost:8080/"
        },
        "outputId": "1c0452f5-22d8-43ff-c3e8-7be3be975e2a"
      },
      "outputs": [
        {
          "output_type": "stream",
          "name": "stdout",
          "text": [
            "Question: Is it worthwhile to join DAC?\n",
            "Magic 8-Ball says: Yes\n"
          ]
        }
      ],
      "source": [
        "import random  # Importing the random module to use for generating random responses\n",
        "\n",
        "# Function to simulate a magic 8-ball response\n",
        "def magic_8_ball():\n",
        "    # List of possible responses from the magic 8-ball\n",
        "    responses = [\n",
        "        \"Yes\", \"No\", \"It is certain\", \"Without a doubt\",\n",
        "        \"Reply hazy, try again\", \"Don't count on it\",\n",
        "        \"My sources say no\", \"Outlook not so good\", \"Very doubtful\",\n",
        "        \"You may rely on it\"\n",
        "    ]\n",
        "    # Return a random response from the list\n",
        "    return random.choice(responses)\n",
        "\n",
        "# Time for you to ask it a question!\n",
        "question = \"Is it worthwhile to join DAC?\"  # Define a question\n",
        "answer = magic_8_ball()  # Get a random response from the magic 8-ball\n",
        "print(f\"Question: {question}\")  # Print the question\n",
        "print(f\"Magic 8-Ball says: {answer}\")  # Print the answer\n"
      ]
    }
  ],
  "metadata": {
    "kernelspec": {
      "display_name": "Python 3",
      "language": "python",
      "name": "python3"
    },
    "language_info": {
      "codemirror_mode": {
        "name": "ipython",
        "version": 3
      },
      "file_extension": ".py",
      "mimetype": "text/x-python",
      "name": "python",
      "nbconvert_exporter": "python",
      "pygments_lexer": "ipython3",
      "version": "3.11.5"
    },
    "colab": {
      "provenance": []
    }
  },
  "nbformat": 4,
  "nbformat_minor": 0
}