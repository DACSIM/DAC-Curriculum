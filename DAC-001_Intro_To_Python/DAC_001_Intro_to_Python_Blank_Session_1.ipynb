{
  "cells": [
    {
      "cell_type": "markdown",
      "metadata": {
        "id": "XB1Co0jipXyX"
      },
      "source": [
        "# DACademy Session 1: Basic GitHub + Intro to Python\n"
      ]
    },
    {
      "cell_type": "markdown",
      "metadata": {
        "id": "kdzTsQtK0YPu"
      },
      "source": [
        "## Comments and Print Statements:"
      ]
    },
    {
      "cell_type": "code",
      "execution_count": 22,
      "metadata": {
        "colab": {
          "base_uri": "https://localhost:8080/",
          "height": 35
        },
        "id": "v-2yQ1QS0YPu",
        "outputId": "bb68f5c7-7d01-4acf-950d-d3e910fdc4db"
      },
      "outputs": [
        {
          "name": "stdout",
          "output_type": "stream",
          "text": [
            "Hello World\n"
          ]
        }
      ],
      "source": [
        "# Welcome to DAC!\n",
        "# Single-line comments use the hash symbol (#)\n",
        "# Comments are useful for explaining code or for temporary debugging\n",
        "\n",
        "\"\"\"\n",
        "Multi-line comments are created using triple qoutes\n",
        "They can span multiple lines and are often used for detailed explanations or documentation.\n",
        "Hi hi hi hi hi\n",
        "\"\"\"\n",
        "\n",
        "# The print() function is used to display output\n",
        "print(\"Hello World\")"
      ]
    },
    {
      "cell_type": "markdown",
      "metadata": {
        "id": "8Cy9F5sHZ4-B"
      },
      "source": [
        "**Keyboard Shortcuts to Run Code**\n",
        "\n",
        "\n",
        "*   Mac: Command (⌘) + Enter\n",
        "*   Windows: Ctrl + Enter\n"
      ]
    },
    {
      "cell_type": "code",
      "execution_count": 23,
      "metadata": {
        "id": "0Iyg-UKUZsLy"
      },
      "outputs": [
        {
          "name": "stdout",
          "output_type": "stream",
          "text": [
            "Sreeja\n"
          ]
        }
      ],
      "source": [
        "# Now try printing your name!\n",
        "print(\"Sreeja\")"
      ]
    },
    {
      "cell_type": "markdown",
      "metadata": {
        "id": "xyKWUB-Q0YPv"
      },
      "source": [
        "## Basic Arithmetic Operations and Data Types"
      ]
    },
    {
      "cell_type": "code",
      "execution_count": 24,
      "metadata": {
        "id": "dvXP5FTPdLFk"
      },
      "outputs": [
        {
          "name": "stdout",
          "output_type": "stream",
          "text": [
            "18\n",
            "1\n",
            "20\n",
            "2.0\n",
            "2\n",
            "512\n"
          ]
        }
      ],
      "source": [
        "# Arithmetic Operators: + - * / % **\n",
        "\n",
        "# Addition +\n",
        "print(10+8)\n",
        "# Subtraction -\n",
        "print(5-4)\n",
        "# Multiplication *\n",
        "print(10*2)\n",
        "# Division /\n",
        "print(20/10)\n",
        "# Modulo % (Gives the remainder of division, e.g., 8 % 3 = 2)\n",
        "print(8%3)\n",
        "# Exponentiation **\n",
        "print(8**3)"
      ]
    },
    {
      "cell_type": "code",
      "execution_count": 25,
      "metadata": {
        "colab": {
          "base_uri": "https://localhost:8080/"
        },
        "id": "8dNEkPQ30YPw",
        "outputId": "88851191-2cf0-4a89-8463-f66016be0cd9"
      },
      "outputs": [
        {
          "name": "stdout",
          "output_type": "stream",
          "text": [
            "flower and tree\n",
            "!@#$%jkwewuorweprh6546846515648646546\n",
            "10\n",
            "4294967296\n",
            "3.14\n",
            "(2+3j)\n"
          ]
        }
      ],
      "source": [
        "# Text inside quotes is known as a string\n",
        "# Can use either \"\" or '', both work the same\n",
        "print(\"flower and tree\")\n",
        "# This is to show you that the string can contain any special characters\n",
        "print(\"!@#$%jkwewuorweprh6546846515648646546\")\n",
        "\n",
        "# Integers are whole numbers\n",
        "print(10)\n",
        "# Long Integers (Python automatically handles big integers)\n",
        "print(2**32)\n",
        "# Floats represent decimal numbers\n",
        "print(3.14)\n",
        "# Complex Numbers use 'j' to represent the imaginary part\n",
        "print(2+3j)"
      ]
    },
    {
      "cell_type": "markdown",
      "metadata": {
        "id": "DmJBgrZy0YPw"
      },
      "source": [
        "## Boolean\n",
        "*   Booleans represent one of two values: True or False.\n",
        "\n"
      ]
    },
    {
      "cell_type": "code",
      "execution_count": 26,
      "metadata": {
        "id": "tUXDV62x0YPw"
      },
      "outputs": [],
      "source": [
        "\n",
        "  # Modulus operation gives the remainder of 10 divided by 3 (which is 1)\n",
        "  # bool() converts the result of the comparison to True or False\n",
        "  # This will print False since 5 is not equal to 1\n",
        "a=5\n",
        "b=10%3\n",
        "c=bool(a==b)"
      ]
    },
    {
      "cell_type": "code",
      "execution_count": 27,
      "metadata": {
        "id": "rMT50ucpfk8k"
      },
      "outputs": [
        {
          "name": "stdout",
          "output_type": "stream",
          "text": [
            "True\n",
            "False\n",
            "True\n",
            "True\n",
            "True\n",
            "False\n",
            "False\n"
          ]
        }
      ],
      "source": [
        "# Equals ==\n",
        "print(5==5)\n",
        "print(5==4)\n",
        "# Inqual !=\n",
        "print(5 != 6)\n",
        "# More than >\n",
        "print(5>4)\n",
        "# More than and equal to >=\n",
        "print(6>=4)\n",
        "# Less than <\n",
        "print(6<4)\n",
        "# Less than and equal to <=\n",
        "print(6<=4)"
      ]
    },
    {
      "cell_type": "code",
      "execution_count": 28,
      "metadata": {
        "id": "DuSwiBLf4FbJ"
      },
      "outputs": [
        {
          "name": "stdout",
          "output_type": "stream",
          "text": [
            "<class 'bool'>\n",
            "<class 'str'>\n",
            "<class 'int'>\n"
          ]
        }
      ],
      "source": [
        "# Using Boolean to find the Data Type of a Variable\n",
        "# Use type() to find the data type of a value or variable\n",
        "\n",
        "a= True # A Boolean value can be either True or False.\n",
        "print(type(a)) # This checks the type of 'a' and will return <class 'bool'>\n",
        "\n",
        "# Checking the type of a string\n",
        "print(type(\"i love DAC\"))# This will return <class 'str'>, indicating it's a string.\n",
        "\n",
        "# Checking the type of an integer\n",
        "print(type(4))# This will return <class 'int'>, indicating it's an integer."
      ]
    },
    {
      "cell_type": "markdown",
      "metadata": {
        "id": "UHZRrqmecVhV"
      },
      "source": [
        "## Converting Data types"
      ]
    },
    {
      "cell_type": "code",
      "execution_count": 29,
      "metadata": {
        "id": "lRjGQ9i_cQsH"
      },
      "outputs": [
        {
          "name": "stdout",
          "output_type": "stream",
          "text": [
            "6\n",
            "3.0\n",
            "<class 'str'>\n",
            "True\n",
            "3.142\n",
            "5\n"
          ]
        }
      ],
      "source": [
        "# Convert a float to an integer\n",
        "print(int(6.5555555))# Output: 6\n",
        "\n",
        "# Convert an integer to a float\n",
        "print(float(3))  # Output: 3.0\n",
        "\n",
        "# Convert an integer to a string and print its type\n",
        "print(type(str(6)))# Output: <class 'str'>\n",
        "\n",
        "# Convert a non-zero integer to a boolean\n",
        "print(bool(5)) # Output: True (Any non-zero value is considered True)\n",
        "\n",
        "# Note on variable naming:\n",
        "# It's best to avoid using function names as variable names to prevent confusion.\n",
        "decimal_value=3.142 # Use descriptive names for clarity\n",
        "print(decimal_value)\n",
        "\n",
        "number=5 # Keep the variable name clear and relevant\n",
        "print(number)"
      ]
    },
    {
      "cell_type": "markdown",
      "metadata": {
        "id": "ixpdw3X90YPx"
      },
      "source": [
        "## Sequence Types: Strings, Lists, and Tuples"
      ]
    },
    {
      "cell_type": "markdown",
      "metadata": {
        "id": "FS4VoI660YPx"
      },
      "source": [
        "### Working with Strings"
      ]
    },
    {
      "cell_type": "code",
      "execution_count": 30,
      "metadata": {
        "id": "cVENYK1E0YPx"
      },
      "outputs": [
        {
          "name": "stdout",
          "output_type": "stream",
          "text": [
            "sreeja\n",
            "full name:sreeja T\n",
            "full name:sreeja T\n"
          ]
        }
      ],
      "source": [
        "# Creating strings\n",
        "name = \"sreeja\"\n",
        "print(name)\n",
        "# Combining strings\n",
        "  # Remember to include spaces within the quotes; otherwise, the result will be \"JunYo\" instead of \"Jun Yo\".\n",
        "last_name=\"T\"\n",
        "print(\"full name:\" + name + \" \" + last_name)\n",
        "# Alternative Method for String Formatting\n",
        "print(\"full name:{0} {1}\".format(name,  last_name))\n",
        "  # The numbers {0} and {1} correspond to the respective order of the variables: Jun = 0, Yo = 1."
      ]
    },
    {
      "cell_type": "markdown",
      "metadata": {
        "id": "Do3QkLBS0YPy"
      },
      "source": [
        "### Working with Lists\n",
        "\n",
        "*   [ ]\n",
        "*   It is used to store multiple items in a single variable\n",
        "\n"
      ]
    },
    {
      "cell_type": "markdown",
      "metadata": {
        "id": "UJljv0JyI3MJ"
      },
      "source": [
        "Just some things to note\n",
        "\n",
        "(Example)\n",
        "In the list: list4 = [3, 1, 4, 1, 5]\n",
        "\n",
        "*   **list4** is the **variable** that stores the list.\n",
        "*   **3, 1, 4, 1, 5** are the **elements** in the list.\n",
        "*   **Indexes** represent the **position** of each element, **starting from 0:**\n",
        "     *   '3' is at index 0\n",
        "     *   '1' is at index 1\n",
        "     *   '4' is at index 2\n",
        "     *   '1' is at index 3\n",
        "     *   '5' is at index 4\n",
        "\n",
        "\n",
        "\n",
        "\n",
        "\n",
        "\n",
        "\n",
        "\n",
        "\n",
        "\n",
        "\n",
        "\n",
        "\n",
        "\n"
      ]
    },
    {
      "cell_type": "code",
      "execution_count": 31,
      "metadata": {
        "id": "g8SngCyXoqGt"
      },
      "outputs": [
        {
          "name": "stdout",
          "output_type": "stream",
          "text": [
            "[]\n",
            "[True, 'monday', 134, 3.14]\n"
          ]
        }
      ],
      "source": [
        "list1 = []# Empty list\n",
        "print (list1)\n",
        "mixedlist=[True,\"monday\",134,3.14]\n",
        "print (mixedlist)\n",
        "\n",
        "\n",
        " # List with different data types\n"
      ]
    },
    {
      "cell_type": "code",
      "execution_count": 54,
      "metadata": {
        "colab": {
          "base_uri": "https://localhost:8080/",
          "height": 70
        },
        "id": "WgtIoTQapNJC",
        "outputId": "2b171962-0c64-4b77-e183-8e2771ebf33a"
      },
      "outputs": [
        {
          "name": "stdout",
          "output_type": "stream",
          "text": [
            "[1, 'yay', 1, 'yay', 1, 'yay']\n",
            "[True, 'monday', 134, 3.14, 'yay']\n"
          ]
        },
        {
          "data": {
            "text/plain": [
              "'\\nNote on the append() method:\\n\\nThe append() method adds the element to the end of the list each time it is executed.\\nCalling append() multiple times (i.e., running this code again) will continue to add the elements to the existing list, rather than starting over.\\n(So, the same element will be added twice if you run the code twice, three times if you run it three times, and so on.)\\nTo reset the list, you can reinitialize it (rerun the code from the beginning).\\n'"
            ]
          },
          "execution_count": 54,
          "metadata": {},
          "output_type": "execute_result"
        }
      ],
      "source": [
        "# Adding elements to a list using the above variables\n",
        "list1.append(1)\n",
        "list1.append(\"yay\")\n",
        "print(list1)\n",
        "\n",
        "  # Adding an integer to the list\n",
        "  # Adding a string to the list\n",
        "  # Output: [1, \"AHH\"]\n",
        "mixedlist.append(\"yay\")\n",
        "print (mixedlist)\n",
        "  # Adding a string to the mixed list\n",
        "  # Output: [True, 'Slay', 173, 3.14, 'AHH']\n",
        "\n",
        "\"\"\"\n",
        "Note on the append() method:\n",
        "\n",
        "The append() method adds the element to the end of the list each time it is executed.\n",
        "Calling append() multiple times (i.e., running this code again) will continue to add the elements to the existing list, rather than starting over.\n",
        "(So, the same element will be added twice if you run the code twice, three times if you run it three times, and so on.)\n",
        "To reset the list, you can reinitialize it (rerun the code from the beginning).\n",
        "\"\"\""
      ]
    },
    {
      "cell_type": "code",
      "execution_count": 55,
      "metadata": {
        "id": "EhMqwM-w0YPy"
      },
      "outputs": [
        {
          "name": "stdout",
          "output_type": "stream",
          "text": [
            "[50, 1, 'yay', 1, 'yay', 1, 'yay']\n"
          ]
        }
      ],
      "source": [
        "# Inserting elements into a list at a specific position\n",
        "# Syntax: list_.insert(position, item)\n",
        "list1.insert(0,50)\n",
        "print(list1)\n",
        "  # Insert the number 50 at the 0th index (1st number is the position, 2nd is the element to add)\n",
        "  # Output will show 50 at the start of the list"
      ]
    },
    {
      "cell_type": "code",
      "execution_count": 56,
      "metadata": {
        "id": "NYr5u52Rwy6h"
      },
      "outputs": [
        {
          "name": "stdout",
          "output_type": "stream",
          "text": [
            "[1, 'yay', 1, 'yay', 1, 'yay']\n"
          ]
        }
      ],
      "source": [
        "# Deleting elements from a list\n",
        "del list1[0]\n",
        "print (list1)\n",
        "# Using `del` to delete by index\n",
        "  # Deletes the element at index 0 (1st element in the list)\n",
        "  # Output: List with the 1st element removed"
      ]
    },
    {
      "cell_type": "code",
      "execution_count": 58,
      "metadata": {
        "id": "Q05F_xXdFdpx"
      },
      "outputs": [
        {
          "name": "stdout",
          "output_type": "stream",
          "text": [
            "[1, 1, 'yay', 1, 'yay']\n"
          ]
        }
      ],
      "source": [
        "# Alternative Method for Deleting elements from a list\n",
        "list1.remove(\"yay\")\n",
        "print(list1)\n",
        "# Using `remove()` to delete by value\n",
        " # Removes the first occurrence of the value 50 from the list\n",
        "  # Output: List without the first 50"
      ]
    },
    {
      "cell_type": "code",
      "execution_count": 9,
      "metadata": {
        "id": "Qxd8-H6oG0a0"
      },
      "outputs": [
        {
          "name": "stdout",
          "output_type": "stream",
          "text": [
            "0\n"
          ]
        }
      ],
      "source": [
        "# List Indexing\n",
        "list4 = [3,1,4,1,5]\n",
        "index_list4= list4.index(3)\n",
        "print (index_list4)\n",
        "  # Finds the index position of the element '3' in the list\n",
        "  # Output: 0 (since '3' is at the 0th index)"
      ]
    },
    {
      "cell_type": "code",
      "execution_count": 11,
      "metadata": {
        "id": "JTsF0nfmSINs"
      },
      "outputs": [
        {
          "name": "stdout",
          "output_type": "stream",
          "text": [
            "1\n",
            "5\n",
            "maximum value 5\n",
            "minimum value 1\n"
          ]
        }
      ],
      "source": [
        "# Finding minimum and maximum values in a list\n",
        "min_list4=min(list4)  # Use the min() function to find the smallest element in list4\n",
        "max_list4=max(list4)  # Use the max() function to find the largest element in list4\n",
        "print(min_list4)\n",
        "print(max_list4)\n",
        "\n",
        "\n",
        "# With labels\n",
        "print(\"maximum value\", max_list4)  # Output the minimum value\n",
        "print(\"minimum value\",min_list4)  # Output the maximum value"
      ]
    },
    {
      "cell_type": "code",
      "execution_count": 13,
      "metadata": {
        "id": "vc5SVEzvBK33"
      },
      "outputs": [
        {
          "name": "stdout",
          "output_type": "stream",
          "text": [
            "[1, 2, 3, 4, 5, 6, 9]\n"
          ]
        }
      ],
      "source": [
        "listnum=[4,2,1,3,6,5,9]\n",
        "sorted_listnumList= sorted(listnum)\n",
        "print(sorted_listnumList)\n",
        " # Use the sorted() function to sort the list\n",
        " # Output the sorted list"
      ]
    },
    {
      "cell_type": "code",
      "execution_count": 17,
      "metadata": {
        "id": "dI6AzeKIBrvB"
      },
      "outputs": [
        {
          "name": "stdout",
          "output_type": "stream",
          "text": [
            "[9, 6, 5, 4, 3, 2, 1]\n"
          ]
        }
      ],
      "source": [
        "listnum2=[1,2,3,4,5,6,9]\n",
        "listnum2.reverse() # Reverse listNum2\n",
        "print(listnum2) # Otput the reversed list"
      ]
    },
    {
      "cell_type": "code",
      "execution_count": 18,
      "metadata": {
        "id": "zlonSikNCFQj"
      },
      "outputs": [
        {
          "name": "stdout",
          "output_type": "stream",
          "text": [
            "[]\n"
          ]
        }
      ],
      "source": [
        "\n",
        "listnum2=[1,2,3,4,5,6,9] \n",
        "listnum2.clear()\n",
        "print(listnum2)# Clear all elements from the list\n",
        " # Print the cleared list"
      ]
    },
    {
      "cell_type": "code",
      "execution_count": 19,
      "metadata": {
        "id": "ZLm22sE7CJ_t"
      },
      "outputs": [
        {
          "name": "stdout",
          "output_type": "stream",
          "text": [
            "['M', 'A', 'Y', 'A', 123]\n"
          ]
        }
      ],
      "source": [
        "list5=[\"M\",\"A\",\"Y\"]\n",
        "list6=[\"A\",123]\n",
        "listadded= list5 +list6 \n",
        "print(listadded)\n",
        "\n",
        " # Add the two lists together\n",
        " # Output the added list"
      ]
    },
    {
      "cell_type": "code",
      "execution_count": 20,
      "metadata": {
        "id": "u3FYS3JZCgkc"
      },
      "outputs": [
        {
          "name": "stdout",
          "output_type": "stream",
          "text": [
            "['sreeja', 'T', 'sreeja', 'T']\n"
          ]
        }
      ],
      "source": [
        "listnames= [\"sreeja\",\"T\"]\n",
        "listmutiplied= listnames * 2 # Multiply the list by 2\n",
        "print(listmutiplied) # Output the multiplied list"
      ]
    },
    {
      "cell_type": "markdown",
      "metadata": {
        "id": "_YLFb-WGDCs8"
      },
      "source": [
        "### Working with Tuples\n",
        "- Immutable\n",
        "- It is a ordered sequence of values"
      ]
    },
    {
      "cell_type": "code",
      "execution_count": 34,
      "metadata": {
        "id": "kwrmo-XJ0YPy"
      },
      "outputs": [
        {
          "data": {
            "text/plain": [
              "tuple"
            ]
          },
          "execution_count": 34,
          "metadata": {},
          "output_type": "execute_result"
        }
      ],
      "source": [
        "dance = (\"jazz\",\"tap\")\n",
        "type(dance)\n",
        " # Check the type of the 'parents' variable"
      ]
    },
    {
      "cell_type": "code",
      "execution_count": 37,
      "metadata": {
        "id": "K_PTgd_aEKEI"
      },
      "outputs": [
        {
          "name": "stdout",
          "output_type": "stream",
          "text": [
            "['jazz', 'tap']\n"
          ]
        },
        {
          "data": {
            "text/plain": [
              "list"
            ]
          },
          "execution_count": 37,
          "metadata": {},
          "output_type": "execute_result"
        }
      ],
      "source": [
        "tuplelist= list(dance)\n",
        "print(tuplelist) # Output the list\n",
        "type(tuplelist)# Check the type of 'tuplelist'"
      ]
    },
    {
      "cell_type": "code",
      "execution_count": 39,
      "metadata": {
        "id": "MLliO46RElXM"
      },
      "outputs": [
        {
          "name": "stdout",
          "output_type": "stream",
          "text": [
            "['jazz', 'tap', 'ballet']\n"
          ]
        }
      ],
      "source": [
        "tuplelist.append(\"ballet\") # Add new line to the list 'tuplelist' you can only add one at a time\n",
        "print(tuplelist) # Output the updated list"
      ]
    },
    {
      "cell_type": "code",
      "execution_count": 40,
      "metadata": {
        "id": "32Wg2x89GuXA"
      },
      "outputs": [
        {
          "name": "stdout",
          "output_type": "stream",
          "text": [
            "('jazz', 'tap', 'ballet')\n"
          ]
        }
      ],
      "source": [
        "new_tuple = tuple(tuplelist) # Convert the list 'tuplelist' back to a tuple\n",
        "print(new_tuple) # Check the value of the new tuple"
      ]
    },
    {
      "cell_type": "code",
      "execution_count": 41,
      "metadata": {
        "id": "SS3bxGkbG-vl"
      },
      "outputs": [
        {
          "name": "stdout",
          "output_type": "stream",
          "text": [
            "3\n"
          ]
        }
      ],
      "source": [
        "lenght_of_tuplelist= len(tuplelist) # Get the length of the list 'tuplelist'\n",
        "print(lenght_of_tuplelist) # Output of the length"
      ]
    },
    {
      "cell_type": "markdown",
      "metadata": {
        "id": "ZCXp6Jhg0YPy"
      },
      "source": [
        "## Working with Sets\n",
        "\n",
        "{ }\n",
        "- It is an unordered collection with no duplicate elements\n",
        "- Computer implementation of the mathematical concept of a finite set\n",
        "- Mutable"
      ]
    },
    {
      "cell_type": "code",
      "execution_count": 44,
      "metadata": {
        "id": "B5vdCq3P0YPy"
      },
      "outputs": [
        {
          "name": "stdout",
          "output_type": "stream",
          "text": [
            "{'cat', 'dog', 'wolf'}\n"
          ]
        }
      ],
      "source": [
        "x = {\"dog\",\"cat\",\"wolf\"}\n",
        "print(x) #Output of the set"
      ]
    },
    {
      "cell_type": "code",
      "execution_count": 45,
      "metadata": {
        "id": "VgrBbY_1HrNx"
      },
      "outputs": [
        {
          "name": "stdout",
          "output_type": "stream",
          "text": [
            "{'cat', 'fish', 'dog', 'wolf'}\n"
          ]
        }
      ],
      "source": [
        "x.add(\"fish\")\n",
        "print(x) # Add an element to the set\n",
        " # Output of the updated set"
      ]
    },
    {
      "cell_type": "code",
      "execution_count": 46,
      "metadata": {
        "id": "MbMyt-oQH80_"
      },
      "outputs": [
        {
          "name": "stdout",
          "output_type": "stream",
          "text": [
            "{'fish', 'dog', 'wolf'}\n"
          ]
        }
      ],
      "source": [
        " x.remove(\"cat\")\n",
        "print(x)# Remove an element from the set\n",
        " # Output of the updated set"
      ]
    },
    {
      "cell_type": "code",
      "execution_count": 47,
      "metadata": {
        "id": "Z6V43JC2IaLt"
      },
      "outputs": [
        {
          "name": "stdout",
          "output_type": "stream",
          "text": [
            "{'hello', 2, (1, 2, 3), 4.3}\n"
          ]
        }
      ],
      "source": [
        "z= {(1,2,3), \"hello\", 2,4.3}\n",
        "print(z) # Output of the set"
      ]
    },
    {
      "cell_type": "code",
      "execution_count": 53,
      "metadata": {
        "id": "sdYsD2okI5cZ"
      },
      "outputs": [
        {
          "name": "stdout",
          "output_type": "stream",
          "text": [
            "[1, 2, 3, 4, 5, 7, 4]\n",
            "{1, 2, 3, 4, 5, 7}\n",
            "<class 'set'>\n"
          ]
        }
      ],
      "source": [
        "r= [1,2,3,4,5,7,4]\n",
        "print(r)\n",
        " # Output of the original list\n",
        "\n",
        "r_set= set(r)\n",
        "print(r_set)# Convert the list to a set (to remove duplicates)\n",
        " # Output of the converted set\n",
        "\n",
        "type_of_r= type(r_set) # Check the data type of r_set\n",
        "print(type_of_r) # Output of the converted set"
      ]
    }
  ],
  "metadata": {
    "colab": {
      "collapsed_sections": [
        "FS4VoI660YPx"
      ],
      "provenance": []
    },
    "kernelspec": {
      "display_name": "Python 3",
      "language": "python",
      "name": "python3"
    },
    "language_info": {
      "codemirror_mode": {
        "name": "ipython",
        "version": 3
      },
      "file_extension": ".py",
      "mimetype": "text/x-python",
      "name": "python",
      "nbconvert_exporter": "python",
      "pygments_lexer": "ipython3",
      "version": "3.9.6"
    }
  },
  "nbformat": 4,
  "nbformat_minor": 0
}
