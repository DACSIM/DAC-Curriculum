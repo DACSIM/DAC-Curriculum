{
  "cells": [
    {
      "cell_type": "markdown",
      "metadata": {
        "id": "XB1Co0jipXyX"
      },
      "source": [
        "# DACademy Session 1: Basic GitHub + Intro to Python\n"
      ]
    },
    {
      "cell_type": "markdown",
      "metadata": {
        "id": "kdzTsQtK0YPu"
      },
      "source": [
        "## Comments and Print Statements:"
      ]
    },
    {
      "cell_type": "code",
      "execution_count": 1,
      "metadata": {
        "colab": {
          "base_uri": "https://localhost:8080/",
          "height": 35
        },
        "id": "v-2yQ1QS0YPu",
        "outputId": "bb68f5c7-7d01-4acf-950d-d3e910fdc4db"
      },
      "outputs": [
        {
          "name": "stdout",
          "output_type": "stream",
          "text": [
            "Hello World\n"
          ]
        }
      ],
      "source": [
        "# Welcome to DAC!\n",
        "# Single-line comments use the ______\n",
        "# Comments are useful for explaining code or for temporary debugging\n",
        "\n",
        "\"\"\"\n",
        "Multi-line comments are created using ______\n",
        "They can span multiple lines and are often used for detailed explanations or documentation.\n",
        "Hi hi hi hi hi\n",
        "\"\"\"\n",
        "\n",
        "# The print() function is used to display output\n",
        "print(\"Hello World\")\n"
      ]
    },
    {
      "cell_type": "markdown",
      "metadata": {
        "id": "8Cy9F5sHZ4-B"
      },
      "source": [
        "**Keyboard Shortcuts to Run Code**\n",
        "\n",
        "\n",
        "*   Mac: Command (⌘) + Enter\n",
        "*   Windows: Ctrl + Enter\n"
      ]
    },
    {
      "cell_type": "code",
      "execution_count": 2,
      "metadata": {
        "id": "0Iyg-UKUZsLy"
      },
      "outputs": [
        {
          "name": "stdout",
          "output_type": "stream",
          "text": [
            "Beatrice\n"
          ]
        }
      ],
      "source": [
        "# Now try printing your name!\n",
        "print(\"Beatrice\")"
      ]
    },
    {
      "cell_type": "markdown",
      "metadata": {
        "id": "xyKWUB-Q0YPv"
      },
      "source": [
        "## Basic Arithmetic Operations and Data Types"
      ]
    },
    {
      "cell_type": "code",
      "execution_count": 4,
      "metadata": {
        "id": "dvXP5FTPdLFk"
      },
      "outputs": [
        {
          "name": "stdout",
          "output_type": "stream",
          "text": [
            "11\n",
            "5\n",
            "24\n",
            "2.6666666666666665\n",
            "2\n",
            "512\n"
          ]
        }
      ],
      "source": [
        "# Arithmetic Operators: + - * / % **\n",
        "\n",
        "# Addition +\n",
        "print(8 + 3)\n",
        "# Subtraction -\n",
        "print(8 - 3)\n",
        "# Multiplication *\n",
        "print(8 * 3)\n",
        "# Division /\n",
        "print(8 / 3)\n",
        "# Modulo % (Gives the remainder of division, e.g., 8 % 3 = 2)\n",
        "print(8 % 3)\n",
        "# Exponentiation **\n",
        "print(8 ** 3)"
      ]
    },
    {
      "cell_type": "code",
      "execution_count": 11,
      "metadata": {
        "colab": {
          "base_uri": "https://localhost:8080/"
        },
        "id": "8dNEkPQ30YPw",
        "outputId": "88851191-2cf0-4a89-8463-f66016be0cd9"
      },
      "outputs": [
        {
          "name": "stdout",
          "output_type": "stream",
          "text": [
            "!@#$%jkwewuorweprh6546846515648646546\n",
            "10\n",
            "4294967296\n",
            "2.0\n",
            "(1+2j)\n"
          ]
        }
      ],
      "source": [
        "# Text inside quotes is known as a string\n",
        "# Can use either \"\" or '', both work the same\n",
        "\n",
        "# This is to show you that the string can contain any special characters\n",
        "print(\"!@#$%jkwewuorweprh6546846515648646546\")\n",
        "\n",
        "# Integers are whole numbers\n",
        "print(10)\n",
        "\n",
        "# Long Integers (Python automatically handles big integers)\n",
        "print(2 ** 32)\n",
        "\n",
        "# Floats represent decimal numbers\n",
        "print(2.0)\n",
        "\n",
        "# Complex Numbers use 'j' to represent the imaginary part\n",
        "print(1 + 2j)\n"
      ]
    },
    {
      "cell_type": "markdown",
      "metadata": {
        "id": "DmJBgrZy0YPw"
      },
      "source": [
        "## Boolean\n",
        "*   Booleans represent one of two values: True or False.\n",
        "\n"
      ]
    },
    {
      "cell_type": "code",
      "execution_count": 16,
      "metadata": {
        "id": "tUXDV62x0YPw"
      },
      "outputs": [
        {
          "name": "stdout",
          "output_type": "stream",
          "text": [
            "False\n"
          ]
        }
      ],
      "source": [
        "a = 5\n",
        "b = 10 % 3\n",
        "c = bool(a == b)\n",
        "print(c)\n",
        "  # Modulus operation gives the remainder of 10 divided by 3 (which is 1)\n",
        "  # bool() converts the result of the comparison to True or False\n",
        "  # This will print False since 5 is not equal to 1\n",
        "  # ==: is equals to "
      ]
    },
    {
      "cell_type": "code",
      "execution_count": 31,
      "metadata": {
        "id": "rMT50ucpfk8k"
      },
      "outputs": [
        {
          "name": "stdout",
          "output_type": "stream",
          "text": [
            "False\n",
            "True\n",
            "True\n",
            "False\n",
            "True\n",
            "True\n",
            "True\n",
            "True\n",
            "False\n",
            "True\n",
            "False\n",
            "True\n"
          ]
        }
      ],
      "source": [
        "# Equals ==\n",
        "print(1 == 2)\n",
        "print(2 == 2)\n",
        "\n",
        "# Inqual !=\n",
        "print(1 != 2)\n",
        "print(2 != 2)\n",
        "\n",
        "# More than >\n",
        "print(3 > 2)\n",
        "print(4 > 3)\n",
        "\n",
        "# More than and equal to >=\n",
        "print(4 >= 3)\n",
        "print(3 >= 2)\n",
        "\n",
        "# Less than <\n",
        "print(3 < 2)\n",
        "print(4 < 5)\n",
        "\n",
        "# Less than and equal to <=\n",
        "print(5 <= 3)\n",
        "print(5 <= 6)"
      ]
    },
    {
      "cell_type": "code",
      "execution_count": 34,
      "metadata": {
        "id": "DuSwiBLf4FbJ"
      },
      "outputs": [
        {
          "name": "stdout",
          "output_type": "stream",
          "text": [
            "<class 'bool'>\n",
            "<class 'str'>\n",
            "<class 'int'>\n"
          ]
        }
      ],
      "source": [
        "# Using Boolean to find the Data Type of a Variable\n",
        "# Use type() to find the data type of a value or variable\n",
        "\n",
        "a = True\n",
        "print(type(a))\n",
        " # A Boolean value can be either True or False.\n",
        " # This checks the type of 'a' and will return <class 'bool'>\n",
        "\n",
        "b = \"this is a string\"\n",
        "print(type(b))\n",
        "# Checking the type of a string\n",
        "  # This will return <class 'str'>, indicating it's a string.\n",
        "\n",
        "c = 8\n",
        "print(type(c))\n",
        "# Checking the type of an integer\n",
        "  # This will return <class 'int'>, indicating it's an integer."
      ]
    },
    {
      "cell_type": "markdown",
      "metadata": {
        "id": "UHZRrqmecVhV"
      },
      "source": [
        "## Converting Data types"
      ]
    },
    {
      "cell_type": "code",
      "execution_count": 44,
      "metadata": {
        "id": "lRjGQ9i_cQsH"
      },
      "outputs": [
        {
          "name": "stdout",
          "output_type": "stream",
          "text": [
            "6\n",
            "7.0\n",
            "<class 'str'>\n",
            "True\n",
            "3.142\n",
            "beatrice\n"
          ]
        }
      ],
      "source": [
        "# Convert a float to an integer\n",
        "  # Output: 6\n",
        "print(int(6.5))\n",
        "\n",
        "# Convert an integer to a float\n",
        "  # Output: 3.0\n",
        "print(float(7))\n",
        "\n",
        "# Convert an integer to a string and print its type\n",
        "  # Output: <class 'str'>\n",
        "a = str(5)\n",
        "print(type(a))\n",
        "\n",
        "# Convert a non-zero integer to a boolean\n",
        "  # Output: True (Any non-zero value is considered True)\n",
        "print(bool(5))\n",
        "\n",
        "# Note on variable naming:\n",
        "# It's best to avoid using function names as variable names to prevent confusion.\n",
        "  # Use descriptive names for clarity\n",
        "decimal_value = 3.142\n",
        "print(decimal_value)\n",
        "\n",
        "  # Keep the variable name clear and relevant\n",
        "name = \"beatrice\"\n",
        "print(name)"
      ]
    },
    {
      "cell_type": "markdown",
      "metadata": {
        "id": "ixpdw3X90YPx"
      },
      "source": [
        "## Sequence Types: Strings, Lists, and Tuples"
      ]
    },
    {
      "cell_type": "markdown",
      "metadata": {
        "id": "FS4VoI660YPx"
      },
      "source": [
        "### Working with Strings"
      ]
    },
    {
      "cell_type": "code",
      "execution_count": 101,
      "metadata": {
        "id": "cVENYK1E0YPx"
      },
      "outputs": [
        {
          "name": "stdout",
          "output_type": "stream",
          "text": [
            "My name is Beatrice Lim\n",
            "Full Name: My name is Beatrice Lim\n"
          ]
        }
      ],
      "source": [
        "# Creating strings\n",
        "first_name = \"My name is Beatrice\"\n",
        "last_name = \"Lim\"\n",
        "print(first_name + \" \" + last_name)\n",
        "\n",
        "# Combining strings\n",
        "  # Remember to include spaces within the quotes; otherwise, the result will be \"JunYo\" instead of \"Jun Yo\".\n",
        "\n",
        "# Alternative Method for String Formatting\n",
        "  # The numbers {0} and {1} correspond to the respective order of the variables: Jun = 0, Yo = 1.\n",
        "print(\"Full Name: {0} {1}\".format(first_name, last_name))"
      ]
    },
    {
      "cell_type": "markdown",
      "metadata": {
        "id": "Do3QkLBS0YPy"
      },
      "source": [
        "### Working with Lists\n",
        "\n",
        "*   [ ]\n",
        "*   It is used to store multiple items in a single variable\n",
        "\n"
      ]
    },
    {
      "cell_type": "markdown",
      "metadata": {
        "id": "UJljv0JyI3MJ"
      },
      "source": [
        "Just some things to note\n",
        "\n",
        "(Example)\n",
        "In the list: list4 = [3, 1, 4, 1, 5]\n",
        "\n",
        "*   **list4** is the **variable** that stores the list.\n",
        "*   **3, 1, 4, 1, 5** are the **elements** in the list.\n",
        "*   **Indexes** represent the **position** of each element, **starting from 0:**\n",
        "     *   '3' is at index 0\n",
        "     *   '1' is at index 1\n",
        "     *   '4' is at index 2\n",
        "     *   '1' is at index 3\n",
        "     *   '5' is at index 4\n",
        "\n",
        "\n",
        "\n",
        "\n",
        "\n",
        "\n",
        "\n",
        "\n",
        "\n",
        "\n",
        "\n",
        "\n",
        "\n",
        "\n"
      ]
    },
    {
      "cell_type": "code",
      "execution_count": 68,
      "metadata": {
        "id": "g8SngCyXoqGt"
      },
      "outputs": [
        {
          "name": "stdout",
          "output_type": "stream",
          "text": [
            "[]\n",
            "[True, 'Monday', 134, 3.14]\n"
          ]
        }
      ],
      "source": [
        "list1 = []# Empty list\n",
        "print (list1)\n",
        "\n",
        "mixedlist = [True, \"Monday\", 134, 3.14] # List with different data types\n",
        "print(mixedlist)\n",
        "\n",
        "\n"
      ]
    },
    {
      "cell_type": "code",
      "execution_count": 108,
      "metadata": {
        "colab": {
          "base_uri": "https://localhost:8080/",
          "height": 70
        },
        "id": "WgtIoTQapNJC",
        "outputId": "2b171962-0c64-4b77-e183-8e2771ebf33a"
      },
      "outputs": [
        {
          "name": "stdout",
          "output_type": "stream",
          "text": [
            "[1, 'yay', 1, 'yay', 1, 'yay', 1, 'yay', 1, 'yay', 1, 'yay', 1, 'yay', 1, 'yay']\n",
            "[True, 'Monday', 134, 3.14, 'yay', 'yay', 'yay', 'yay', 'yay', 'yay', 'yay', 'yay']\n"
          ]
        },
        {
          "data": {
            "text/plain": [
              "'\\nNote on the append() method:\\n\\nThe append() method adds the element to the end of the list each time it is executed.\\nCalling append() multiple times (i.e., running this code again) will continue to add the elements to the existing list, rather than starting over.\\n(So, the same element will be added twice if you run the code twice, three times if you run it three times, and so on.)\\nTo reset the list, you can reinitialize it (rerun the code from the beginning).\\n'"
            ]
          },
          "execution_count": 108,
          "metadata": {},
          "output_type": "execute_result"
        }
      ],
      "source": [
        "# Adding elements to a list using the above variables\n",
        "list1.append(1)\n",
        "list1.append(\"yay\")\n",
        "print(list1)\n",
        "\n",
        "  # Adding an integer to the list\n",
        "  # Adding a string to the list\n",
        "  # Output: [1, \"AHH\"]\n",
        "mixedlist.append(\"yay\") # Adding a string to the mixed list\n",
        "print(mixedlist) # Output: [True, 'Slay', 173, 3.14, 'AHH']\n",
        "\n",
        "\"\"\"\n",
        "Note on the append() method:\n",
        "\n",
        "The append() method adds the element to the end of the list each time it is executed.\n",
        "Calling append() multiple times (i.e., running this code again) will continue to add the elements to the existing list, rather than starting over.\n",
        "(So, the same element will be added twice if you run the code twice, three times if you run it three times, and so on.)\n",
        "To reset the list, you can reinitialize it (rerun the code from the beginning).\n",
        "\"\"\""
      ]
    },
    {
      "cell_type": "code",
      "execution_count": 52,
      "metadata": {
        "id": "EhMqwM-w0YPy"
      },
      "outputs": [
        {
          "name": "stdout",
          "output_type": "stream",
          "text": [
            "[50, 1, 'yay', 1, 'yay', 1, 'yay', 1, 'yay']\n"
          ]
        }
      ],
      "source": [
        "# Inserting elements into a list at a specific position\n",
        "# Syntax: list_.insert(position, item)\n",
        "list1.insert(0,50) # Insert the number 50 at the 0th index (1st number is the position, 2nd is the element to add)\n",
        "print(list1)  # Output will show 50 at the start of the list"
      ]
    },
    {
      "cell_type": "code",
      "execution_count": 57,
      "metadata": {
        "id": "NYr5u52Rwy6h"
      },
      "outputs": [
        {
          "name": "stdout",
          "output_type": "stream",
          "text": [
            "[1, 'yay', 1, 'yay', 1, 'yay', 1, 'yay']\n"
          ]
        }
      ],
      "source": [
        "# Deleting elements from a list\n",
        "\n",
        "# Using `del` to delete by index\n",
        "del list1[0]# Deletes the element at index 0 (1st element in the list)\n",
        "print(list1)  # Output: List with the 1st element removed"
      ]
    },
    {
      "cell_type": "code",
      "execution_count": 66,
      "metadata": {
        "id": "Q05F_xXdFdpx"
      },
      "outputs": [
        {
          "name": "stdout",
          "output_type": "stream",
          "text": [
            "[1, 1, 1, 'yay', 1, 'yay']\n"
          ]
        }
      ],
      "source": [
        "# Alternative Method for Deleting elements from a list\n",
        "\n",
        "# Using `remove()` to delete by value\n",
        "list1.remove(\"yay\") # Removes the first occurrence of the value 50 from the list\n",
        "print(list1) # Output: List without the first 50"
      ]
    },
    {
      "cell_type": "code",
      "execution_count": 60,
      "metadata": {
        "id": "Qxd8-H6oG0a0"
      },
      "outputs": [
        {
          "name": "stdout",
          "output_type": "stream",
          "text": [
            "0\n"
          ]
        }
      ],
      "source": [
        "# List Indexing\n",
        "list4 = [3, 1, 4, 1, 5]\n",
        "index_list4 = list4.index(3)# Finds the index position of the element '3' in the list\n",
        "print(index_list4)  # Output: 0 (since '3' is at the 0th index)"
      ]
    },
    {
      "cell_type": "code",
      "execution_count": 67,
      "metadata": {
        "id": "JTsF0nfmSINs"
      },
      "outputs": [
        {
          "name": "stdout",
          "output_type": "stream",
          "text": [
            "1\n",
            "5\n",
            "Maximum value: 5\n",
            "Minimum value: 1\n"
          ]
        }
      ],
      "source": [
        "# Finding minimum and maximum values in a list\n",
        "min_list4 = min(list4) # Use the min() function to find the smallest element in list4\n",
        "max_list4 = max(list4) # Use the max() function to find the largest element in list4\n",
        "print(min_list4)\n",
        "print(max_list4)\n",
        "\n",
        "# With labels\n",
        "print(\"Maximum value:\", max_list4)  # Output the minimum value\n",
        "print(\"Minimum value:\", min_list4)  # Output the maximum value"
      ]
    },
    {
      "cell_type": "code",
      "execution_count": 70,
      "metadata": {
        "id": "vc5SVEzvBK33"
      },
      "outputs": [
        {
          "name": "stdout",
          "output_type": "stream",
          "text": [
            "[1, 2, 3, 4, 5, 6, 9]\n"
          ]
        }
      ],
      "source": [
        "listNum = [4,2,1,3,6,5,9]\n",
        "sorted_listNumList = sorted(listNum) # Use the sorted() function to sort the list\n",
        "print(sorted(listNum)) # Output the sorted list\n"
      ]
    },
    {
      "cell_type": "code",
      "execution_count": 71,
      "metadata": {
        "id": "dI6AzeKIBrvB"
      },
      "outputs": [
        {
          "name": "stdout",
          "output_type": "stream",
          "text": [
            "[9, 6, 5, 4, 3, 2, 1]\n"
          ]
        }
      ],
      "source": [
        "listNum2 = [1,2,3,4,5,6,9]\n",
        "listNum2.reverse() # Reverse listNum2\n",
        "print(listNum2) # Otput the reversed list"
      ]
    },
    {
      "cell_type": "code",
      "execution_count": 72,
      "metadata": {
        "id": "zlonSikNCFQj"
      },
      "outputs": [
        {
          "name": "stdout",
          "output_type": "stream",
          "text": [
            "[]\n"
          ]
        }
      ],
      "source": [
        "listNum2 = [1,2,3,4,5,6,9]\n",
        "listNum2.clear() # Clear all elements from the list\n",
        "print(listNum2) # Print the cleared list"
      ]
    },
    {
      "cell_type": "code",
      "execution_count": 75,
      "metadata": {
        "id": "ZLm22sE7CJ_t"
      },
      "outputs": [
        {
          "name": "stdout",
          "output_type": "stream",
          "text": [
            "['H', 'A', 'Y', 'A', 123]\n"
          ]
        }
      ],
      "source": [
        "list5 = [\"H\", \"A\", \"Y\"]\n",
        "list6 = [\"A\", 123]\n",
        "listAdded = list5 + list6\n",
        "print(listAdded)\n",
        "\n",
        " # Add the two lists together\n",
        " # Output the added list"
      ]
    },
    {
      "cell_type": "code",
      "execution_count": 76,
      "metadata": {
        "id": "u3FYS3JZCgkc"
      },
      "outputs": [
        {
          "name": "stdout",
          "output_type": "stream",
          "text": [
            "('Beatrice', 'H', 'Beatrice', 'H')\n"
          ]
        }
      ],
      "source": [
        "listNames = (\"Beatrice\", \"H\")\n",
        "listMultiplied = listNames * 2  # Multiply the list by 2\n",
        "print(listMultiplied) # Output the multiplied list"
      ]
    },
    {
      "cell_type": "markdown",
      "metadata": {
        "id": "_YLFb-WGDCs8"
      },
      "source": [
        "### Working with Tuples\n",
        "- Immutable\n",
        "- It is a ordered sequence of values"
      ]
    },
    {
      "cell_type": "code",
      "execution_count": 78,
      "metadata": {
        "id": "kwrmo-XJ0YPy"
      },
      "outputs": [
        {
          "data": {
            "text/plain": [
              "tuple"
            ]
          },
          "execution_count": 78,
          "metadata": {},
          "output_type": "execute_result"
        }
      ],
      "source": [
        "dance = (\"jazz\", \"tap\")\n",
        "type(dance) # Check the type of the 'parents' variable"
      ]
    },
    {
      "cell_type": "code",
      "execution_count": 81,
      "metadata": {
        "id": "K_PTgd_aEKEI"
      },
      "outputs": [
        {
          "name": "stdout",
          "output_type": "stream",
          "text": [
            "['jazz', 'tap']\n"
          ]
        },
        {
          "data": {
            "text/plain": [
              "list"
            ]
          },
          "execution_count": 81,
          "metadata": {},
          "output_type": "execute_result"
        }
      ],
      "source": [
        "tuplelist = list(dance)\n",
        "print(tuplelist) # Output the list\n",
        "type(tuplelist) # Check the type of 'tuplelist'"
      ]
    },
    {
      "cell_type": "code",
      "execution_count": 85,
      "metadata": {
        "id": "MLliO46RElXM"
      },
      "outputs": [
        {
          "name": "stdout",
          "output_type": "stream",
          "text": [
            "['jazz', 'tap', 'Ballet']\n"
          ]
        }
      ],
      "source": [
        "tuplelist.append(\"Ballet\") # Add new line to the list 'tuplelist' (only add one variable at a time, eg. Ballet)\n",
        "print(tuplelist) # Output the updated list"
      ]
    },
    {
      "cell_type": "code",
      "execution_count": 86,
      "metadata": {
        "id": "32Wg2x89GuXA"
      },
      "outputs": [
        {
          "name": "stdout",
          "output_type": "stream",
          "text": [
            "('jazz', 'tap', 'Ballet')\n"
          ]
        }
      ],
      "source": [
        "new_tuple = tuple(tuplelist) # Convert the list 'tuplelist' back to a tuple\n",
        "print(new_tuple) # Check the value of the new tuple"
      ]
    },
    {
      "cell_type": "code",
      "execution_count": 87,
      "metadata": {
        "id": "SS3bxGkbG-vl"
      },
      "outputs": [
        {
          "name": "stdout",
          "output_type": "stream",
          "text": [
            "3\n"
          ]
        }
      ],
      "source": [
        "length_of_tuplelist = len(tuplelist) # Get the length of the list 'tuplelist'\n",
        "print(length_of_tuplelist) # Output of the length"
      ]
    },
    {
      "cell_type": "markdown",
      "metadata": {
        "id": "ZCXp6Jhg0YPy"
      },
      "source": [
        "## Working with Sets\n",
        "\n",
        "{ }\n",
        "- It is an unordered collection with no duplicate elements\n",
        "- Computer implementation of the mathematical concept of a finite set\n",
        "- Mutable"
      ]
    },
    {
      "cell_type": "code",
      "execution_count": 91,
      "metadata": {
        "id": "B5vdCq3P0YPy"
      },
      "outputs": [
        {
          "name": "stdout",
          "output_type": "stream",
          "text": [
            "{'cat', 'dog', 'rabbit'}\n"
          ]
        }
      ],
      "source": [
        "x = {\"dog\", \"cat\", \"rabbit\"}\n",
        "print(x) # Output of the set\n"
      ]
    },
    {
      "cell_type": "code",
      "execution_count": 93,
      "metadata": {
        "id": "VgrBbY_1HrNx"
      },
      "outputs": [
        {
          "name": "stdout",
          "output_type": "stream",
          "text": [
            "{'cat', 'wolf', 'dog', 'rabbit'}\n"
          ]
        }
      ],
      "source": [
        "x.add(\"wolf\") # Add an element to the set\n",
        "print(x) # Output of the updated set"
      ]
    },
    {
      "cell_type": "code",
      "execution_count": 94,
      "metadata": {
        "id": "MbMyt-oQH80_"
      },
      "outputs": [
        {
          "name": "stdout",
          "output_type": "stream",
          "text": [
            "{'wolf', 'dog', 'rabbit'}\n"
          ]
        }
      ],
      "source": [
        "x.remove(\"cat\") # Remove an element from the set\n",
        "print(x) # Output of the updated set"
      ]
    },
    {
      "cell_type": "code",
      "execution_count": 95,
      "metadata": {
        "id": "Z6V43JC2IaLt"
      },
      "outputs": [
        {
          "name": "stdout",
          "output_type": "stream",
          "text": [
            "{2, (1, 2, 3), 'Hello', 4.3}\n"
          ]
        }
      ],
      "source": [
        "z = {(1,2,3), \"Hello\", 2, 4.3}\n",
        "print(z) # Output of the set"
      ]
    },
    {
      "cell_type": "code",
      "execution_count": 100,
      "metadata": {
        "id": "sdYsD2okI5cZ"
      },
      "outputs": [
        {
          "name": "stdout",
          "output_type": "stream",
          "text": [
            "[1, 2, 3, 4, 5, 7]\n",
            "{1, 2, 3, 4, 5, 7}\n",
            "<class 'set'>\n"
          ]
        }
      ],
      "source": [
        "r = [1,2,3,4,5,7]\n",
        "print(r) # Output of the original list\n",
        "\n",
        "r_set = set(r) # Convert the list to a set (to remove duplicates)\n",
        "print(r_set) # Output of the converted set (take note of the diff in brackets)\n",
        "\n",
        "type_of_r_set = type(r_set) # Check the data type of r_set\n",
        "print(type_of_r_set) # Output of the converted set"
      ]
    }
  ],
  "metadata": {
    "colab": {
      "collapsed_sections": [
        "FS4VoI660YPx"
      ],
      "provenance": []
    },
    "kernelspec": {
      "display_name": "Python 3",
      "language": "python",
      "name": "python3"
    },
    "language_info": {
      "codemirror_mode": {
        "name": "ipython",
        "version": 3
      },
      "file_extension": ".py",
      "mimetype": "text/x-python",
      "name": "python",
      "nbconvert_exporter": "python",
      "pygments_lexer": "ipython3",
      "version": "3.12.6"
    }
  },
  "nbformat": 4,
  "nbformat_minor": 0
}
