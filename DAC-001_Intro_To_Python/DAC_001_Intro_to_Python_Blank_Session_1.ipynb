{
  "cells": [
    {
      "cell_type": "markdown",
      "metadata": {
        "id": "XB1Co0jipXyX"
      },
      "source": [
        "# DACademy Session 1: Basic GitHub + Intro to Python\n"
      ]
    },
    {
      "cell_type": "markdown",
      "metadata": {
        "id": "kdzTsQtK0YPu"
      },
      "source": [
        "## Comments and Print Statements:"
      ]
    },
    {
      "cell_type": "code",
      "execution_count": 125,
      "metadata": {
        "colab": {
          "base_uri": "https://localhost:8080/",
          "height": 35
        },
        "id": "v-2yQ1QS0YPu",
        "outputId": "bb68f5c7-7d01-4acf-950d-d3e910fdc4db"
      },
      "outputs": [
        {
          "name": "stdout",
          "output_type": "stream",
          "text": [
            "hello world\n"
          ]
        }
      ],
      "source": [
        "# Welcome to DAC!\n",
        "# Single-line comments use the ____hash__\n",
        "# Comments are useful for explaining code or for temporary debugging\n",
        "\n",
        "\"\"\"\n",
        "Multi-line comments are created using __triple hash____\n",
        "They can span multiple lines and are often used for detailed explanations or documentation.\n",
        "Hi hi hi hi hi\n",
        "\"\"\"\n",
        "\n",
        "# The print() function is used to display output\n",
        "print(\"hello world\")\n"
      ]
    },
    {
      "cell_type": "markdown",
      "metadata": {
        "id": "8Cy9F5sHZ4-B"
      },
      "source": [
        "**Keyboard Shortcuts to Run Code**\n",
        "\n",
        "\n",
        "*   Mac: Command (⌘) + Enter\n",
        "*   Windows: Ctrl + Enter\n"
      ]
    },
    {
      "cell_type": "code",
      "execution_count": 126,
      "metadata": {
        "id": "0Iyg-UKUZsLy"
      },
      "outputs": [
        {
          "name": "stdout",
          "output_type": "stream",
          "text": [
            "inesh\n"
          ]
        }
      ],
      "source": [
        "print(\"inesh\")\n",
        "\n"
      ]
    },
    {
      "cell_type": "markdown",
      "metadata": {
        "id": "xyKWUB-Q0YPv"
      },
      "source": [
        "## Basic Arithmetic Operations and Data Types"
      ]
    },
    {
      "cell_type": "code",
      "execution_count": 307,
      "metadata": {
        "id": "dvXP5FTPdLFk"
      },
      "outputs": [
        {
          "name": "stdout",
          "output_type": "stream",
          "text": [
            "11\n",
            "5\n",
            "24\n",
            "2.6666666666666665\n",
            "2\n",
            "512\n"
          ]
        }
      ],
      "source": [
        "# Arithmetic Operators: + - * / % **\n",
        "\n",
        "# Addition +\n",
        "print(8+3)\n",
        "\n",
        "# Subtraction -\n",
        "print(8-3)\n",
        "# Multiplication *\n",
        "print(8*3)\n",
        "# Division /\n",
        "print(8/3)\n",
        "# Modulo % (Gives the remainder of division, e.g., 8 % 3 = 2)\n",
        "print(8%3)\n",
        "# Exponentiation **\n",
        "print(8 ** 3)"
      ]
    },
    {
      "cell_type": "code",
      "execution_count": 313,
      "metadata": {
        "colab": {
          "base_uri": "https://localhost:8080/"
        },
        "id": "8dNEkPQ30YPw",
        "outputId": "88851191-2cf0-4a89-8463-f66016be0cd9"
      },
      "outputs": [
        {
          "name": "stdout",
          "output_type": "stream",
          "text": [
            "meow meow\n",
            "meow meow\n",
            "!@#$%jkwewuorweprh6546846515648646546\n",
            "10\n",
            "4294967296\n",
            "3.14\n",
            "(2+3j)\n"
          ]
        }
      ],
      "source": [
        "# Text inside quotes is known as a string\n",
        "# Can use either \"\" or '', both work the same\n",
        "print(\"meow meow\")\n",
        "print('meow meow')\n",
        "# This is to show you that the string can contain any special characters\n",
        "print(\"!@#$%jkwewuorweprh6546846515648646546\")\n",
        "\n",
        "# Integers are whole numbers\n",
        "print(10)\n",
        "# Long Integers (Python automatically handles big integers)\n",
        "print(2 ** 32)\n",
        "# Floats represent decimal numbers\n",
        "print(3.14)\n",
        "# Complex Numbers use 'j' to represent the imaginary part\n",
        "print(2+3j)"
      ]
    },
    {
      "cell_type": "markdown",
      "metadata": {
        "id": "DmJBgrZy0YPw"
      },
      "source": [
        "## Boolean\n",
        "*   Booleans represent one of two values: True or False.\n",
        "\n"
      ]
    },
    {
      "cell_type": "code",
      "execution_count": 318,
      "metadata": {
        "id": "tUXDV62x0YPw"
      },
      "outputs": [
        {
          "name": "stdout",
          "output_type": "stream",
          "text": [
            "False\n"
          ]
        }
      ],
      "source": [
        "a = 5\n",
        "b = 10 % 3  # Modulus operation gives the remainder of 10 divided by 3 (which is 1)\n",
        "c = bool (a == b) # bool() converts the result of the comparison to True or False\n",
        "print(c)# This will print False since 5 is not equal to 1"
      ]
    },
    {
      "cell_type": "code",
      "execution_count": 330,
      "metadata": {
        "id": "rMT50ucpfk8k"
      },
      "outputs": [
        {
          "name": "stdout",
          "output_type": "stream",
          "text": [
            "True\n",
            "False\n",
            "True\n",
            "True\n",
            "True\n",
            "True\n",
            "False\n"
          ]
        }
      ],
      "source": [
        "# Equals ==\n",
        "print(5 ==5)\n",
        "print(5 == 4)\n",
        "# Inqual !=\n",
        "print (5!= 6)\n",
        "# More than >\n",
        "print(5>4)\n",
        "# More than and equal to >=\n",
        "print(6 >= 4)\n",
        "# Less than <\n",
        "print(6 > 4)\n",
        "# Less than and equal to <=\n",
        "print(6 <= 4)"
      ]
    },
    {
      "cell_type": "code",
      "execution_count": 319,
      "metadata": {
        "id": "DuSwiBLf4FbJ"
      },
      "outputs": [
        {
          "name": "stdout",
          "output_type": "stream",
          "text": [
            "<class 'bool'>\n",
            "<class 'str'>\n",
            "<class 'int'>\n"
          ]
        }
      ],
      "source": [
        "# Using Boolean to find the Data Type of a Variable\n",
        "# Use type() to find the data type of a value or variable\n",
        "\n",
        "a = True # A Boolean value can be either True or False.\n",
        "print(type(a))# This checks the type of 'a' and will return <class 'bool'>\n",
        "\n",
        "# Checking the type of a string\n",
        "print(type(\"i love DAC\")) # This will return <class 'str'>, indicating it's a string.\n",
        "\n",
        "# Checking the type of an integer\n",
        "print(type(4))# This will return <class 'int'>, indicating it's an integer."
      ]
    },
    {
      "cell_type": "markdown",
      "metadata": {
        "id": "UHZRrqmecVhV"
      },
      "source": [
        "## Converting Data types"
      ]
    },
    {
      "cell_type": "code",
      "execution_count": 332,
      "metadata": {
        "id": "lRjGQ9i_cQsH"
      },
      "outputs": [
        {
          "name": "stdout",
          "output_type": "stream",
          "text": [
            "6\n",
            "3.0\n",
            "<class 'str'>\n",
            "True\n",
            "3.142\n",
            "5\n"
          ]
        }
      ],
      "source": [
        "# Convert a float to an integer\n",
        "print(int(6.555555)) # Output: 6\n",
        "\n",
        "# Convert an integer to a float\n",
        "print(float(3)) # Output: 3.0\n",
        "\n",
        "# Convert an integer to a string and print its type\n",
        "print(type(str(6))) # Output: <class 'str'>\n",
        "\n",
        "# Convert a non-zero integer to a boolean\n",
        "print(bool(5)) # Output: True (Any non-zero value is considered True)\n",
        "\n",
        "# Note on variable naming:\n",
        "# It's best to avoid using function names as variable names to prevent confusion.\n",
        "decimal_value = 3.142  # Use descriptive names for clarity\n",
        "print(decimal_value)\n",
        "\n",
        "number = 5 # Keep the variable name clear and relevant\n",
        "print(number)"
      ]
    },
    {
      "cell_type": "markdown",
      "metadata": {
        "id": "ixpdw3X90YPx"
      },
      "source": [
        "## Sequence Types: Strings, Lists, and Tuples"
      ]
    },
    {
      "cell_type": "markdown",
      "metadata": {
        "id": "FS4VoI660YPx"
      },
      "source": [
        "### Working with Strings"
      ]
    },
    {
      "cell_type": "code",
      "execution_count": 325,
      "metadata": {
        "id": "cVENYK1E0YPx"
      },
      "outputs": [
        {
          "name": "stdout",
          "output_type": "stream",
          "text": [
            "inesh\n",
            "Full name:ineshtanasekar\n",
            "Full Name: inesh tanasekar\n"
          ]
        }
      ],
      "source": [
        "# Creating strings\n",
        "name = \"inesh\"\n",
        "print(name)\n",
        "# Combining strings\n",
        "last_name = \"tanasekar\"\n",
        "print(\"Full name:\" + name + \"\" + last_name)\n",
        "  # Remember to include spaces within the quotes; otherwise, the result will be \"JunYo\" instead of \"Jun Yo\".\n",
        "\n",
        "# Alternative Method for String Formatting\n",
        "print(\"Full Name: {0} {1}\".format(name, last_name))# The numbers {0} and {1} correspond to the respective order of the variables: Jun= 0, Yo = 1."
      ]
    },
    {
      "cell_type": "markdown",
      "metadata": {
        "id": "Do3QkLBS0YPy"
      },
      "source": [
        "### Working with Lists\n",
        "\n",
        "*   [ ]\n",
        "*   It is used to store multiple items in a single variable\n",
        "\n"
      ]
    },
    {
      "cell_type": "markdown",
      "metadata": {
        "id": "UJljv0JyI3MJ"
      },
      "source": [
        "Just some things to note\n",
        "\n",
        "(Example)\n",
        "In the list: list4 = [3, 1, 4, 1, 5]\n",
        "\n",
        "*   **list4** is the **variable** that stores the list.\n",
        "*   **3, 1, 4, 1, 5** are the **elements** in the list.\n",
        "*   **Indexes** represent the **position** of each element, **starting from 0:**\n",
        "     *   '3' is at index 0\n",
        "     *   '1' is at index 1\n",
        "     *   '4' is at index 2\n",
        "     *   '1' is at index 3\n",
        "     *   '5' is at index 4\n",
        "\n",
        "\n",
        "\n",
        "\n",
        "\n",
        "\n",
        "\n",
        "\n",
        "\n",
        "\n",
        "\n",
        "\n",
        "\n",
        "\n"
      ]
    },
    {
      "cell_type": "code",
      "execution_count": 17,
      "metadata": {
        "id": "g8SngCyXoqGt"
      },
      "outputs": [
        {
          "name": "stdout",
          "output_type": "stream",
          "text": [
            "[]\n",
            "(True, 'Monday', 134, 3.14)\n"
          ]
        }
      ],
      "source": [
        "list1 = [] \n",
        "# Empty list\n",
        "print(list1)\n",
        "\n",
        "mixedlist = (True, \"Monday\" , 134, 3.14)\n",
        "print(mixedlist)\n",
        " # List with different data types\n"
      ]
    },
    {
      "cell_type": "code",
      "execution_count": 18,
      "metadata": {
        "colab": {
          "base_uri": "https://localhost:8080/",
          "height": 70
        },
        "id": "WgtIoTQapNJC",
        "outputId": "2b171962-0c64-4b77-e183-8e2771ebf33a"
      },
      "outputs": [
        {
          "name": "stdout",
          "output_type": "stream",
          "text": [
            "[1, 'yay']\n"
          ]
        },
        {
          "ename": "AttributeError",
          "evalue": "'tuple' object has no attribute 'append'",
          "output_type": "error",
          "traceback": [
            "\u001b[0;31m---------------------------------------------------------------------------\u001b[0m",
            "\u001b[0;31mAttributeError\u001b[0m                            Traceback (most recent call last)",
            "Cell \u001b[0;32mIn[18], line 6\u001b[0m\n\u001b[1;32m      4\u001b[0m \u001b[38;5;28mprint\u001b[39m(list1)\n\u001b[1;32m      5\u001b[0m   \u001b[38;5;66;03m# Adding an integer to the list\u001b[39;00m\n\u001b[0;32m----> 6\u001b[0m \u001b[43mmixedlist\u001b[49m\u001b[38;5;241;43m.\u001b[39;49m\u001b[43mappend\u001b[49m(\u001b[38;5;124m\"\u001b[39m\u001b[38;5;124myay\u001b[39m\u001b[38;5;124m\"\u001b[39m)\n\u001b[1;32m      7\u001b[0m \u001b[38;5;28mprint\u001b[39m(mixedlist)\n\u001b[1;32m      8\u001b[0m   \u001b[38;5;66;03m# Adding a string to the list\u001b[39;00m\n\u001b[1;32m      9\u001b[0m   \u001b[38;5;66;03m# Output: [1, \"AHH\"]\u001b[39;00m\n\u001b[1;32m     10\u001b[0m \n\u001b[1;32m     11\u001b[0m   \u001b[38;5;66;03m# Adding a string to the mixed list\u001b[39;00m\n\u001b[1;32m     12\u001b[0m   \u001b[38;5;66;03m# Output: [True, 'Slay', 173, 3.14, 'AHH']\u001b[39;00m\n",
            "\u001b[0;31mAttributeError\u001b[0m: 'tuple' object has no attribute 'append'"
          ]
        }
      ],
      "source": [
        "# Adding elements to a list using the above variables\n",
        "list1.append(1)\n",
        "list1.append(\"yay\")\n",
        "print(list1)\n",
        "  # Adding an integer to the list\n",
        "mixedlist.append(\"yay\")\n",
        "print(mixedlist)\n",
        "  # Adding a string to the list\n",
        "  # Output: [1, \"AHH\"]\n",
        "\n",
        "  # Adding a string to the mixed list\n",
        "  # Output: [True, 'Slay', 173, 3.14, 'AHH']\n",
        "\n",
        "\"\"\"\n",
        "Note on the append() method:\n",
        "\n",
        "The append() method adds the element to the end of the list each time it is executed.\n",
        "Calling append() multiple times (i.e., running this code again) will continue to add the elements to the existing list, rather than starting over.\n",
        "(So, the same element will be added twice if you run the code twice, three times if you run it three times, and so on.)\n",
        "To reset the list, you can reinitialize it (rerun the code from the beginning).\n",
        "\"\"\""
      ]
    },
    {
      "cell_type": "code",
      "execution_count": 15,
      "metadata": {
        "id": "EhMqwM-w0YPy"
      },
      "outputs": [
        {
          "ename": "AttributeError",
          "evalue": "'tuple' object has no attribute 'insert'",
          "output_type": "error",
          "traceback": [
            "\u001b[0;31m---------------------------------------------------------------------------\u001b[0m",
            "\u001b[0;31mAttributeError\u001b[0m                            Traceback (most recent call last)",
            "Cell \u001b[0;32mIn[15], line 3\u001b[0m\n\u001b[1;32m      1\u001b[0m \u001b[38;5;66;03m# Inserting elements into a list at a specific position\u001b[39;00m\n\u001b[1;32m      2\u001b[0m \u001b[38;5;66;03m# Syntax: list_.insert(position, item)\u001b[39;00m\n\u001b[0;32m----> 3\u001b[0m \u001b[43mlist1\u001b[49m\u001b[38;5;241;43m.\u001b[39;49m\u001b[43minsert\u001b[49m(\u001b[38;5;241m0\u001b[39m, \u001b[38;5;241m50\u001b[39m)\n\u001b[1;32m      4\u001b[0m \u001b[38;5;28mprint\u001b[39m(list1)\n\u001b[1;32m      5\u001b[0m \u001b[38;5;66;03m# Output will show 50 at the start of the list\u001b[39;00m\n",
            "\u001b[0;31mAttributeError\u001b[0m: 'tuple' object has no attribute 'insert'"
          ]
        }
      ],
      "source": [
        "# Inserting elements into a list at a specific position\n",
        "# Syntax: list_.insert(position, item)\n",
        "list1.insert(0, 50)\n",
        "print(list1)\n",
        "# Output will show 50 at the start of the list"
      ]
    },
    {
      "cell_type": "code",
      "execution_count": 287,
      "metadata": {
        "id": "NYr5u52Rwy6h"
      },
      "outputs": [],
      "source": [
        "# Deleting elements from a list\n",
        "\n",
        "# Using `del` to delete by index\n",
        "  # Deletes the element at index 0 (1st element in the list)\n",
        "  # Output: List with the 1st element removed"
      ]
    },
    {
      "cell_type": "code",
      "execution_count": 288,
      "metadata": {
        "id": "Q05F_xXdFdpx"
      },
      "outputs": [],
      "source": [
        "# Alternative Method for Deleting elements from a list\n",
        "\n",
        "# Using `remove()` to delete by value\n",
        "list1.remove(\"yay\")\n",
        "  # Removes the first occurrence of the value 50 from the list\n",
        "  # Output: List without the first 50"
      ]
    },
    {
      "cell_type": "code",
      "execution_count": 10,
      "metadata": {
        "id": "Qxd8-H6oG0a0"
      },
      "outputs": [
        {
          "name": "stdout",
          "output_type": "stream",
          "text": [
            "0\n"
          ]
        }
      ],
      "source": [
        "# List Indexing\n",
        "list4 = (3, 1, 4, 1, 5)\n",
        "index_list4 = list4.index(3)\n",
        "print(index_list4)\n",
        "#\n",
        "  # Finds the index position of the element '3' in the list\n",
        "  \n",
        "  # Output: 0 (since '3' is at the 0th index)"
      ]
    },
    {
      "cell_type": "code",
      "execution_count": 290,
      "metadata": {
        "id": "JTsF0nfmSINs"
      },
      "outputs": [],
      "source": [
        "# Finding minimum and maximum values in a list\n",
        "min_list4 = min(# Use the min() function to find the smallest element in list4\n",
        "  # Use the max() function to find the largest element in list4\n",
        "\n",
        "\n",
        "\n",
        "# With labels\n",
        "  # Output the minimum value\n",
        "  # Output the maximum value"
      ]
    },
    {
      "cell_type": "code",
      "execution_count": 291,
      "metadata": {
        "id": "vc5SVEzvBK33"
      },
      "outputs": [],
      "source": [
        "listNum(4,2,1,3,6,5,9)\n",
        "sorted_listNumList =\n",
        "# Use the sorted() function to sort the list\n",
        " # Output the sorted list"
      ]
    },
    {
      "cell_type": "code",
      "execution_count": 292,
      "metadata": {
        "id": "dI6AzeKIBrvB"
      },
      "outputs": [],
      "source": [
        "ListNum2 = (1,2,3,4,5,6,9)\n",
        " # Reverse listNum2\n",
        " listNum2.reverse()\n",
        " # Otput the reversed list\n",
        " print(listNum)"
      ]
    },
    {
      "cell_type": "code",
      "execution_count": 293,
      "metadata": {
        "id": "zlonSikNCFQj"
      },
      "outputs": [],
      "source": [
        "\n",
        " # Clear all elements from the list\n",
        "ListNum2 = (1,2,3,4,5,6,9)\n",
        "ListNum2.clear()\n",
        " # Print the cleared list\n",
        "print(listNum2)"
      ]
    },
    {
      "cell_type": "code",
      "execution_count": 294,
      "metadata": {
        "id": "ZLm22sE7CJ_t"
      },
      "outputs": [],
      "source": [
        "\n",
        "\n",
        " # Add the two lists together\n",
        " # Output the added list"
      ]
    },
    {
      "cell_type": "code",
      "execution_count": 295,
      "metadata": {
        "id": "u3FYS3JZCgkc"
      },
      "outputs": [],
      "source": [
        "\n",
        " # Multiply the list by 2\n",
        "ListNames = (\"inesh\" , \"tanasekar\")\n",
        "ListNames\n",
        " # Output the multiplied list"
      ]
    },
    {
      "cell_type": "markdown",
      "metadata": {
        "id": "_YLFb-WGDCs8"
      },
      "source": [
        "### Working with Tuples\n",
        "- Immutable\n",
        "- It is a ordered sequence of values"
      ]
    },
    {
      "cell_type": "code",
      "execution_count": 296,
      "metadata": {
        "id": "kwrmo-XJ0YPy"
      },
      "outputs": [],
      "source": [
        "dance = \n",
        " # Check the type of the 'parents' variable"
      ]
    },
    {
      "cell_type": "code",
      "execution_count": 297,
      "metadata": {
        "id": "K_PTgd_aEKEI"
      },
      "outputs": [],
      "source": [
        "\n",
        " # Output the list\n",
        " # Check the type of 'tuplelist'"
      ]
    },
    {
      "cell_type": "code",
      "execution_count": 16,
      "metadata": {
        "id": "MLliO46RElXM"
      },
      "outputs": [
        {
          "ename": "NameError",
          "evalue": "name 'tuplelist' is not defined",
          "output_type": "error",
          "traceback": [
            "\u001b[0;31m---------------------------------------------------------------------------\u001b[0m",
            "\u001b[0;31mNameError\u001b[0m                                 Traceback (most recent call last)",
            "Cell \u001b[0;32mIn[16], line 1\u001b[0m\n\u001b[0;32m----> 1\u001b[0m \u001b[43mtuplelist\u001b[49m\u001b[38;5;241m.\u001b[39mappend(\u001b[38;5;124m\"\u001b[39m\u001b[38;5;124mBallet\u001b[39m\u001b[38;5;124m\"\u001b[39m, \u001b[38;5;124m\"\u001b[39m\u001b[38;5;124mHip Hop\u001b[39m\u001b[38;5;124m\"\u001b[39m, \u001b[38;5;124m\"\u001b[39m\u001b[38;5;124mSalsa\u001b[39m\u001b[38;5;124m\"\u001b[39m) \u001b[38;5;66;03m# Add new line to the list 'tuplelist'\u001b[39;00m\n\u001b[1;32m      2\u001b[0m  \u001b[38;5;66;03m# Output the updated list\u001b[39;00m\n",
            "\u001b[0;31mNameError\u001b[0m: name 'tuplelist' is not defined"
          ]
        }
      ],
      "source": [
        "tuplelist.append(\"Ballet\", \"Hip Hop\", \"Salsa\") # Add new line to the list 'tuplelist'\n",
        " # Output the updated list"
      ]
    },
    {
      "cell_type": "code",
      "execution_count": 299,
      "metadata": {
        "id": "32Wg2x89GuXA"
      },
      "outputs": [],
      "source": [
        " # Convert the list 'tuplelist' back to a tuple\n",
        " # Check the value of the new tuple"
      ]
    },
    {
      "cell_type": "code",
      "execution_count": 300,
      "metadata": {
        "id": "SS3bxGkbG-vl"
      },
      "outputs": [],
      "source": [
        " # Get the length of the list 'tuplelist'\n",
        " # Output of the length"
      ]
    },
    {
      "cell_type": "markdown",
      "metadata": {
        "id": "ZCXp6Jhg0YPy"
      },
      "source": [
        "## Working with Sets\n",
        "\n",
        "{ }\n",
        "- It is an unordered collection with no duplicate elements\n",
        "- Computer implementation of the mathematical concept of a finite set\n",
        "- Mutable"
      ]
    },
    {
      "cell_type": "code",
      "execution_count": 19,
      "metadata": {
        "id": "B5vdCq3P0YPy"
      },
      "outputs": [
        {
          "name": "stdout",
          "output_type": "stream",
          "text": [
            "{'wolf', 'cat', 'dog'}\n"
          ]
        }
      ],
      "source": [
        "x = {\"dog\", \"cat\" , \"wolf\"}\n",
        "print(x)\n",
        " # Output of the set"
      ]
    },
    {
      "cell_type": "code",
      "execution_count": 20,
      "metadata": {
        "id": "VgrBbY_1HrNx"
      },
      "outputs": [
        {
          "name": "stdout",
          "output_type": "stream",
          "text": [
            "{'wolf', 'cat', 'dolphin', 'dog'}\n"
          ]
        }
      ],
      "source": [
        " \n",
        "# Add an element to the set\n",
        "x.add(\"dolphin\")\n",
        "print(x) # Output of the updated set"
      ]
    },
    {
      "cell_type": "code",
      "execution_count": 25,
      "metadata": {
        "id": "MbMyt-oQH80_"
      },
      "outputs": [
        {
          "ename": "KeyError",
          "evalue": "'cat'",
          "output_type": "error",
          "traceback": [
            "\u001b[0;31m---------------------------------------------------------------------------\u001b[0m",
            "\u001b[0;31mKeyError\u001b[0m                                  Traceback (most recent call last)",
            "Cell \u001b[0;32mIn[25], line 2\u001b[0m\n\u001b[1;32m      1\u001b[0m \u001b[38;5;66;03m# Remove an element from the set\u001b[39;00m\n\u001b[0;32m----> 2\u001b[0m \u001b[43mx\u001b[49m\u001b[38;5;241;43m.\u001b[39;49m\u001b[43mremove\u001b[49m\u001b[43m(\u001b[49m\u001b[38;5;124;43m\"\u001b[39;49m\u001b[38;5;124;43mcat\u001b[39;49m\u001b[38;5;124;43m\"\u001b[39;49m\u001b[43m)\u001b[49m\n\u001b[1;32m      3\u001b[0m \u001b[38;5;66;03m# Output of the updated set\u001b[39;00m\n\u001b[1;32m      4\u001b[0m \u001b[38;5;28mprint\u001b[39m(x)\n",
            "\u001b[0;31mKeyError\u001b[0m: 'cat'"
          ]
        }
      ],
      "source": [
        " # Remove an element from the set\n",
        "x.remove(\"cat\") \n",
        " # Output of the updated set\n",
        "print(x)"
      ]
    },
    {
      "cell_type": "code",
      "execution_count": 23,
      "metadata": {
        "id": "Z6V43JC2IaLt"
      },
      "outputs": [
        {
          "ename": "TypeError",
          "evalue": "unhashable type: 'set'",
          "output_type": "error",
          "traceback": [
            "\u001b[0;31m---------------------------------------------------------------------------\u001b[0m",
            "\u001b[0;31mTypeError\u001b[0m                                 Traceback (most recent call last)",
            "Cell \u001b[0;32mIn[23], line 1\u001b[0m\n\u001b[0;32m----> 1\u001b[0m z \u001b[38;5;241m=\u001b[39m {{\u001b[38;5;241m1\u001b[39m, \u001b[38;5;241m2\u001b[39m, \u001b[38;5;241m3\u001b[39m}, \u001b[38;5;124m\"\u001b[39m\u001b[38;5;124mfein fein fein\u001b[39m\u001b[38;5;124m\"\u001b[39m, \u001b[38;5;241m2\u001b[39m, \u001b[38;5;241m4.3\u001b[39m}\n\u001b[1;32m      2\u001b[0m  \u001b[38;5;66;03m# Output of the set\u001b[39;00m\n\u001b[1;32m      3\u001b[0m \u001b[38;5;28mprint\u001b[39m(z)\n",
            "\u001b[0;31mTypeError\u001b[0m: unhashable type: 'set'"
          ]
        }
      ],
      "source": [
        "z = {{1, 2, 3}, \"fein fein fein\", 2, 4.3}\n",
        " # Output of the set\n",
        "print(z)"
      ]
    },
    {
      "cell_type": "code",
      "execution_count": 305,
      "metadata": {
        "id": "sdYsD2okI5cZ"
      },
      "outputs": [],
      "source": [
        "\n",
        " # Output of the original list\n",
        "\n",
        " # Convert the list to a set (to remove duplicates)\n",
        " # Output of the converted set\n",
        "\n",
        " # Check the data type of r_set\n",
        " # Output of the converted set"
      ]
    },
    {
      "cell_type": "markdown",
      "metadata": {
        "id": "fEkjRhbC0YPy"
      },
      "source": [
        "## Working with Dictionaries"
      ]
    },
    {
      "cell_type": "code",
      "execution_count": 306,
      "metadata": {
        "id": "YJCVMWae0YPy"
      },
      "outputs": [],
      "source": [
        "# Creating a dictionary to store information about a person\n",
        "\n",
        "\n",
        "\n",
        "\n",
        "\n",
        "\n",
        "  # Outputs the entire dictionary\n",
        "\n",
        "# Accessing a specific value using the key\n",
        "\n",
        "\n",
        "# Using the get() method to retrieve a value safely\n",
        "\n"
      ]
    }
  ],
  "metadata": {
    "colab": {
      "collapsed_sections": [
        "FS4VoI660YPx"
      ],
      "provenance": []
    },
    "kernelspec": {
      "display_name": "Python 3",
      "language": "python",
      "name": "python3"
    },
    "language_info": {
      "codemirror_mode": {
        "name": "ipython",
        "version": 3
      },
      "file_extension": ".py",
      "mimetype": "text/x-python",
      "name": "python",
      "nbconvert_exporter": "python",
      "pygments_lexer": "ipython3",
      "version": "3.9.6"
    }
  },
  "nbformat": 4,
  "nbformat_minor": 0
}
