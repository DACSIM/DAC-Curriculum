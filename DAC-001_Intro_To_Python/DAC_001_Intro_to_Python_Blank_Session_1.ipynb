{
  "cells": [
    {
      "cell_type": "markdown",
      "metadata": {
        "id": "XB1Co0jipXyX"
      },
      "source": [
        "# DACademy Session 1: Basic GitHub + Intro to Python\n"
      ]
    },
    {
      "cell_type": "markdown",
      "metadata": {
        "id": "kdzTsQtK0YPu"
      },
      "source": [
        "## Comments and Print Statements:"
      ]
    },
    {
      "cell_type": "code",
      "execution_count": 3,
      "metadata": {
        "colab": {
          "base_uri": "https://localhost:8080/",
          "height": 35
        },
        "id": "v-2yQ1QS0YPu",
        "outputId": "bb68f5c7-7d01-4acf-950d-d3e910fdc4db"
      },
      "outputs": [
        {
          "name": "stdout",
          "output_type": "stream",
          "text": [
            "Hello world\n",
            "HELP\n",
            "MANASA\n"
          ]
        }
      ],
      "source": [
        "# Welcome to DAC!\n",
        "# Single-line comments use the triple quotes\n",
        "# Comments are useful for explaining code or for temporary debugging\n",
        "\n",
        "\"\"\"\n",
        "Multi-line comments are created using ______\n",
        "They can span multiple lines and are often used for detailed explanations or documentation.\n",
        "Hi hi hi hi hi\n",
        "\"\"\"\n",
        "\n",
        "# The print() function is used to display output\n",
        "print(\"Hello world\")\n",
        "print(\"HELP\")\n",
        "print(\"MANASA\")"
      ]
    },
    {
      "cell_type": "markdown",
      "metadata": {
        "id": "8Cy9F5sHZ4-B"
      },
      "source": [
        "**Keyboard Shortcuts to Run Code**\n",
        "\n",
        "\n",
        "*   Mac: Command (⌘) + Enter\n",
        "*   Windows: Ctrl + Enter\n"
      ]
    },
    {
      "cell_type": "code",
      "execution_count": 4,
      "metadata": {
        "id": "0Iyg-UKUZsLy"
      },
      "outputs": [],
      "source": [
        "# Now try printing your name!"
      ]
    },
    {
      "cell_type": "markdown",
      "metadata": {
        "id": "xyKWUB-Q0YPv"
      },
      "source": [
        "## Basic Arithmetic Operations and Data Types"
      ]
    },
    {
      "cell_type": "code",
      "execution_count": 14,
      "metadata": {
        "id": "dvXP5FTPdLFk"
      },
      "outputs": [
        {
          "name": "stdout",
          "output_type": "stream",
          "text": [
            "11\n",
            "5\n",
            "24\n",
            "2.6666666666666665\n",
            "2\n",
            "512\n"
          ]
        }
      ],
      "source": [
        "# Arithmetic Operators: + - * / % **\n",
        "\n",
        "# Addition +\n",
        "print(8+3)\n",
        "# Subtraction -\n",
        "print(8-3)\n",
        "# Multiplication *\n",
        "print(8*3)\n",
        "# Division /\n",
        "print(8/3)\n",
        "# Modulo % (Gives the quotient of division, e.g., 8 % 3 = 2)\n",
        "print(8%3)\n",
        "# Exponentiation ** (8 to the power of 3)\n",
        "print(8**3)"
      ]
    },
    {
      "cell_type": "code",
      "execution_count": 18,
      "metadata": {
        "colab": {
          "base_uri": "https://localhost:8080/"
        },
        "id": "8dNEkPQ30YPw",
        "outputId": "88851191-2cf0-4a89-8463-f66016be0cd9"
      },
      "outputs": [
        {
          "name": "stdout",
          "output_type": "stream",
          "text": [
            "meow meow\n",
            "!@#$%jkwewuorweprh6546846515648646546\n",
            "10\n",
            "4294967296\n",
            "5.52983837\n"
          ]
        }
      ],
      "source": [
        "# Text inside quotes is known as a string\n",
        "# Can use either \"\" or '', both work the same\n",
        "print(\"meow meow\")\n",
        "# This is to show you that the string can contain any special characters\n",
        "print(\"!@#$%jkwewuorweprh6546846515648646546\")\n",
        "# Integers are whole numbers\n",
        "print(10)\n",
        "# Long Integers (Python automatically handles big integers)\n",
        "print(2**32)\n",
        "# Floats represent decimal numbers\n",
        "print(5.52983837)\n",
        "# Complex Numbers use 'j' to represent the imaginary part"
      ]
    },
    {
      "cell_type": "markdown",
      "metadata": {
        "id": "DmJBgrZy0YPw"
      },
      "source": [
        "## Boolean\n",
        "*   Booleans represent one of two values: True or False.\n",
        "\n"
      ]
    },
    {
      "cell_type": "code",
      "execution_count": 8,
      "metadata": {
        "id": "tUXDV62x0YPw"
      },
      "outputs": [],
      "source": [
        "a=5\n",
        "b=10%3\n",
        "c=bool(a==b)\n",
        "\n",
        "  # Modulus operation gives the remainder of 10 divided by 3 (which is 1)\n",
        "  # bool() converts the result of the comparison to True or False\n",
        "  # This will print False since 5 is not equal to 1"
      ]
    },
    {
      "cell_type": "code",
      "execution_count": 29,
      "metadata": {
        "id": "rMT50ucpfk8k"
      },
      "outputs": [
        {
          "name": "stdout",
          "output_type": "stream",
          "text": [
            "True\n",
            "False\n",
            "True\n",
            "False\n",
            "True\n",
            "False\n",
            "True\n",
            "True\n",
            "False\n",
            "True\n",
            "True\n"
          ]
        }
      ],
      "source": [
        "# Equals ==\n",
        "print(5==5)\n",
        "print(5==4)\n",
        "# Inqual !=\n",
        "print(5!=4)\n",
        "print(5!=5)\n",
        "# More than >\n",
        "print(5>2)\n",
        "print(5>8)\n",
        "# More than and equal to >=\n",
        "print(9>=9)\n",
        "print(9>=8)\n",
        "print(9>=10)\n",
        "# Less than <\n",
        "print(6<9)\n",
        "# Less than and equal to <=\n",
        "print(8<=10)"
      ]
    },
    {
      "cell_type": "code",
      "execution_count": 37,
      "metadata": {
        "id": "DuSwiBLf4FbJ"
      },
      "outputs": [
        {
          "ename": "NameError",
          "evalue": "name 'true' is not defined",
          "output_type": "error",
          "traceback": [
            "\u001b[1;31m---------------------------------------------------------------------------\u001b[0m",
            "\u001b[1;31mNameError\u001b[0m                                 Traceback (most recent call last)",
            "Cell \u001b[1;32mIn[37], line 1\u001b[0m\n\u001b[1;32m----> 1\u001b[0m a\u001b[38;5;241m=\u001b[39m\u001b[43mtrue\u001b[49m\n\u001b[0;32m      2\u001b[0m \u001b[38;5;66;03m# Using Boolean to find the Data Type of a Variable\u001b[39;00m\n\u001b[0;32m      3\u001b[0m \u001b[38;5;66;03m# Use type() to find the data type of a value or variable\u001b[39;00m\n\u001b[0;32m      4\u001b[0m \u001b[38;5;28mtype\u001b[39m(\u001b[38;5;241m10\u001b[39m)\n",
            "\u001b[1;31mNameError\u001b[0m: name 'true' is not defined"
          ]
        }
      ],
      "source": [
        "a=true\n",
        "# Using Boolean to find the Data Type of a Variable\n",
        "# Use type() to find the data type of a value or variable\n",
        "type(10)\n",
        "type(9.0)\n",
        " # A Boolean value can be either True or False.\n",
        " # This checks the type of 'a' and will return <class 'bool'>\n",
        "type(a)\n",
        "# Checking the type of a string\n",
        "  # This will return <class 'str'>, indicating it's a string.\n",
        "\n",
        "# Checking the type of an integer\n",
        "  # This will return <class 'int'>, indicating it's an integer."
      ]
    },
    {
      "cell_type": "markdown",
      "metadata": {
        "id": "UHZRrqmecVhV"
      },
      "source": [
        "## Converting Data types"
      ]
    },
    {
      "cell_type": "code",
      "execution_count": 46,
      "metadata": {
        "id": "lRjGQ9i_cQsH"
      },
      "outputs": [
        {
          "name": "stdout",
          "output_type": "stream",
          "text": [
            "6\n",
            "3.0\n",
            "<class 'str'>\n",
            "True\n",
            "3.142\n",
            "5\n"
          ]
        }
      ],
      "source": [
        "# Convert a float to an integer\n",
        "print(int(6.55555))# Output: 6\n",
        "\n",
        "# Convert an integer to a float\n",
        "print(float(3)) # Output: 3.0\n",
        "\n",
        "# Convert an integer to a string and print its type\n",
        "print(type(str(9)))# Output: <class 'str'>\n",
        "\n",
        "# Convert a non-zero integer to a boolean\n",
        "  # Output: True (Any non-zero value is considered True)\n",
        "print(bool(5))\n",
        "# Note on variable naming:\n",
        "# It's best to avoid using function names as variable names to prevent confusion.\n",
        "decimal_value = 3.142  # Use descriptive names for clarity\n",
        "print(decimal_value)\n",
        "\n",
        "number = 5  #Keep the variable name clear and relevant\n",
        "print(number)"
      ]
    },
    {
      "cell_type": "markdown",
      "metadata": {
        "id": "ixpdw3X90YPx"
      },
      "source": [
        "## Sequence Types: Strings, Lists, and Tuples"
      ]
    },
    {
      "cell_type": "markdown",
      "metadata": {
        "id": "FS4VoI660YPx"
      },
      "source": [
        "### Working with Strings"
      ]
    },
    {
      "cell_type": "code",
      "execution_count": 7,
      "metadata": {
        "id": "cVENYK1E0YPx"
      },
      "outputs": [
        {
          "ename": "SyntaxError",
          "evalue": "invalid syntax (2465806581.py, line 12)",
          "output_type": "error",
          "traceback": [
            "\u001b[1;36m  Cell \u001b[1;32mIn[7], line 12\u001b[1;36m\u001b[0m\n\u001b[1;33m    git status\u001b[0m\n\u001b[1;37m        ^\u001b[0m\n\u001b[1;31mSyntaxError\u001b[0m\u001b[1;31m:\u001b[0m invalid syntax\n"
          ]
        }
      ],
      "source": [
        "# Creating strings\n",
        "name=\"manasa\"\n",
        "print(name)\n",
        "# Combining strings\n",
        "  # Remember to include spaces within the quotes; otherwise, the result will be \"JunYo\" instead of \"Jun Yo\".\n",
        "last_name=\"murari\"\n",
        "print(\"Full name:\"+name+\" \"+last_name)\n",
        "# Alternative Method for String Formatting\n",
        "  # The numbers {0} and {1} correspond to the respective order of the variables: Jun = 0, Yo = 1.\n",
        "print(\"Full name:{0} {1}\".format(name, last_name))\n",
        "\n"
      ]
    },
    {
      "cell_type": "markdown",
      "metadata": {
        "id": "Do3QkLBS0YPy"
      },
      "source": [
        "\n",
        "\n"
      ]
    },
    {
      "cell_type": "markdown",
      "metadata": {
        "id": "UJljv0JyI3MJ"
      },
      "source": [
        "Just some things to note\n",
        "\n",
        "(Example)\n",
        "In the list: list4 = [3, 1, 4, 1, 5]\n",
        "\n",
        "*   **list4** is the **variable** that stores the list.\n",
        "*   **3, 1, 4, 1, 5** are the **elements** in the list.\n",
        "*   **Indexes** represent the **position** of each element, **starting from 0:**\n",
        "     *   '3' is at index 0\n",
        "     *   '1' is at index 1\n",
        "     *   '4' is at index 2\n",
        "     *   '1' is at index 3\n",
        "     *   '5' is at index 4\n",
        "\n",
        "\n",
        "\n",
        "\n",
        "\n",
        "\n",
        "\n",
        "\n",
        "\n",
        "\n",
        "\n",
        "\n",
        "\n",
        "\n"
      ]
    },
    {
      "cell_type": "code",
      "execution_count": 12,
      "metadata": {
        "id": "g8SngCyXoqGt"
      },
      "outputs": [
        {
          "name": "stdout",
          "output_type": "stream",
          "text": [
            "[]\n",
            "[True, 'Monday', 134, 3.14]\n"
          ]
        }
      ],
      "source": [
        " # Empty list\n",
        "list1=[]\n",
        "print(list1)\n",
        "\n",
        "\n",
        "\n",
        " # List with different data types\n",
        "mixedlist=[True, 'Monday',134 ,3.14]\n",
        "print(mixedlist)"
      ]
    },
    {
      "cell_type": "code",
      "execution_count": 16,
      "metadata": {
        "colab": {
          "base_uri": "https://localhost:8080/",
          "height": 70
        },
        "id": "WgtIoTQapNJC",
        "outputId": "2b171962-0c64-4b77-e183-8e2771ebf33a"
      },
      "outputs": [
        {
          "name": "stdout",
          "output_type": "stream",
          "text": [
            "[1, 1, 'yay', 1, 'yay', 1, 'yay']\n",
            "[True, 'Monday', 134, 3.14, 'yay', 'yay']\n"
          ]
        },
        {
          "data": {
            "text/plain": [
              "'\\nNote on the append() method:\\n\\nThe append() method adds the element to the end of the list each time it is executed.\\nCalling append() multiple times (i.e., running this code again) will continue to add the elements to the existing list, rather than starting over.\\n(So, the same element will be added twice if you run the code twice, three times if you run it three times, and so on.)\\nTo reset the list, you can reinitialize it (rerun the code from the beginning).\\n'"
            ]
          },
          "execution_count": 16,
          "metadata": {},
          "output_type": "execute_result"
        }
      ],
      "source": [
        "# Adding elements to a list using the above variables\n",
        "list1.append(1)\n",
        "list1.append(\"yay\")\n",
        "print(list1)\n",
        "  # Adding an integer to the list\n",
        "  # Adding a string to the list\n",
        "  # Output: [1, \"AHH\"]\n",
        "\n",
        "mixedlist.append(\"yay\")\n",
        "print(mixedlist)\n",
        "  # Adding a string to the mixed list\n",
        "  # Output: [True, 'Slay', 173, 3.14, 'AHH']\n",
        "\n",
        "\"\"\"\n",
        "Note on the append() method:\n",
        "\n",
        "The append() method adds the element to the end of the list each time it is executed.\n",
        "Calling append() multiple times (i.e., running this code again) will continue to add the elements to the existing list, rather than starting over.\n",
        "(So, the same element will be added twice if you run the code twice, three times if you run it three times, and so on.)\n",
        "To reset the list, you can reinitialize it (rerun the code from the beginning).\n",
        "\"\"\""
      ]
    },
    {
      "cell_type": "code",
      "execution_count": 19,
      "metadata": {
        "id": "EhMqwM-w0YPy"
      },
      "outputs": [
        {
          "name": "stdout",
          "output_type": "stream",
          "text": [
            "[50, 1, 1, 'yay', 1, 'yay', 1, 'yay']\n"
          ]
        }
      ],
      "source": [
        "# Inserting elements into a list at a specific position\n",
        "# Syntax: list_.insert(position, item)\n",
        "list1.insert(0, 50)\n",
        "print(list1)\n",
        "  # Insert the number 50 at the 0th index (1st number is the position, 2nd is the element to add)\n",
        "  # Output will show 50 at the start of the list"
      ]
    },
    {
      "cell_type": "code",
      "execution_count": 21,
      "metadata": {
        "id": "NYr5u52Rwy6h"
      },
      "outputs": [
        {
          "name": "stdout",
          "output_type": "stream",
          "text": [
            "[1, 'yay', 1, 'yay', 1, 'yay']\n"
          ]
        }
      ],
      "source": [
        "# Deleting elements from a list\n",
        "\n",
        "# Using `del` to delete by index\n",
        "del list1[0]\n",
        "print(list1)\n",
        "  # Deletes the element at index 0 (1st element in the list)\n",
        "  # Output: List with the 1st element removed"
      ]
    },
    {
      "cell_type": "code",
      "execution_count": 27,
      "metadata": {
        "id": "Q05F_xXdFdpx"
      },
      "outputs": [
        {
          "ename": "ValueError",
          "evalue": "list.remove(x): x not in list",
          "output_type": "error",
          "traceback": [
            "\u001b[1;31m---------------------------------------------------------------------------\u001b[0m",
            "\u001b[1;31mValueError\u001b[0m                                Traceback (most recent call last)",
            "Cell \u001b[1;32mIn[27], line 2\u001b[0m\n\u001b[0;32m      1\u001b[0m \u001b[38;5;66;03m# Alternative Method for Deleting elements from a list\u001b[39;00m\n\u001b[1;32m----> 2\u001b[0m \u001b[43mlist1\u001b[49m\u001b[38;5;241;43m.\u001b[39;49m\u001b[43mremove\u001b[49m\u001b[43m(\u001b[49m\u001b[38;5;124;43m\"\u001b[39;49m\u001b[38;5;124;43myay\u001b[39;49m\u001b[38;5;124;43m\"\u001b[39;49m\u001b[43m)\u001b[49m\n\u001b[0;32m      3\u001b[0m \u001b[38;5;28mprint\u001b[39m(list1)\n\u001b[0;32m      4\u001b[0m \u001b[38;5;66;03m# Using `remove()` to delete by value\u001b[39;00m\n\u001b[0;32m      5\u001b[0m   \u001b[38;5;66;03m# Removes the first occurrence of the value 50 from the list\u001b[39;00m\n\u001b[0;32m      6\u001b[0m   \u001b[38;5;66;03m# Output: List without the first 50\u001b[39;00m\n",
            "\u001b[1;31mValueError\u001b[0m: list.remove(x): x not in list"
          ]
        }
      ],
      "source": [
        "# Alternative Method for Deleting elements from a list\n",
        "list1.remove(\"yay\")\n",
        "print(list1)\n",
        "# Using `remove()` to delete by value\n",
        "  # Removes the first occurrence of the value 50 from the list\n",
        "  # Output: List without the first 50"
      ]
    },
    {
      "cell_type": "code",
      "execution_count": 42,
      "metadata": {
        "id": "Qxd8-H6oG0a0"
      },
      "outputs": [
        {
          "name": "stdout",
          "output_type": "stream",
          "text": [
            "0\n"
          ]
        }
      ],
      "source": [
        "# List Indexing\n",
        "list4 = [3, 1, 4, 1, 5]\n",
        "index_list4 = list4.index(3)\n",
        "print(index_list4)\n",
        "  # Finds the index position of the element '3' in the list\n",
        "  # Output: 0 (since '3' is at the 0th index)"
      ]
    },
    {
      "cell_type": "code",
      "execution_count": 31,
      "metadata": {
        "id": "JTsF0nfmSINs"
      },
      "outputs": [
        {
          "name": "stdout",
          "output_type": "stream",
          "text": [
            "1\n",
            "5\n"
          ]
        }
      ],
      "source": [
        "# Finding minimum and maximum values in a list\n",
        "  # Use the min() function to find the smallest element in list4\n",
        "  # Use the max() function to find the largest element in list4\n",
        "min_list4 = min(list4) \n",
        "max_list4 = max(list4)\n",
        "print(min_list4)\n",
        "print(max_list4)\n",
        "\n",
        "# With labels\n",
        "  # Output the minimum value\n",
        "  # Output the maximum value"
      ]
    },
    {
      "cell_type": "code",
      "execution_count": 33,
      "metadata": {
        "id": "vc5SVEzvBK33"
      },
      "outputs": [
        {
          "name": "stdout",
          "output_type": "stream",
          "text": [
            "[1, 2, 3, 4, 5, 6, 9]\n"
          ]
        }
      ],
      "source": [
        "listNum = [4,2,1,3,6,5,9]\n",
        "sorted_listNumList = sorted(listNum)\n",
        "print(sorted_listNumList)\n",
        " # Use the sorted() function to sort the list\n",
        " # Output the sorted list\n"
      ]
    },
    {
      "cell_type": "code",
      "execution_count": 35,
      "metadata": {
        "id": "dI6AzeKIBrvB"
      },
      "outputs": [
        {
          "name": "stdout",
          "output_type": "stream",
          "text": [
            "[9, 6, 5, 4, 3, 2, 1]\n"
          ]
        }
      ],
      "source": [
        "listNum2 = [1,2,3,4,5,6,9]\n",
        "listNum2.reverse() \n",
        "print(listNum2)\n",
        " # Reverse listNum2\n",
        " # Otput the reversed list"
      ]
    },
    {
      "cell_type": "code",
      "execution_count": 36,
      "metadata": {
        "id": "zlonSikNCFQj"
      },
      "outputs": [
        {
          "name": "stdout",
          "output_type": "stream",
          "text": [
            "[]\n"
          ]
        }
      ],
      "source": [
        "listNum2 = [1,2,3,4,5,6,9]\n",
        "listNum2.clear()\n",
        "print(listNum2)\n",
        " # Clear all elements from the list\n",
        " # Print the cleared list"
      ]
    },
    {
      "cell_type": "code",
      "execution_count": 38,
      "metadata": {
        "id": "ZLm22sE7CJ_t"
      },
      "outputs": [
        {
          "name": "stdout",
          "output_type": "stream",
          "text": [
            "['M', 'A', 'Y', 'A', 123]\n"
          ]
        }
      ],
      "source": [
        "list5 = [\"M\" , \"A\" , \"Y\"]\n",
        "list6 = [\"A\" , 123]\n",
        "listAdded = list5 + list6 \n",
        "print(listAdded)\n",
        "\n",
        " # Add the two lists together\n",
        " # Output the added list"
      ]
    },
    {
      "cell_type": "code",
      "execution_count": 39,
      "metadata": {
        "id": "u3FYS3JZCgkc"
      },
      "outputs": [
        {
          "name": "stdout",
          "output_type": "stream",
          "text": [
            "('Manasa', 'Murari', 'Manasa', 'Murari')\n"
          ]
        }
      ],
      "source": [
        "listNames = (\"Manasa\" , \"Murari\")\n",
        "listMultiplied = listNames * 2\n",
        "print(listMultiplied)\n",
        " # Multiply the list by 2\n",
        " # Output the multiplied list"
      ]
    },
    {
      "cell_type": "markdown",
      "metadata": {
        "id": "_YLFb-WGDCs8"
      },
      "source": [
        "### Working with Tuples\n",
        "- Immutable\n",
        "- It is a ordered sequence of values"
      ]
    },
    {
      "cell_type": "code",
      "execution_count": 43,
      "metadata": {
        "id": "kwrmo-XJ0YPy"
      },
      "outputs": [
        {
          "data": {
            "text/plain": [
              "tuple"
            ]
          },
          "execution_count": 43,
          "metadata": {},
          "output_type": "execute_result"
        }
      ],
      "source": [
        "dance = (\"jazz\" , \"tap\")\n",
        "type(dance)\n",
        " # Check the type of the 'parents' variable"
      ]
    },
    {
      "cell_type": "code",
      "execution_count": 46,
      "metadata": {
        "id": "K_PTgd_aEKEI"
      },
      "outputs": [
        {
          "name": "stdout",
          "output_type": "stream",
          "text": [
            "['jazz', 'tap']\n"
          ]
        },
        {
          "data": {
            "text/plain": [
              "list"
            ]
          },
          "execution_count": 46,
          "metadata": {},
          "output_type": "execute_result"
        }
      ],
      "source": [
        "tuplelist = list(dance)\n",
        "print(tuplelist)\n",
        "type(tuplelist)\n",
        " # Output the list\n",
        " # Check the type of 'tuplelist'"
      ]
    },
    {
      "cell_type": "code",
      "execution_count": 49,
      "metadata": {
        "id": "MLliO46RElXM"
      },
      "outputs": [
        {
          "name": "stdout",
          "output_type": "stream",
          "text": [
            "['jazz', 'tap', 'Ballet', 'ballet']\n"
          ]
        }
      ],
      "source": [
        " # Add new line to the list 'tuplelist'\n",
        " # Output the updated list\n",
        " # I edited it and then deleted it, thats why theres Ballet and ballet\n",
        "tuplelist.append(\"ballet\")\n",
        "print(tuplelist)\n"
      ]
    },
    {
      "cell_type": "code",
      "execution_count": 50,
      "metadata": {
        "id": "32Wg2x89GuXA"
      },
      "outputs": [
        {
          "name": "stdout",
          "output_type": "stream",
          "text": [
            "('jazz', 'tap', 'Ballet', 'ballet')\n"
          ]
        }
      ],
      "source": [
        " # Convert the list 'tuplelist' back to a tuple\n",
        " # Check the value of the new tuple\n",
        "new_tuple = tuple(tuplelist)\n",
        "print(new_tuple)"
      ]
    },
    {
      "cell_type": "code",
      "execution_count": 52,
      "metadata": {
        "id": "SS3bxGkbG-vl"
      },
      "outputs": [
        {
          "name": "stdout",
          "output_type": "stream",
          "text": [
            "4\n"
          ]
        }
      ],
      "source": [
        " # Get the length of the list 'tuplelist'\n",
        " # Output of the length\n",
        "length_of_tuplelist = len(tuplelist)\n",
        "print(length_of_tuplelist)"
      ]
    },
    {
      "cell_type": "markdown",
      "metadata": {
        "id": "ZCXp6Jhg0YPy"
      },
      "source": [
        "## Working with Sets\n",
        "\n",
        "{ }\n",
        "- It is an unordered collection with no duplicate elements\n",
        "- Computer implementation of the mathematical concept of a finite set\n",
        "- Mutable"
      ]
    },
    {
      "cell_type": "code",
      "execution_count": 55,
      "metadata": {
        "id": "B5vdCq3P0YPy"
      },
      "outputs": [
        {
          "name": "stdout",
          "output_type": "stream",
          "text": [
            "{'dog', 'cat', 'wolf'}\n"
          ]
        }
      ],
      "source": [
        "\n",
        " # Output of the set\n",
        "x = {\"dog\" , \"cat\" , \"wolf\"}\n",
        "print(x)"
      ]
    },
    {
      "cell_type": "code",
      "execution_count": 56,
      "metadata": {
        "id": "VgrBbY_1HrNx"
      },
      "outputs": [
        {
          "name": "stdout",
          "output_type": "stream",
          "text": [
            "{'dog', 'cat', 'wolf', 'fish'}\n"
          ]
        }
      ],
      "source": [
        " # Add an element to the set\n",
        " # Output of the updated set\n",
        "x.add(\"fish\")\n",
        "print(x)"
      ]
    },
    {
      "cell_type": "code",
      "execution_count": 57,
      "metadata": {
        "id": "MbMyt-oQH80_"
      },
      "outputs": [
        {
          "name": "stdout",
          "output_type": "stream",
          "text": [
            "{'dog', 'wolf', 'fish'}\n"
          ]
        }
      ],
      "source": [
        " # Remove an element from the set\n",
        " # Output of the updated set\n",
        "x.remove(\"cat\")\n",
        "print(x)"
      ]
    },
    {
      "cell_type": "code",
      "execution_count": 59,
      "metadata": {
        "id": "Z6V43JC2IaLt"
      },
      "outputs": [
        {
          "name": "stdout",
          "output_type": "stream",
          "text": [
            "{(1, 2, 3), 4.3, 'Hello'}\n"
          ]
        }
      ],
      "source": [
        "z = {(1,2,3,), \"Hello\", 4.3}\n",
        "print(z)\n",
        "\n",
        " # Output of the set"
      ]
    },
    {
      "cell_type": "code",
      "execution_count": 63,
      "metadata": {
        "id": "sdYsD2okI5cZ"
      },
      "outputs": [
        {
          "name": "stdout",
          "output_type": "stream",
          "text": [
            "[1, 2, 3, 4, 5, 7, 4]\n",
            "{1, 2, 3, 4, 5, 7}\n",
            "<class 'set'>\n"
          ]
        }
      ],
      "source": [
        "r = [1,2,3,4,5,7,4] # Output of the original list\n",
        "print(r)\n",
        "\n",
        "r_set = set(r)# Convert the list to a set (to remove duplicates)\n",
        "print(r_set) # Output of the converted set\n",
        "\n",
        "\n",
        "type_of_r = type(r_set) # Check the data type of r_set\n",
        "print(type_of_r) # Output of the converted set:wq"
      ]
    },
    {
      "cell_type": "markdown",
      "metadata": {
        "id": "fEkjRhbC0YPy"
      },
      "source": [
        "## Working with Dictionaries"
      ]
    },
    {
      "cell_type": "code",
      "execution_count": 35,
      "metadata": {
        "id": "YJCVMWae0YPy"
      },
      "outputs": [],
      "source": [
        "# Creating a dictionary to store information about a person\n",
        "\n",
        "\n",
        "\n",
        "\n",
        "\n",
        "\n",
        "  # Outputs the entire dictionary\n",
        "\n",
        "# Accessing a specific value using the key\n",
        "\n",
        "\n",
        "# Using the get() method to retrieve a value safely\n",
        "\n"
      ]
    }
  ],
  "metadata": {
    "colab": {
      "collapsed_sections": [
        "FS4VoI660YPx"
      ],
      "provenance": []
    },
    "kernelspec": {
      "display_name": "Python 3",
      "language": "python",
      "name": "python3"
    },
    "language_info": {
      "codemirror_mode": {
        "name": "ipython",
        "version": 3
      },
      "file_extension": ".py",
      "mimetype": "text/x-python",
      "name": "python",
      "nbconvert_exporter": "python",
      "pygments_lexer": "ipython3",
      "version": "3.12.6"
    }
  },
  "nbformat": 4,
  "nbformat_minor": 0
}
