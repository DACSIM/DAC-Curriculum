{
 "cells": [
  {
   "cell_type": "markdown",
   "metadata": {},
   "source": [
    "Question 1: Lists\n",
    "Task:\n",
    "(a) Create a list named fruits with the items \"apple\", \"orange\", and \"banana\".\n",
    "(b) Add \"tomato\" to the end of the fruits list.\n",
    "(c) Remove \"apple\" from the fruits list."
   ]
  },
  {
   "cell_type": "code",
   "execution_count": 9,
   "metadata": {},
   "outputs": [
    {
     "name": "stdout",
     "output_type": "stream",
     "text": [
      "['apple', 'orange', 'banana']\n",
      "['apple', 'orange', 'banana', 'tomato']\n",
      "['orange', 'banana', 'tomato']\n"
     ]
    }
   ],
   "source": [
    "# (a)\n",
    "fruit_list = [\"apple\", \"orange\", \"banana\"]\n",
    "print(fruit_list)\n",
    "\n",
    "#(b)\n",
    "fruit_list.append(\"tomato\")\n",
    "print(fruit_list)\n",
    "\n",
    "#(c)\n",
    "fruit_list.remove(\"apple\")\n",
    "print(fruit_list)"
   ]
  },
  {
   "cell_type": "markdown",
   "metadata": {},
   "source": [
    "Question 2: Tuples\n",
    "Task:\n",
    "(a) Create a tuple named subjects with the following elements: \"physics\", \"chemistry\", \"english\", \"math\", and \"biology\".\n",
    "(b) Attempt to append \"literature\" to the tuple and observe the result. Suggest an alternative way to add an element to a tuple.\n",
    "(c) Count the number of elements in the subjects tuple."
   ]
  },
  {
   "cell_type": "code",
   "execution_count": 2,
   "metadata": {},
   "outputs": [
    {
     "name": "stdout",
     "output_type": "stream",
     "text": [
      "('physics', 'chemistry', 'english', 'math', 'biology')\n",
      "['physics', 'chemistry', 'english', 'math', 'biology']\n",
      "['physics', 'chemistry', 'english', 'math', 'biology', 'literature']\n"
     ]
    },
    {
     "data": {
      "text/plain": [
       "6"
      ]
     },
     "execution_count": 2,
     "metadata": {},
     "output_type": "execute_result"
    }
   ],
   "source": [
    "#(a)\n",
    "subject_tuples = (\"physics\", \"chemistry\", \"english\", \"math\", \"biology\")\n",
    "print(subject_tuples)\n",
    "\n",
    "#(b)\n",
    "#subject_tuples.append(\"literature\") -> AttributeError: 'tuple' object has no attribute 'append'\n",
    "\n",
    "subject_tuplelist = list(subject_tuples)\n",
    "print(subject_tuplelist)\n",
    "\n",
    "subject_tuplelist.append(\"literature\")\n",
    "print(subject_tuplelist)\n",
    "\n",
    "#(c)\n",
    "len(subject_tuplelist)\n",
    "\n"
   ]
  },
  {
   "cell_type": "markdown",
   "metadata": {},
   "source": [
    "Question 3: Sorting Lists\n",
    "Task:\n",
    "(a) Create a list named students_id with the values [10, 6, 7, 8, 9, 3].\n",
    "(b) Sort the list in descending order and reinitialize it as sorted_students_id.\n",
    "(c) Remove all elements from the sorted_students_id list."
   ]
  },
  {
   "cell_type": "code",
   "execution_count": 6,
   "metadata": {},
   "outputs": [
    {
     "name": "stdout",
     "output_type": "stream",
     "text": [
      "[10, 6, 7, 8, 9, 3]\n",
      "[10, 9, 8, 7, 6, 3]\n"
     ]
    }
   ],
   "source": [
    "#(a)\n",
    "student_id = [10,6,7,8,9,3]\n",
    "print(student_id)\n",
    "\n",
    "#(b)\n",
    "sorted_student_id = sorted(student_id, reverse = True)\n",
    "print(sorted_student_id)"
   ]
  },
  {
   "cell_type": "markdown",
   "metadata": {},
   "source": [
    "Question 4: Generating Lists\n",
    "Task:\n",
    "Generate a list of numbers starting from 15 and decreasing by 3 each step, until the number is positive (not inclusive of zero). Store it in a variable named desc_list."
   ]
  },
  {
   "cell_type": "code",
   "execution_count": 9,
   "metadata": {},
   "outputs": [
    {
     "name": "stdout",
     "output_type": "stream",
     "text": [
      "[15, 12, 9, 6, 3]\n"
     ]
    }
   ],
   "source": [
    "desc_list = [i for i in range(15, 0, 3)]\n",
    "print(desc_list)"
   ]
  },
  {
   "cell_type": "markdown",
   "metadata": {},
   "source": [
    "Question 5: Generating Lists\n",
    "Task:\n",
    "Generate a list of numbers starting from 2, increasing by 2 each step, until the list contains 14 elements. Store it in a variable named asc_list."
   ]
  },
  {
   "cell_type": "code",
   "execution_count": 12,
   "metadata": {},
   "outputs": [
    {
     "name": "stdout",
     "output_type": "stream",
     "text": [
      "[0, 2, 4, 6, 8, 10, 12, 14, 16, 18, 20, 22, 24, 26]\n"
     ]
    }
   ],
   "source": [
    "asc_list = [i for i in range(0, 2 * 14 - 1, 2)]\n",
    "print(asc_list)"
   ]
  },
  {
   "cell_type": "markdown",
   "metadata": {},
   "source": [
    "Question 6: Combining and Separating Lists\n",
    "Task:\n",
    "Combine the lists generated in Questions 4 and 5 into a single list named combined_list.\n",
    "Separate the even and odd numbers from combined_list into two separate lists: even_numbers and odd_numbers."
   ]
  },
  {
   "cell_type": "code",
   "execution_count": 14,
   "metadata": {},
   "outputs": [
    {
     "name": "stdout",
     "output_type": "stream",
     "text": [
      "[0, 2, 4, 6, 8, 10, 12, 14, 16, 18, 20, 22, 24, 26, 15, 12, 9, 6, 3]\n",
      "[0, 2, 4, 6, 8, 10, 12, 14, 16, 18, 20, 22, 24, 26, 12, 6]\n",
      "[15, 9, 3]\n"
     ]
    }
   ],
   "source": [
    "combined_list = asc_list + desc_list\n",
    "print(combined_list)\n",
    "\n",
    "even_numbers = [i for i in combined_list if i % 2 == 0]\n",
    "odd_numbers = [i for i in combined_list if i % 2 !=0]\n",
    "\n",
    "print(even_numbers)\n",
    "print(odd_numbers)"
   ]
  },
  {
   "cell_type": "markdown",
   "metadata": {},
   "source": [
    "Question 7: Functions\n",
    "Task:\n",
    "Create a function circle_properties(radius) that takes in the radius of a circle and returns both the area and circumference."
   ]
  },
  {
   "cell_type": "code",
   "execution_count": 18,
   "metadata": {},
   "outputs": [],
   "source": [
    "import math \n",
    "\n",
    "def circle_properties(radius):\n",
    "    area = math.pi * radius ** 2\n",
    "    circumference = math.pi * 2 * radius\n",
    "    return area, circumference\n",
    "\n",
    "radius = 5\n",
    "area, circumference = circle_properties(radius)\n",
    "print(\"Area: {0}, Circumference: {1}\".format(area, circumference))"
   ]
  },
  {
   "cell_type": "markdown",
   "metadata": {},
   "source": [
    "Question 8: Custom Function\n",
    "Task:\n",
    "Define a function that performs a task you find interesting. Demonstrate how this function works."
   ]
  },
  {
   "cell_type": "code",
   "execution_count": 6,
   "metadata": {},
   "outputs": [
    {
     "name": "stdout",
     "output_type": "stream",
     "text": [
      "Most frequent element:7 (Frequency:4)\n"
     ]
    }
   ],
   "source": [
    "# The Function: To be able to count the most frequent number found in the list input\n",
    "def most_frequent_element(input_list): \n",
    "    frequency_dict = {}\n",
    "\n",
    "    for element in input_list:\n",
    "        if element in frequency_dict:\n",
    "            frequency_dict[element] += 1\n",
    "        else: \n",
    "            frequency_dict[element] = 1\n",
    "    most_frequent = max(frequency_dict, key=frequency_dict.get)\n",
    "    return most_frequent, frequency_dict[most_frequent]\n",
    "\n",
    "# Example of function \n",
    "input_list = [3,7,3,1,3,7,1,7,7,5]\n",
    "most_frequent, frequency_count = most_frequent_element(input_list)\n",
    "print(\"Most frequent element: {0} (Frequency:{1})\".format(most_frequent, frequency_count))\n"
   ]
  },
  {
   "cell_type": "markdown",
   "metadata": {},
   "source": [
    "Question 9: Creating and Manipulating Dictionaries\n",
    "Task:\n",
    "(a) Create a dictionary named student_grades with the following keys and values: \"Alice\": 85, \"Bob\": 90, and \"Charlie\": 78.\n",
    "(b) Add a new student, \"David\", with a grade of 92 to the student_grades dictionary.\n",
    "(c) Update \"Alice\"'s grade to 88."
   ]
  },
  {
   "cell_type": "code",
   "execution_count": 21,
   "metadata": {},
   "outputs": [
    {
     "name": "stdout",
     "output_type": "stream",
     "text": [
      "{'Alice': 85, 'Bob': 90, 'Charlie': 78}\n",
      "{'Alice': 85, 'Bob': 90, 'Charlie': 78, 'David': 92}\n",
      "{'Alice': 88, 'Bob': 90, 'Charlie': 78, 'David': 92}\n"
     ]
    }
   ],
   "source": [
    "#(a)\n",
    "student_grades = {\n",
    "    \"Alice\" : 85,\n",
    "    \"Bob\" : 90,\n",
    "    \"Charlie\" : 78\n",
    "}\n",
    "print(student_grades)\n",
    "\n",
    "#(b)\n",
    "student_grades[\"David\"] = 92\n",
    "print(student_grades)\n",
    "\n",
    "#(c)\n",
    "student_grades[\"Alice\"] = 88\n",
    "print(student_grades)"
   ]
  },
  {
   "cell_type": "markdown",
   "metadata": {},
   "source": [
    "Question 10: Using Dictionaries to Count Occurrences\n",
    "Task:\n",
    "Given the list of fruits [\"apple\", \"banana\", \"apple\", \"orange\", \"banana\", \"apple\"], create a dictionary named fruit_count that counts the number of times each fruit appears in the list."
   ]
  },
  {
   "cell_type": "code",
   "execution_count": 7,
   "metadata": {},
   "outputs": [
    {
     "name": "stdout",
     "output_type": "stream",
     "text": [
      "{'apple': 3, 'banana': 2, 'orange': 1}\n"
     ]
    }
   ],
   "source": [
    "fruit_list = [\"apple\", \"banana\", \"apple\", \"orange\", \"banana\",\"apple\"]\n",
    "\n",
    "fruit_count = {}\n",
    "\n",
    "for fruit in fruit_list: \n",
    "    if fruit in fruit_count:\n",
    "        fruit_count[fruit] += 1\n",
    "    else: \n",
    "        fruit_count[fruit] = 1\n",
    "\n",
    "print(fruit_count)\n"
   ]
  }
 ],
 "metadata": {
  "kernelspec": {
   "display_name": "Python 3",
   "language": "python",
   "name": "python3"
  },
  "language_info": {
   "codemirror_mode": {
    "name": "ipython",
    "version": 3
   },
   "file_extension": ".py",
   "mimetype": "text/x-python",
   "name": "python",
   "nbconvert_exporter": "python",
   "pygments_lexer": "ipython3",
   "version": "3.11.3"
  }
 },
 "nbformat": 4,
 "nbformat_minor": 2
}
