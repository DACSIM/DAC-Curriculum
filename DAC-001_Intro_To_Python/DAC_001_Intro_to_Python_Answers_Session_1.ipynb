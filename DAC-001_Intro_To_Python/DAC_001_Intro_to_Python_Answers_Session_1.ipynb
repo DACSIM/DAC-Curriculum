{
  "cells": [
    {
      "cell_type": "markdown",
      "metadata": {
        "id": "XB1Co0jipXyX"
      },
      "source": [
        "# DACademy Session 1: Basic GitHub + Intro to Python\n"
      ]
    },
    {
      "cell_type": "markdown",
      "metadata": {
        "id": "kdzTsQtK0YPu"
      },
      "source": [
        "## Comments and Print Statements:"
      ]
    },
    {
      "cell_type": "code",
      "execution_count": null,
      "metadata": {
        "colab": {
          "base_uri": "https://localhost:8080/"
        },
        "id": "v-2yQ1QS0YPu",
        "outputId": "79a4f840-7d1b-4a11-d7d1-ac9c2f8c5c3c"
      },
      "outputs": [
        {
          "name": "stdout",
          "output_type": "stream",
          "text": [
            "Hello World\n"
          ]
        }
      ],
      "source": [
        "# Welcome to DAC!\n",
        "# Single-line comments use the hash symbol (#)\n",
        "# Comments are useful for explaining code or for temporary debugging\n",
        "\n",
        "\"\"\"\n",
        "Multi-line comments are created using triple quotes.\n",
        "They can span multiple lines and are often used for detailed explanations or documentation.\n",
        "Hi hi hi hi hi\n",
        "\"\"\"\n",
        "\n",
        "# The print() function is used to display output\n",
        "print(\"Hello World\")"
      ]
    },
    {
      "cell_type": "markdown",
      "metadata": {
        "id": "8Cy9F5sHZ4-B"
      },
      "source": [
        "**Keyboard Shortcuts to Run Code**\n",
        "\n",
        "\n",
        "*   Mac: Command (⌘) + Enter\n",
        "*   Windows: Ctrl + Enter\n"
      ]
    },
    {
      "cell_type": "code",
      "execution_count": null,
      "metadata": {
        "colab": {
          "base_uri": "https://localhost:8080/"
        },
        "id": "0Iyg-UKUZsLy",
        "outputId": "7a2e178f-0986-4c53-ca7b-4903e0fe12c6"
      },
      "outputs": [
        {
          "name": "stdout",
          "output_type": "stream",
          "text": [
            "Kaavya\n"
          ]
        }
      ],
      "source": [
        "# Now try printing your name!\n",
        "print(\"Kaavya\")"
      ]
    },
    {
      "cell_type": "markdown",
      "metadata": {
        "id": "xyKWUB-Q0YPv"
      },
      "source": [
        "## Basic Arithmetic Operations and Data Types"
      ]
    },
    {
      "cell_type": "code",
      "execution_count": 16,
      "metadata": {
        "colab": {
          "base_uri": "https://localhost:8080/"
        },
        "id": "dvXP5FTPdLFk",
        "outputId": "654528c9-d03f-4c4c-f8c4-38cf26001d88"
      },
      "outputs": [
        {
          "name": "stdout",
          "output_type": "stream",
          "text": [
            "11\n",
            "5\n",
            "24\n",
            "2.6666666666666665\n",
            "2\n",
            "512\n"
          ]
        }
      ],
      "source": [
        "# Arithmetic Operators: + - * / % **\n",
        "\n",
        "# Addition +\n",
        "print(8 + 3)\n",
        "\n",
        "# Subtraction -\n",
        "print(8 - 3)\n",
        "\n",
        "# Multiplication *\n",
        "print(8 * 3)\n",
        "\n",
        "# Division /\n",
        "print(8 / 3)\n",
        "\n",
        "# Modulo % (Gives the remainder of division, e.g., 8 % 3 = 2)\n",
        "print(8 % 3)\n",
        "\n",
        "# Exponentiation **\n",
        "print(8 ** 3)"
      ]
    },
    {
      "cell_type": "code",
      "execution_count": null,
      "metadata": {
        "colab": {
          "base_uri": "https://localhost:8080/"
        },
        "id": "8dNEkPQ30YPw",
        "outputId": "ce46af09-255e-41aa-be44-e87c598c6aba"
      },
      "outputs": [
        {
          "name": "stdout",
          "output_type": "stream",
          "text": [
            "meow meow meow meow\n",
            "meow meow meow meow\n",
            "!@#$%jkwewuorweprh6546846515648646546\n",
            "10\n",
            "4294967296\n",
            "3.14\n",
            "(2+3j)\n"
          ]
        }
      ],
      "source": [
        "# Text inside quotes is known as a string\n",
        "# Can use either \"\" or '', both work the same\n",
        "print(\"meow meow meow meow\")\n",
        "print('meow meow meow meow')\n",
        "\n",
        "# This is to show you that the string can contain any special characters\n",
        "print(\"!@#$%jkwewuorweprh6546846515648646546\")\n",
        "\n",
        "# Integers are whole numbers\n",
        "print(10)\n",
        "\n",
        "# Long Integers (Python automatically handles big integers)\n",
        "print(2**32) # This computes 2 to the power of 32\n",
        "\n",
        "# Floats represent decimal numbers\n",
        "print(3.14)\n",
        "\n",
        "# Complex Numbers use 'j' to represent the imaginary part\n",
        "print(2+3j)"
      ]
    },
    {
      "cell_type": "markdown",
      "metadata": {
        "id": "DmJBgrZy0YPw"
      },
      "source": [
        "## Boolean\n",
        "*   Booleans represent one of two values: True or False.\n",
        "\n"
      ]
    },
    {
      "cell_type": "code",
      "execution_count": null,
      "metadata": {
        "colab": {
          "base_uri": "https://localhost:8080/"
        },
        "id": "tUXDV62x0YPw",
        "outputId": "d20f79e4-fc6c-434e-ad6d-47876d7024b8"
      },
      "outputs": [
        {
          "name": "stdout",
          "output_type": "stream",
          "text": [
            "False\n"
          ]
        }
      ],
      "source": [
        "a = 5\n",
        "b = 10 % 3  # Modulus operation gives the remainder of 10 divided by 3 (which is 1)\n",
        "c = bool(a == b)  # bool() converts the result of the comparison to True or False\n",
        "print(c)  # This will print False since 5 is not equal to 1"
      ]
    },
    {
      "cell_type": "code",
      "execution_count": null,
      "metadata": {
        "colab": {
          "base_uri": "https://localhost:8080/"
        },
        "id": "rMT50ucpfk8k",
        "outputId": "69142ccc-18a1-4b8e-f2c8-3453e2ffc857"
      },
      "outputs": [
        {
          "name": "stdout",
          "output_type": "stream",
          "text": [
            "True\n",
            "False\n",
            "True\n",
            "True\n",
            "True\n",
            "False\n",
            "False\n"
          ]
        }
      ],
      "source": [
        "# Equals ==\n",
        "print(5==5)\n",
        "print(5==4)\n",
        "\n",
        "# Inqual !=\n",
        "print(5!= 6)\n",
        "\n",
        "# More than >\n",
        "print(5>4)\n",
        "\n",
        "# More than and equal to >=\n",
        "print(6 >= 4)\n",
        "\n",
        "# Less than <\n",
        "print(6 < 4)\n",
        "\n",
        "# Less than and equal to <=\n",
        "print(6 <= 4)"
      ]
    },
    {
      "cell_type": "code",
      "execution_count": null,
      "metadata": {
        "colab": {
          "base_uri": "https://localhost:8080/"
        },
        "id": "DuSwiBLf4FbJ",
        "outputId": "2ae9db54-9d0c-4857-ac61-1f341bf60458"
      },
      "outputs": [
        {
          "name": "stdout",
          "output_type": "stream",
          "text": [
            "<class 'bool'>\n",
            "<class 'str'>\n",
            "<class 'int'>\n"
          ]
        }
      ],
      "source": [
        "# Using Boolean to find the Data Type of a Variable\n",
        "# Use type() to find the data type of a value or variable\n",
        "\n",
        "a = True # A Boolean value can be either True or False.\n",
        "print(type(a))  # This checks the type of 'a' and will return <class 'bool'>\n",
        "\n",
        "# Checking the type of a string\n",
        "print(type(\"I just wanna be part of your SYMPHONYYYY\"))  # This will return <class 'str'>, indicating it's a string.\n",
        "\n",
        "# Checking the type of an integer\n",
        "print(type(4))  # This will return <class 'int'>, indicating it's an integer."
      ]
    },
    {
      "cell_type": "markdown",
      "metadata": {
        "id": "UHZRrqmecVhV"
      },
      "source": [
        "## Converting Data types"
      ]
    },
    {
      "cell_type": "code",
      "execution_count": null,
      "metadata": {
        "colab": {
          "base_uri": "https://localhost:8080/"
        },
        "id": "lRjGQ9i_cQsH",
        "outputId": "310d638d-fe5b-4942-884b-215646998fce"
      },
      "outputs": [
        {
          "name": "stdout",
          "output_type": "stream",
          "text": [
            "<class 'str'>\n",
            "6\n",
            "3.0\n",
            "True\n",
            "3.1423\n",
            "5\n"
          ]
        }
      ],
      "source": [
        "# Convert a float to an integer\n",
        "print(int(6.555555))  # Output: 6\n",
        "\n",
        "# Convert an integer to a float\n",
        "print(float(3))  # Output: 3.0\n",
        "\n",
        "# Convert an integer to a string and print its type\n",
        "print(type(str(6)))  # Output: <class 'str'>\n",
        "\n",
        "# Convert a non-zero integer to a boolean\n",
        "print(bool(5))  # Output: True (Any non-zero value is considered True)\n",
        "\n",
        "# Note on variable naming:\n",
        "# It's best to avoid using function names as variable names to prevent confusion.\n",
        "decimal_value = 3.1423  # Use descriptive names for clarity\n",
        "print(decimal_value)\n",
        "\n",
        "number = 5  # Keep the variable name clear and relevant\n",
        "print(number)"
      ]
    },
    {
      "cell_type": "markdown",
      "metadata": {
        "id": "ixpdw3X90YPx"
      },
      "source": [
        "## Sequence Types: Strings, Lists, and Tuples"
      ]
    },
    {
      "cell_type": "markdown",
      "metadata": {
        "id": "FS4VoI660YPx"
      },
      "source": [
        "### Working with Strings"
      ]
    },
    {
      "cell_type": "code",
      "execution_count": null,
      "metadata": {
        "colab": {
          "base_uri": "https://localhost:8080/"
        },
        "id": "cVENYK1E0YPx",
        "outputId": "3861f190-a7a1-4ebc-cef2-73d5e996d0c1"
      },
      "outputs": [
        {
          "name": "stdout",
          "output_type": "stream",
          "text": [
            "Jun\n",
            "Full Name: Jun Yo\n",
            "Full Name: Jun Yo\n"
          ]
        }
      ],
      "source": [
        "# Creating strings\n",
        "name = \"Jun\"\n",
        "print(name)\n",
        "\n",
        "# Combining strings\n",
        "last_name = \"Yo\"\n",
        "print(\"Full Name: \" + name + \" \" + last_name)  # Remember to include spaces within the quotes; otherwise, the result will be \"JunYo\" instead of \"Jun Yo\".\n",
        "\n",
        "# Alternative Method for String Formatting\n",
        "print(\"Full Name: {0} {1}\".format(name, last_name))  # The numbers {0} and {1} correspond to the respective order of the variables: Jun = 0, Yo = 1."
      ]
    },
    {
      "cell_type": "markdown",
      "metadata": {
        "id": "Do3QkLBS0YPy"
      },
      "source": [
        "### Working with Lists\n",
        "\n",
        "*   [ ]\n",
        "*   It is used to store multiple items in a single variable\n",
        "\n"
      ]
    },
    {
      "cell_type": "markdown",
      "metadata": {
        "id": "UJljv0JyI3MJ"
      },
      "source": [
        "Just some things to note\n",
        "\n",
        "(Example)\n",
        "In the list: list4 = [3, 1, 4, 1, 5]\n",
        "\n",
        "*   **list4** is the **variable** that stores the list.\n",
        "*   **3, 1, 4, 1, 5** are the **elements** in the list.\n",
        "*   **Indexes** represent the **position** of each element, **starting from 0:**\n",
        "     *   '3' is at index 0\n",
        "     *   '1' is at index 1\n",
        "     *   '4' is at index 2\n",
        "     *   '1' is at index 3\n",
        "     *   '5' is at index 4\n",
        "\n",
        "\n",
        "\n",
        "\n",
        "\n",
        "\n",
        "\n",
        "\n",
        "\n",
        "\n",
        "\n",
        "\n",
        "\n",
        "\n"
      ]
    },
    {
      "cell_type": "code",
      "execution_count": null,
      "metadata": {
        "colab": {
          "base_uri": "https://localhost:8080/"
        },
        "id": "g8SngCyXoqGt",
        "outputId": "d83f8d56-3deb-4cbf-f5e3-33609e679471"
      },
      "outputs": [
        {
          "name": "stdout",
          "output_type": "stream",
          "text": [
            "[]\n",
            "['S', 'L', 'A', 'Y']\n",
            "[True, 'Slay', 173, 3.14]\n"
          ]
        }
      ],
      "source": [
        "list1 = [] # Empty list\n",
        "print(list1)\n",
        "\n",
        "list2 = [\"S\", \"L\", \"A\", \"Y\"]\n",
        "print(list2)\n",
        "\n",
        "mixedlist = [True, \"Slay\", 173, 3.14] # List with different data types\n",
        "print(mixedlist)"
      ]
    },
    {
      "cell_type": "code",
      "execution_count": null,
      "metadata": {
        "colab": {
          "base_uri": "https://localhost:8080/",
          "height": 104
        },
        "id": "WgtIoTQapNJC",
        "outputId": "c969bf16-0ab5-419d-b96c-73076f796c8d"
      },
      "outputs": [
        {
          "name": "stdout",
          "output_type": "stream",
          "text": [
            "[1, 'AHH']\n",
            "[True, 'Slay', 173, 3.14, 'AHH']\n"
          ]
        },
        {
          "data": {
            "application/vnd.google.colaboratory.intrinsic+json": {
              "type": "string"
            },
            "text/plain": [
              "'\\nNote on the append() method:\\n\\nThe append() method adds the element to the end of the list each time it is executed.\\nCalling append() multiple times (i.e., running this code again) will continue to add the elements to the existing list, rather than starting over.\\n(So, the same element will be added twice if you run the code twice, three times if you run it three times, and so on.)\\nTo reset the list, you can reinitialize it (rerun the code from the beginning).\\n'"
            ]
          },
          "execution_count": 134,
          "metadata": {},
          "output_type": "execute_result"
        }
      ],
      "source": [
        "# Adding elements to a list using the above variables\n",
        "\n",
        "list1.append(1)  # Adding an integer to the list\n",
        "list1.append(\"AHH\")  # Adding a string to the list\n",
        "print(list1)  # Output: [1, \"AHH\"]\n",
        "\n",
        "mixedlist.append(\"AHH\")  # Adding a string to the mixed list\n",
        "print(mixedlist)  # Output: [True, 'Slay', 173, 3.14, 'AHH']\n",
        "\n",
        "\"\"\"\n",
        "Note on the append() method:\n",
        "\n",
        "The append() method adds the element to the end of the list each time it is executed.\n",
        "Calling append() multiple times (i.e., running this code again) will continue to add the elements to the existing list, rather than starting over.\n",
        "(So, the same element will be added twice if you run the code twice, three times if you run it three times, and so on.)\n",
        "To reset the list, you can reinitialize it (rerun the code from the beginning).\n",
        "\"\"\""
      ]
    },
    {
      "cell_type": "code",
      "execution_count": null,
      "metadata": {
        "colab": {
          "base_uri": "https://localhost:8080/"
        },
        "id": "EhMqwM-w0YPy",
        "outputId": "16d43c32-6e33-4738-9f41-bcbec5f5c677"
      },
      "outputs": [
        {
          "name": "stdout",
          "output_type": "stream",
          "text": [
            "[50, 1, 'AHH']\n"
          ]
        }
      ],
      "source": [
        "# Inserting elements into a list at a specific position\n",
        "# Syntax: list_.insert(position, item)\n",
        "\n",
        "list1.insert(0, 50)  # Insert the number 50 at the 0th index (1st number is the position, 2nd is the element to add)\n",
        "print(list1)  # Output will show 50 at the start of the list"
      ]
    },
    {
      "cell_type": "code",
      "execution_count": null,
      "metadata": {
        "colab": {
          "base_uri": "https://localhost:8080/"
        },
        "id": "NYr5u52Rwy6h",
        "outputId": "b6e4a09f-0ddd-428d-b112-d8fb9fcf5604"
      },
      "outputs": [
        {
          "name": "stdout",
          "output_type": "stream",
          "text": [
            "[1, 'AHH']\n"
          ]
        }
      ],
      "source": [
        "# Deleting elements from a list\n",
        "\n",
        "# Using `del` to delete by index\n",
        "del list1[0]  # Deletes the element at index 0 (1st element in the list)\n",
        "print(list1)  # Output: List with the 1st element removed"
      ]
    },
    {
      "cell_type": "code",
      "execution_count": null,
      "metadata": {
        "colab": {
          "base_uri": "https://localhost:8080/"
        },
        "id": "Q05F_xXdFdpx",
        "outputId": "7cf46af7-396f-4373-d570-409f75ee763a"
      },
      "outputs": [
        {
          "name": "stdout",
          "output_type": "stream",
          "text": [
            "[1]\n"
          ]
        }
      ],
      "source": [
        "# Alternative Method for Deleting elements from a list\n",
        "\n",
        "# Using `remove()` to delete by value\n",
        "list1.remove(\"AHH\")  # Removes the first occurrence of the value 50 from the list\n",
        "print(list1)  # Output: List without the first 50"
      ]
    },
    {
      "cell_type": "code",
      "execution_count": null,
      "metadata": {
        "colab": {
          "base_uri": "https://localhost:8080/"
        },
        "id": "Qxd8-H6oG0a0",
        "outputId": "3b3eb59d-cbf0-4faf-a05d-1506382c434c"
      },
      "outputs": [
        {
          "name": "stdout",
          "output_type": "stream",
          "text": [
            "0\n"
          ]
        }
      ],
      "source": [
        "# List Indexing\n",
        "list4 = [3, 1, 4, 1, 5]\n",
        "index_list4 = list4.index(3)  # Finds the index position of the element '3' in the list\n",
        "print(index_list4)  # Output: 0 (since '3' is at the 0th index)"
      ]
    },
    {
      "cell_type": "code",
      "execution_count": null,
      "metadata": {
        "colab": {
          "base_uri": "https://localhost:8080/"
        },
        "id": "JTsF0nfmSINs",
        "outputId": "15384124-eb59-4598-c397-e717a8e3eba4"
      },
      "outputs": [
        {
          "name": "stdout",
          "output_type": "stream",
          "text": [
            "1\n",
            "5\n",
            "Minimum value: 1\n",
            "Maximum value: 5\n"
          ]
        }
      ],
      "source": [
        "# Finding minimum and maximum values in a list\n",
        "min_list4 = min(list4)  # Use the min() function to find the smallest element in list4\n",
        "max_list4 = max(list4)  # Use the max() function to find the largest element in list4\n",
        "print(min_list4)\n",
        "print(max_list4)\n",
        "\n",
        "# With labels\n",
        "print(\"Minimum value:\", min_list4)  # Output the minimum value\n",
        "print(\"Maximum value:\", max_list4)  # Output the maximum value"
      ]
    },
    {
      "cell_type": "code",
      "execution_count": null,
      "metadata": {
        "colab": {
          "base_uri": "https://localhost:8080/"
        },
        "id": "vc5SVEzvBK33",
        "outputId": "bfebbbdd-f0d9-48de-9ca2-1629f62e1f76"
      },
      "outputs": [
        {
          "name": "stdout",
          "output_type": "stream",
          "text": [
            "[1, 2, 3, 4, 5, 6, 9]\n"
          ]
        }
      ],
      "source": [
        "listNum = [4, 2, 1, 3, 6, 5, 9]\n",
        "\n",
        "sorted_listNumList = sorted(listNum) # Use the sorted() function to sort the list\n",
        "print(sorted_listNumList) # Output the sorted list"
      ]
    },
    {
      "cell_type": "code",
      "execution_count": null,
      "metadata": {
        "colab": {
          "base_uri": "https://localhost:8080/"
        },
        "id": "dI6AzeKIBrvB",
        "outputId": "e6c60c1f-86d1-420f-b2a8-5ba2d91ccdff"
      },
      "outputs": [
        {
          "name": "stdout",
          "output_type": "stream",
          "text": [
            "[9, 6, 5, 4, 3, 2, 1]\n"
          ]
        }
      ],
      "source": [
        "listNum2 = [1, 2, 3, 4, 5, 6, 9]\n",
        "listNum2.reverse() # Reverse listNum2\n",
        "print(listNum2) # Otput the reversed list"
      ]
    },
    {
      "cell_type": "code",
      "execution_count": null,
      "metadata": {
        "colab": {
          "base_uri": "https://localhost:8080/"
        },
        "id": "zlonSikNCFQj",
        "outputId": "325ad13c-1fa8-4d35-ef34-8d5e99384821"
      },
      "outputs": [
        {
          "name": "stdout",
          "output_type": "stream",
          "text": [
            "[]\n"
          ]
        }
      ],
      "source": [
        "listNum2 = [1, 2, 3, 4, 5, 6, 9]\n",
        "listNum2.clear() # Clear all elements from the list\n",
        "print(listNum2) # Print the cleared list"
      ]
    },
    {
      "cell_type": "code",
      "execution_count": null,
      "metadata": {
        "colab": {
          "base_uri": "https://localhost:8080/"
        },
        "id": "ZLm22sE7CJ_t",
        "outputId": "95f58b76-8be1-4fc8-ab65-939b506d2041"
      },
      "outputs": [
        {
          "name": "stdout",
          "output_type": "stream",
          "text": [
            "['K', 'A', 'A', 'V', 'Y', 'A', 'M', 123]\n"
          ]
        }
      ],
      "source": [
        "list5 = ['K', 'A', 'A', 'V', 'Y', 'A']\n",
        "list6 = ['M', 123]\n",
        "listAdded = list5 + list6 # Add the two lists together\n",
        "print(listAdded) # Output the added list"
      ]
    },
    {
      "cell_type": "code",
      "execution_count": null,
      "metadata": {
        "colab": {
          "base_uri": "https://localhost:8080/"
        },
        "id": "u3FYS3JZCgkc",
        "outputId": "8d1d41e4-9439-4065-9094-1bff9cbd8ca1"
      },
      "outputs": [
        {
          "name": "stdout",
          "output_type": "stream",
          "text": [
            "['Kaavya', 'M', 'Kaavya', 'M']\n"
          ]
        }
      ],
      "source": [
        "listNames = [\"Kaavya\", \"M\"]\n",
        "listMultiplied = listNames * 2 # Multiply the list by 2\n",
        "print(listMultiplied) # Output the multiplied list"
      ]
    },
    {
      "cell_type": "markdown",
      "metadata": {
        "id": "_YLFb-WGDCs8"
      },
      "source": [
        "### Working with Tuples\n",
        "- Immutable\n",
        "- It is a ordered sequence of values"
      ]
    },
    {
      "cell_type": "code",
      "execution_count": null,
      "metadata": {
        "colab": {
          "base_uri": "https://localhost:8080/"
        },
        "id": "kwrmo-XJ0YPy",
        "outputId": "3719129d-9c04-4e77-fc8b-dd7215ccea43"
      },
      "outputs": [
        {
          "data": {
            "text/plain": [
              "tuple"
            ]
          },
          "execution_count": 2,
          "metadata": {},
          "output_type": "execute_result"
        }
      ],
      "source": [
        "dance = (\"If u dance\", \"I'll dance\")\n",
        "type(dance) # Check the type of the 'parents' variable"
      ]
    },
    {
      "cell_type": "code",
      "execution_count": null,
      "metadata": {
        "colab": {
          "base_uri": "https://localhost:8080/"
        },
        "id": "K_PTgd_aEKEI",
        "outputId": "579f07d6-09fb-4547-edd8-659d3cf2b09e"
      },
      "outputs": [
        {
          "name": "stdout",
          "output_type": "stream",
          "text": [
            "['If u dance', \"I'll dance\"]\n"
          ]
        },
        {
          "data": {
            "text/plain": [
              "list"
            ]
          },
          "execution_count": 3,
          "metadata": {},
          "output_type": "execute_result"
        }
      ],
      "source": [
        "tuplelist = list(dance)\n",
        "print(tuplelist) # Output the list\n",
        "type(tuplelist) # Check the type of 'tuplelist'"
      ]
    },
    {
      "cell_type": "code",
      "execution_count": null,
      "metadata": {
        "colab": {
          "base_uri": "https://localhost:8080/"
        },
        "id": "MLliO46RElXM",
        "outputId": "aa0675a6-c53a-4b15-d91c-70c35b19b442"
      },
      "outputs": [
        {
          "name": "stdout",
          "output_type": "stream",
          "text": [
            "['If u dance', \"I'll dance\", \"But if you don't, I'll dance anyway\"]\n"
          ]
        }
      ],
      "source": [
        "tuplelist.append(\"But if you don't, I'll dance anyway\") # Add new line to the list 'tuplelist'\n",
        "print(tuplelist) # Output the updated list"
      ]
    },
    {
      "cell_type": "code",
      "execution_count": null,
      "metadata": {
        "colab": {
          "base_uri": "https://localhost:8080/"
        },
        "id": "32Wg2x89GuXA",
        "outputId": "ee37fa9d-9932-422d-f62e-fe4ef07a57b1"
      },
      "outputs": [
        {
          "name": "stdout",
          "output_type": "stream",
          "text": [
            "('If u dance', \"I'll dance\", \"But if you don't, I'll dance anyway\")\n"
          ]
        }
      ],
      "source": [
        "new_tuple = tuple(tuplelist) # Convert the list 'tuplelist' back to a tuple\n",
        "print(new_tuple) # Check the value of the new tuple"
      ]
    },
    {
      "cell_type": "code",
      "execution_count": null,
      "metadata": {
        "colab": {
          "base_uri": "https://localhost:8080/"
        },
        "id": "SS3bxGkbG-vl",
        "outputId": "32d0d646-078d-4a84-f6e0-838cbcf22354"
      },
      "outputs": [
        {
          "name": "stdout",
          "output_type": "stream",
          "text": [
            "3\n"
          ]
        }
      ],
      "source": [
        "length_of_tuplelist = len(tuplelist) # Get the length of the list 'tuplelist'\n",
        "print(length_of_tuplelist) # Output of the length"
      ]
    },
    {
      "cell_type": "markdown",
      "metadata": {
        "id": "ZCXp6Jhg0YPy"
      },
      "source": [
        "## Working with Sets\n",
        "\n",
        "{ }\n",
        "- It is an unordered collection with no duplicate elements\n",
        "- Computer implementation of the mathematical concept of a finite set\n",
        "- Mutable"
      ]
    },
    {
      "cell_type": "code",
      "execution_count": null,
      "metadata": {
        "colab": {
          "base_uri": "https://localhost:8080/"
        },
        "id": "B5vdCq3P0YPy",
        "outputId": "403e6c67-0405-4bf8-f707-e5725a3d6367"
      },
      "outputs": [
        {
          "name": "stdout",
          "output_type": "stream",
          "text": [
            "{'bird', 'cat', 'dog', 'monkey', 'shark'}\n"
          ]
        }
      ],
      "source": [
        "x = {\"dog\", \"cat\", \"shark\", \"bird\", \"monkey\"}\n",
        "print(x) # Output of the set"
      ]
    },
    {
      "cell_type": "code",
      "execution_count": null,
      "metadata": {
        "colab": {
          "base_uri": "https://localhost:8080/"
        },
        "id": "VgrBbY_1HrNx",
        "outputId": "afb33b17-8c60-4425-af9b-3821065de52b"
      },
      "outputs": [
        {
          "name": "stdout",
          "output_type": "stream",
          "text": [
            "{'bird', 'cat', 'dog', 'monkey', 'dolphin', 'shark'}\n"
          ]
        }
      ],
      "source": [
        "x.add(\"dolphin\") # Add an element to the set\n",
        "print(x) # Output of the updated set"
      ]
    },
    {
      "cell_type": "code",
      "execution_count": null,
      "metadata": {
        "colab": {
          "base_uri": "https://localhost:8080/"
        },
        "id": "MbMyt-oQH80_",
        "outputId": "824d36cc-8a23-4112-f4fd-d0a783d1bf5d"
      },
      "outputs": [
        {
          "name": "stdout",
          "output_type": "stream",
          "text": [
            "{'bird', 'dog', 'monkey', 'dolphin', 'shark'}\n"
          ]
        }
      ],
      "source": [
        "x.remove(\"cat\") # Remove an element from the set\n",
        "print(x) # Output of the updated set"
      ]
    },
    {
      "cell_type": "code",
      "execution_count": null,
      "metadata": {
        "colab": {
          "base_uri": "https://localhost:8080/"
        },
        "id": "Z6V43JC2IaLt",
        "outputId": "5e912cd7-5f9a-43ca-ccc3-92a4be526f8f"
      },
      "outputs": [
        {
          "name": "stdout",
          "output_type": "stream",
          "text": [
            "{2, (1, 2, 3), 'fein fein fein', 4.3}\n"
          ]
        }
      ],
      "source": [
        "z = {(1, 2, 3), \"fein fein fein\", 2, 4.3}\n",
        "print(z) # Output of the set"
      ]
    },
    {
      "cell_type": "code",
      "execution_count": null,
      "metadata": {
        "colab": {
          "base_uri": "https://localhost:8080/"
        },
        "id": "sdYsD2okI5cZ",
        "outputId": "e18f5ada-ee1e-4b0d-e4f5-57ef746ba869"
      },
      "outputs": [
        {
          "name": "stdout",
          "output_type": "stream",
          "text": [
            "[1, 2, 3, 4, 6, 5, 4]\n",
            "{1, 2, 3, 4, 5, 6}\n",
            "<class 'set'>\n"
          ]
        }
      ],
      "source": [
        "r = [1, 2, 3, 4, 6, 5, 4]\n",
        "print(r) # Output of the original list\n",
        "\n",
        "r_set = set(r) # Convert the list to a set (to remove duplicates)\n",
        "print(r_set) # Output of the converted set\n",
        "\n",
        "type_of_r_set = type(r_set) # Check the data type of r_set\n",
        "print(type_of_r_set) # Output of the converted set"
      ]
    },
    {
      "cell_type": "markdown",
      "metadata": {
        "id": "fEkjRhbC0YPy"
      },
      "source": [
        "## Working with Dictionaries"
      ]
    },
    {
      "cell_type": "code",
      "execution_count": null,
      "metadata": {
        "colab": {
          "base_uri": "https://localhost:8080/"
        },
        "id": "YJCVMWae0YPy",
        "outputId": "3d175aad-1ae5-4a1e-fee0-60adb03bbd6d"
      },
      "outputs": [
        {
          "name": "stdout",
          "output_type": "stream",
          "text": [
            "{'first_name': 'Olivia', 'last_name': 'Rodrigo', 'age': 21, 'is_slaying': True}\n",
            "Last Name: Rodrigo\n",
            "First Name: Olivia\n"
          ]
        }
      ],
      "source": [
        "# Creating a dictionary to store information about a person\n",
        "person = {\n",
        "    \"first_name\": \"Olivia\",\n",
        "    \"last_name\": \"Rodrigo\",\n",
        "    \"age\": 21,\n",
        "    \"is_slaying\": True\n",
        "}\n",
        "print(person)  # Outputs the entire dictionary\n",
        "\n",
        "# Accessing a specific value using the key\n",
        "print(\"Last Name:\", person['last_name'])\n",
        "\n",
        "# Using the get() method to retrieve a value safely\n",
        "first_name = person.get(\"first_name\")\n",
        "print(\"First Name:\", first_name)"
      ]
    }
  ],
  "metadata": {
    "colab": {
      "provenance": []
    },
    "kernelspec": {
      "display_name": "Python 3",
      "language": "python",
      "name": "python3"
    },
    "language_info": {
      "codemirror_mode": {
        "name": "ipython",
        "version": 3
      },
      "file_extension": ".py",
      "mimetype": "text/x-python",
      "name": "python",
      "nbconvert_exporter": "python",
      "pygments_lexer": "ipython3",
      "version": "3.11.5"
    }
  },
  "nbformat": 4,
  "nbformat_minor": 0
}
