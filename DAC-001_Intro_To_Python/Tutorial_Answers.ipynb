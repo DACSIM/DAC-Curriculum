{
 "cells": [
  {
   "cell_type": "markdown",
   "metadata": {},
   "source": [
    "Question 1 "
   ]
  },
  {
   "cell_type": "code",
   "execution_count": 3,
   "metadata": {},
   "outputs": [
    {
     "name": "stdout",
     "output_type": "stream",
     "text": [
      "['orange', 'banana', 'tomato']\n"
     ]
    }
   ],
   "source": [
    "#Question 1 a\n",
    "fruits= [\"apple\", \"orange\",\"banana\"]\n",
    "#Question 1 b \n",
    "fruits.append(\"tomato\")\n",
    "#Question 1 c\n",
    "del fruits [0]\n",
    "print(fruits)"
   ]
  },
  {
   "cell_type": "markdown",
   "metadata": {},
   "source": [
    "Question 2"
   ]
  },
  {
   "cell_type": "code",
   "execution_count": 12,
   "metadata": {},
   "outputs": [
    {
     "name": "stdout",
     "output_type": "stream",
     "text": [
      "('physics', 'chemistry', 'english', 'math', 'biology', 'literature')\n",
      "['physics', 'chemistry', 'english', 'math', 'biology', 'literature', 'literature']\n",
      "7\n"
     ]
    }
   ],
   "source": [
    "#Question 2 a\n",
    "subjects= (\"physics\", \"chemistry\", \"english\", \"math\", \"biology\")\n",
    "type (subjects)\n",
    "#Questions 2 b \n",
    "subjects = subjects + (\"literature\",)\n",
    "print(subjects) \n",
    "#alternative method. Note: This will add literature twice \n",
    "subjects = list(subjects)\n",
    "subjects.append (\"literature\")\n",
    "print (subjects)\n",
    "#Questions 2 c \n",
    "length_of_subjects= len(subjects)\n",
    "print (length_of_subjects)"
   ]
  },
  {
   "cell_type": "markdown",
   "metadata": {},
   "source": [
    "Question 3 "
   ]
  },
  {
   "cell_type": "code",
   "execution_count": 14,
   "metadata": {},
   "outputs": [
    {
     "name": "stdout",
     "output_type": "stream",
     "text": [
      "[3, 6, 7, 8, 9, 10]\n",
      "[]\n"
     ]
    }
   ],
   "source": [
    "#Question 3 a \n",
    "students_id = [10, 6, 7, 8, 9, 3]\n",
    "#Question 3 b \n",
    "sorted_students_id = sorted (students_id)\n",
    "print (sorted_students_id)\n",
    "#Question 3 c\n",
    "students_id.clear ()\n",
    "print (students_id)"
   ]
  },
  {
   "cell_type": "markdown",
   "metadata": {},
   "source": [
    "Question 4"
   ]
  },
  {
   "cell_type": "code",
   "execution_count": 15,
   "metadata": {},
   "outputs": [
    {
     "name": "stdout",
     "output_type": "stream",
     "text": [
      "[15, 12, 9, 6, 3]\n"
     ]
    }
   ],
   "source": [
    "#Question 4 \n",
    "desc_list = list(range(15,0,-3))\n",
    "print(desc_list)"
   ]
  },
  {
   "cell_type": "markdown",
   "metadata": {},
   "source": [
    "Question 5"
   ]
  },
  {
   "cell_type": "code",
   "execution_count": 18,
   "metadata": {},
   "outputs": [
    {
     "data": {
      "text/plain": [
       "[2, 4, 6, 8, 10, 12, 14, 16, 18, 20, 22, 24, 26, 28]"
      ]
     },
     "execution_count": 18,
     "metadata": {},
     "output_type": "execute_result"
    }
   ],
   "source": [
    "asc_list = [2 * i for i in range(1, 15)]\n",
    "asc_list"
   ]
  },
  {
   "cell_type": "code",
   "execution_count": null,
   "metadata": {},
   "outputs": [],
   "source": []
  }
 ],
 "metadata": {
  "kernelspec": {
   "display_name": "Python 3",
   "language": "python",
   "name": "python3"
  },
  "language_info": {
   "codemirror_mode": {
    "name": "ipython",
    "version": 3
   },
   "file_extension": ".py",
   "mimetype": "text/x-python",
   "name": "python",
   "nbconvert_exporter": "python",
   "pygments_lexer": "ipython3",
   "version": "3.9.6"
  }
 },
 "nbformat": 4,
 "nbformat_minor": 2
}
