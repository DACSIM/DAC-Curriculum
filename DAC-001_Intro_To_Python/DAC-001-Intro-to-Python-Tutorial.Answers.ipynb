{
 "cells": [
  {
   "cell_type": "markdown",
   "metadata": {},
   "source": [
    "**question 1: list**\n",
    "\n",
    "Task\n",
    "\n",
    "(a) Create a list named fruits with the items \"apple\", \"orange\", and \"banana\".\n",
    "\n",
    "(b) Add \"tomato\" to the end of the fruits list.\n",
    "\n",
    "(c) Remove \"apple\" from the fruits list."
   ]
  },
  {
   "cell_type": "code",
   "execution_count": 9,
   "metadata": {},
   "outputs": [
    {
     "name": "stdout",
     "output_type": "stream",
     "text": [
      "['apple', 'orange', 'banana', 'tomato']\n",
      "['orange', 'banana', 'tomato']\n"
     ]
    }
   ],
   "source": [
    "fruits = [\"apple\", \"orange\",\"banana\"]\n",
    "fruits.append(\"tomato\")\n",
    "print(fruits)\n",
    "\n",
    "fruits.remove(\"apple\")\n",
    "print(fruits)"
   ]
  },
  {
   "cell_type": "markdown",
   "metadata": {},
   "source": [
    "**question 2: tuple**"
   ]
  },
  {
   "cell_type": "markdown",
   "metadata": {},
   "source": [
    "Task:\n",
    "\n",
    "(a) Create a tuple named subjects with the following elements: \"physics\", \"chemistry\", \"english\", \"math\", and \"biology\".\n",
    "\n",
    "(b) Attempt to append \"literature\" to the tuple and observe the result. Suggest an alternative way to add an element to a tuple.\n",
    "\n",
    "(c) Count the number of elements in the subjects tuple.\n"
   ]
  },
  {
   "cell_type": "code",
   "execution_count": 20,
   "metadata": {},
   "outputs": [
    {
     "name": "stdout",
     "output_type": "stream",
     "text": [
      "['physics', 'chemistry', 'english', 'math', 'biology', 'literature']\n"
     ]
    },
    {
     "data": {
      "text/plain": [
       "6"
      ]
     },
     "execution_count": 20,
     "metadata": {},
     "output_type": "execute_result"
    }
   ],
   "source": [
    "\n",
    "subjects = (\"physics\",\"chemistry\",\"english\",\"math\",\"biology\")\n",
    "subjects\n",
    "#subjects.append(\"literature\") #Attribute error\n",
    "subjectslist = list(subjects)\n",
    "subjectslist.append(\"literature\")\n",
    "print(subjectslist)\n",
    "#count number of elements \n",
    "len(subjectslist)"
   ]
  },
  {
   "cell_type": "markdown",
   "metadata": {},
   "source": [
    "**question 3: sorting lists**\n",
    "\n",
    "Task:\n",
    "\n",
    "(a) Create a list named students_id with the values [10, 6, 7, 8, 9, 3].\n",
    "\n",
    "(b) Sort the list in descending order and reinitialize it as sorted_students_id.\n",
    "\n",
    "(c) Remove all elements from the sorted_students_id list.\n"
   ]
  },
  {
   "cell_type": "code",
   "execution_count": 38,
   "metadata": {},
   "outputs": [
    {
     "name": "stdout",
     "output_type": "stream",
     "text": [
      "[10, 9, 8, 7, 6, 3]\n",
      "[]\n"
     ]
    }
   ],
   "source": [
    "students_id = [10,6,7,8,9,3]\n",
    "\n",
    "sorted_students_id= sorted(students_id) \n",
    "sorted_students_id.reverse()\n",
    "print(sorted_students_id) \n",
    "\n",
    "sorted_students_id.clear()\n",
    "print(sorted_students_id)"
   ]
  },
  {
   "cell_type": "markdown",
   "metadata": {},
   "source": [
    "**question 4: generating lists**\n",
    "\n",
    "Task:\n",
    "\n",
    "Generate a list of numbers starting from 15 and decreasing by 3 each step, until the number is positive (not inclusive of zero). Store it in a variable named desc_list."
   ]
  },
  {
   "cell_type": "code",
   "execution_count": 46,
   "metadata": {},
   "outputs": [
    {
     "name": "stdout",
     "output_type": "stream",
     "text": [
      "[15, 12, 9, 6, 3]\n"
     ]
    }
   ],
   "source": [
    "list_s = list(range(15, 1, -3))\n",
    "print(list_s)"
   ]
  },
  {
   "cell_type": "markdown",
   "metadata": {},
   "source": [
    "**question 5: Generating Lists**\n",
    "\n",
    "Task:\n",
    "\n",
    "Generate a list of numbers starting from 2, increasing by 2 each step, until the list contains 14 elements. Store it in a variable named asc_list."
   ]
  },
  {
   "cell_type": "code",
   "execution_count": 51,
   "metadata": {},
   "outputs": [
    {
     "name": "stdout",
     "output_type": "stream",
     "text": [
      "[2, 4, 6, 8, 10, 12, 14, 16, 18, 20, 22, 24, 26, 28]\n"
     ]
    },
    {
     "data": {
      "text/plain": [
       "14"
      ]
     },
     "execution_count": 51,
     "metadata": {},
     "output_type": "execute_result"
    }
   ],
   "source": [
    "asc_list =list(range(2,30,2))\n",
    "print(asc_list)\n",
    "\n",
    "len(asc_list)"
   ]
  },
  {
   "cell_type": "markdown",
   "metadata": {},
   "source": [
    "**question 6: Combining and seperating lists**\n",
    "\n",
    "Task:\n",
    "\n",
    "Combine the lists generated in Questions 4 and 5 into a single list named combined_list.\n",
    "Separate the even and odd numbers from combined_list into two separate lists: even_numbers and odd_numbers."
   ]
  },
  {
   "cell_type": "code",
   "execution_count": 56,
   "metadata": {},
   "outputs": [
    {
     "name": "stdout",
     "output_type": "stream",
     "text": [
      "[15, 12, 9, 6, 3, 2, 4, 6, 8, 10, 12, 14, 16, 18, 20, 22, 24, 26, 28]\n",
      "[15, 9, 3]\n",
      "[12, 6, 2, 4, 6, 8, 10, 12, 14, 16, 18, 20, 22, 24, 26, 28]\n"
     ]
    }
   ],
   "source": [
    "combined_list = list_s + asc_list\n",
    "print(combined_list)\n",
    "\n",
    "even_numbers =[]\n",
    "odd_numbers = []\n",
    "\n",
    "for num in combined_list:\n",
    "    if num % 2==0:\n",
    "        even_numbers.append(num)\n",
    "    else:\n",
    "        odd_numbers.append(num)\n",
    "\n",
    "print(odd_numbers)\n",
    "print(even_numbers)"
   ]
  },
  {
   "cell_type": "markdown",
   "metadata": {},
   "source": [
    "**Question 7: Functions**\n",
    "\n",
    "Task:\n",
    "\n",
    "Create a function circle_properties(radius) that takes in the radius of a circle and returns both the area and circumference."
   ]
  },
  {
   "cell_type": "code",
   "execution_count": 125,
   "metadata": {},
   "outputs": [
    {
     "data": {
      "text/plain": [
       "('Area of circle is:', 314.16, 'and', 'Circumference of circle is:', 62.83)"
      ]
     },
     "execution_count": 126,
     "metadata": {},
     "output_type": "execute_result"
    }
   ],
   "source": [
    "import math\n",
    "math.pi\n",
    "\n",
    "radius = 10\n",
    "area = math.pi*radius**2\n",
    "circumference = math.pi*2*radius\n",
    "\n",
    "circle_properties = \"Area of circle is:\",(round(area, ndigits=2)),\"and\",\"Circumference of circle is:\",(round(circumference, ndigits=2))\n",
    "\n",
    "print(circle_properties)\n",
    "\n"
   ]
  },
  {
   "cell_type": "markdown",
   "metadata": {},
   "source": [
    "**question 8: Custom Function**\n",
    "\n",
    "Task:\n",
    "\n",
    "Define a function that performs a task you find interesting. Demonstrate how this function works.\n"
   ]
  },
  {
   "cell_type": "code",
   "execution_count": 129,
   "metadata": {},
   "outputs": [
    {
     "name": "stdout",
     "output_type": "stream",
     "text": [
      "Question: What is the emoji of the day?\n",
      "Today's emoji: 🤢 \n"
     ]
    }
   ],
   "source": [
    "import random\n",
    "import emote\n",
    "\n",
    "#randomize emoji\n",
    "def random_emoji():\n",
    "    responses = [\n",
    "        \"\\U0001F600\", \"\\U0001F642\", \"\\U0001F606\",\"\\U0001F923\", \n",
    "        \"\\U0001F643\", \"\\U0001F609\", \"\\U0001F617\", \"\\U0001F610\", \n",
    "        \"\\U0001F636\", \"\\U0001F62C\", \"\\U0001F922\", \"\\U0001F915\",\n",
    "        \"\\U0001F912\",\"\\U0001F912\", \"\\U0001F634\",\"\\U0001F62A\", \n",
    "        \"\\U0001F917\" \n",
    "    ]\n",
    "    return random.choice(responses)\n",
    "\n",
    "question = \" What is the emoji of the day?\"\n",
    "answer = random_emoji()\n",
    "print(f\"Question:{question}\")\n",
    "print(f\"Today's emoji: {answer} \")"
   ]
  },
  {
   "cell_type": "markdown",
   "metadata": {},
   "source": [
    "**Question 9: Creating and Manipulating Dictionaries**\n",
    "\n",
    "Task:\n",
    "\n",
    "(a) Create a dictionary named student_grades with the following keys and values: \"Alice\": 85, \"Bob\": 90, and \"Charlie\": 78.\n",
    "\n",
    "(b) Add a new student, \"David\", with a grade of 92 to the student_grades dictionary.\n",
    "\n",
    "(c) Update \"Alice\"'s grade to 88."
   ]
  },
  {
   "cell_type": "code",
   "execution_count": null,
   "metadata": {},
   "outputs": [],
   "source": []
  }
 ],
 "metadata": {
  "kernelspec": {
   "display_name": "Python 3",
   "language": "python",
   "name": "python3"
  },
  "language_info": {
   "codemirror_mode": {
    "name": "ipython",
    "version": 3
   },
   "file_extension": ".py",
   "mimetype": "text/x-python",
   "name": "python",
   "nbconvert_exporter": "python",
   "pygments_lexer": "ipython3",
   "version": "3.12.6"
  }
 },
 "nbformat": 4,
 "nbformat_minor": 2
}
